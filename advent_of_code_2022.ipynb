{
 "cells": [
  {
   "cell_type": "code",
   "execution_count": 1,
   "id": "7a7b1435",
   "metadata": {},
   "outputs": [
    {
     "data": {
      "text/html": [
       "<style>.container { width:100% !important; }</style>"
      ],
      "text/plain": [
       "<IPython.core.display.HTML object>"
      ]
     },
     "metadata": {},
     "output_type": "display_data"
    }
   ],
   "source": [
    "import numpy as np\n",
    "from IPython.display import display, HTML\n",
    "display(HTML(\"<style>.container { width:100% !important; }</style>\"))\n",
    "\n",
    "def raw_read_input(day):\n",
    "    with open(f'/Users/kris/Downloads/advent_of_code_2022/day{day}.txt') as file:\n",
    "        return file.read()\n",
    "\n",
    "def read_input(day, dtype=None):\n",
    "    with open(f'/Users/kris/Downloads/advent_of_code_2022/day{day}.txt') as file:\n",
    "        lines = [x.strip('\\n') for x in file.readlines()]\n",
    "        if dtype is not None:\n",
    "            lines = [dtype(x) if x else None for x in lines]\n",
    "        return lines\n",
    "    \n",
    "def read_matrix(day, dtype=np.int32):\n",
    "    lines = read_input(day)\n",
    "    lines = [[dtype(x) for x in line] for line in lines]\n",
    "    return np.array(lines, dtype=dtype)"
   ]
  },
  {
   "cell_type": "markdown",
   "id": "a9c90750",
   "metadata": {},
   "source": [
    "# Day 1"
   ]
  },
  {
   "cell_type": "code",
   "execution_count": 2,
   "id": "628d331d",
   "metadata": {},
   "outputs": [
    {
     "name": "stdout",
     "output_type": "stream",
     "text": [
      "69177\n",
      "207456\n"
     ]
    }
   ],
   "source": [
    "items = raw_read_input(day=1).split('\\n\\n')\n",
    "elfs = [list(map(int, elf_items.strip().split('\\n'))) for elf_items in items]\n",
    "calories = sorted([sum(elf) for elf in elfs], reverse=True)\n",
    "print(calories[0])\n",
    "print(sum(calories[:3]))"
   ]
  },
  {
   "cell_type": "markdown",
   "id": "32a44a7e",
   "metadata": {},
   "source": [
    "# Day 2"
   ]
  },
  {
   "cell_type": "code",
   "execution_count": 3,
   "id": "42daa866",
   "metadata": {},
   "outputs": [
    {
     "name": "stdout",
     "output_type": "stream",
     "text": [
      "9759\n",
      "12429\n"
     ]
    }
   ],
   "source": [
    "def parse_match(match):\n",
    "    player1, player2 = match.split()\n",
    "    return (ord(player1) - ord('A'), ord(player2) - ord('X'))\n",
    "\n",
    "def score_match(match):\n",
    "    opponent, player = match\n",
    "    if (opponent - player + 3) % 3 == 2:\n",
    "        score = 6\n",
    "    else:\n",
    "        score = (opponent == player) * 3\n",
    "    score += player + 1\n",
    "    return score\n",
    "\n",
    "def score_match2(match):\n",
    "    opponent, result = match\n",
    "    score = result * 3\n",
    "    if result == 1:\n",
    "        score += (opponent + 1)\n",
    "    else:\n",
    "        direction = 1 if result == 2 else -1 \n",
    "        score += (opponent + direction + 3) % 3 + 1\n",
    "    return score\n",
    "\n",
    "matches = [parse_match(match) for match in read_input(day=2)]\n",
    "print(sum(score_match(match) for match in matches))\n",
    "print(sum(score_match2(match) for match in matches))"
   ]
  },
  {
   "cell_type": "markdown",
   "id": "68787f42",
   "metadata": {},
   "source": [
    "# Day 3"
   ]
  },
  {
   "cell_type": "code",
   "execution_count": 4,
   "id": "a2bb6582",
   "metadata": {},
   "outputs": [
    {
     "name": "stdout",
     "output_type": "stream",
     "text": [
      "8088\n",
      "2522\n"
     ]
    }
   ],
   "source": [
    "priorities = {chr(ord('a') + priority): priority + 1 for priority in range(26)}\n",
    "priorities.update({chr(ord('A') + priority): priority + 27 for priority in range(26)})\n",
    "\n",
    "backpacks = read_input(day=3)\n",
    "commons = [set(x[:len(x) // 2]) & set(x[len(x) // 2:]) for x in backpacks]\n",
    "print(sum([priorities[letter] for common in commons for letter in common]))\n",
    "\n",
    "group_ids = [\n",
    "    set(backpacks[index]) & set(backpacks[index + 1]) & set(backpacks[index + 2])\n",
    "    for index in range(0, len(backpacks), 3)\n",
    "]\n",
    "print(sum([priorities[letter] for group in group_ids for letter in group]))"
   ]
  },
  {
   "cell_type": "markdown",
   "id": "9c5c71b9",
   "metadata": {},
   "source": [
    "# Day 4"
   ]
  },
  {
   "cell_type": "code",
   "execution_count": 5,
   "id": "aa7b4b8f",
   "metadata": {},
   "outputs": [
    {
     "name": "stdout",
     "output_type": "stream",
     "text": [
      "532\n",
      "854\n"
     ]
    }
   ],
   "source": [
    "pairs = [x.split(',') for x in read_input(day=4)]\n",
    "assignments = [(pair1.split('-'), pair2.split('-')) for pair1, pair2 in pairs]\n",
    "assignments = [(tuple(map(int, pair1)), tuple(map(int, pair2))) for pair1, pair2 in assignments]\n",
    "assignments = [sorted(assignment, key=lambda x: (x[0], -x[1])) for assignment in assignments]\n",
    "print(sum(pair1[1] >= pair2[1] for pair1, pair2 in assignments))\n",
    "print(sum(pair1[1] >= pair2[0] for pair1, pair2 in assignments))"
   ]
  },
  {
   "cell_type": "markdown",
   "id": "6033ba70",
   "metadata": {},
   "source": [
    "# Day 5"
   ]
  },
  {
   "cell_type": "code",
   "execution_count": 6,
   "id": "a68b3517",
   "metadata": {},
   "outputs": [
    {
     "name": "stdout",
     "output_type": "stream",
     "text": [
      "JRVNHHCSJ\n",
      "GNFBSBJLH\n"
     ]
    }
   ],
   "source": [
    "import re\n",
    "from copy import deepcopy\n",
    "\n",
    "lines = read_input(day=5)\n",
    "start_crates = [[] for _ in range(9)]\n",
    "for index, line in enumerate(lines):\n",
    "    if line[:2] == ' 1':\n",
    "        index += 2\n",
    "        break\n",
    "    for letter_index in range(1, len(line), 4):\n",
    "        letter = line[letter_index]\n",
    "        if letter != ' ':\n",
    "            start_crates[letter_index // 4].append(letter)\n",
    "start_crates = [list(reversed(x)) for x in start_crates]\n",
    "\n",
    "def move_crates(crates, orders, version):\n",
    "    for order in orders:\n",
    "        match = re.match(r'move (\\d+) from (\\d) to (\\d)', order)\n",
    "        count, start, end = map(int, match.groups())\n",
    "        start -= 1\n",
    "        end -= 1\n",
    "        count = min(count, len(crates[start]))\n",
    "        chunk = crates[start][-count:]\n",
    "        if version == 9000:\n",
    "            chunk = list(reversed(chunk))\n",
    "        crates[start] = crates[start][:-count]\n",
    "        crates[end].extend(chunk)\n",
    "    print(''.join(crate[-1] for crate in crates))\n",
    "\n",
    "move_crates(deepcopy(start_crates), lines[index:], version=9000)\n",
    "move_crates(deepcopy(start_crates), lines[index:], version=9001)"
   ]
  },
  {
   "cell_type": "markdown",
   "id": "3e1be02e",
   "metadata": {},
   "source": [
    "# Day 6"
   ]
  },
  {
   "cell_type": "code",
   "execution_count": 7,
   "id": "de603208",
   "metadata": {},
   "outputs": [
    {
     "name": "stdout",
     "output_type": "stream",
     "text": [
      "1876\n",
      "2202\n"
     ]
    }
   ],
   "source": [
    "s = read_input(day=6)[0]\n",
    "for index in range(4, len(s)):\n",
    "    if len(set(list(s[index-4:index]))) == 4:\n",
    "        break\n",
    "print(index)\n",
    "for index in range(4, len(s)):\n",
    "    if len(set(list(s[index-14:index]))) == 14:\n",
    "        break\n",
    "print(index)"
   ]
  },
  {
   "cell_type": "markdown",
   "id": "34140825",
   "metadata": {},
   "source": [
    "# Day 7"
   ]
  },
  {
   "cell_type": "code",
   "execution_count": 8,
   "id": "02427815",
   "metadata": {},
   "outputs": [
    {
     "name": "stdout",
     "output_type": "stream",
     "text": [
      "1915606\n",
      "5025657\n"
     ]
    }
   ],
   "source": [
    "from typing import List, Dict, Optional\n",
    "from dataclasses import dataclass\n",
    "\n",
    "@dataclass\n",
    "class File:\n",
    "    name: str\n",
    "    size: int\n",
    "\n",
    "@dataclass\n",
    "class Directory:\n",
    "    name: str\n",
    "    directories: Dict[str, 'Directory']\n",
    "    files: List[File]\n",
    "    parent: Optional['Directory']     \n",
    "    _total_size: int\n",
    "\n",
    "    def __init__(self, name, parent):\n",
    "        self.name = name\n",
    "        self.directories = {}\n",
    "        self.files = []\n",
    "        self.parent = parent\n",
    "        self._total_size = -1\n",
    "        \n",
    "    def get_total_size(self):\n",
    "        if self._total_size > 0:\n",
    "            return self._total_size\n",
    "        \n",
    "        self._total_size = sum(directory.get_total_size() for directory in self.directories.values())\n",
    "        self._total_size += sum(file.size for file in self.files)\n",
    "        return self._total_size\n",
    "        \n",
    "lines = read_input(day=7)\n",
    "root = Directory('/', parent=None)\n",
    "current_dir = root\n",
    "\n",
    "def ls(lines, index, current_dir):\n",
    "    if len(current_dir.directories) or len(current_dir.files):\n",
    "        return\n",
    "    while index < len(lines) and not lines[index].startswith('$'):\n",
    "        type_or_size, name = lines[index].split()\n",
    "        if type_or_size == 'dir':\n",
    "            current_dir.directories[name] = Directory(name, parent=current_dir)\n",
    "        else:\n",
    "            current_dir.files.append(File(name, int(type_or_size)))\n",
    "        index += 1\n",
    "    return index\n",
    "\n",
    "def traverse(current_dir, answer):\n",
    "    if current_dir.get_total_size() < 100000:\n",
    "        answer.append(current_dir)\n",
    "    for directory in current_dir.directories.values():\n",
    "        traverse(directory, answer)\n",
    "\n",
    "def traverse_big(current_dir, answer, check):\n",
    "    if current_dir.get_total_size() >= check:\n",
    "        answer.append(current_dir)\n",
    "    for directory in current_dir.directories.values():\n",
    "        traverse_big(directory, answer, check)\n",
    "\n",
    "index = 1\n",
    "while index < len(lines):\n",
    "    command = lines[index]\n",
    "    index += 1\n",
    "    if command == '$ ls':\n",
    "        index = ls(lines, index, current_dir)\n",
    "    else:\n",
    "        dir_name = command.split(' ')[-1]\n",
    "        current_dir = (\n",
    "            current_dir.parent \n",
    "            if dir_name == '..' else\n",
    "            current_dir.directories[dir_name]\n",
    "        )\n",
    "\n",
    "answer = []\n",
    "traverse(root, answer)\n",
    "print(sum(x.get_total_size() for x in answer))\n",
    "\n",
    "to_free = 30000000 - (70000000 - root.get_total_size())\n",
    "answer = []\n",
    "traverse_big(root, answer, to_free)\n",
    "print(min(x.get_total_size() for x in answer))"
   ]
  },
  {
   "cell_type": "markdown",
   "id": "1acbfb6f",
   "metadata": {},
   "source": [
    "# Day 8"
   ]
  },
  {
   "cell_type": "code",
   "execution_count": 9,
   "id": "5a50da26",
   "metadata": {},
   "outputs": [
    {
     "name": "stdout",
     "output_type": "stream",
     "text": [
      "1796\n",
      "288120\n"
     ]
    }
   ],
   "source": [
    "matrix = read_matrix(day=8, dtype=np.int32)\n",
    "print(\n",
    "    sum(\n",
    "        (\n",
    "            i == 0\n",
    "            or i == matrix.shape[0] - 1\n",
    "            or j == 0\n",
    "            or j == matrix.shape[1] - 1\n",
    "            or np.max(matrix[i, :j]) < matrix[i, j]\n",
    "            or np.max(matrix[i, j + 1 :]) < matrix[i, j]\n",
    "            or np.max(matrix[:i, j]) < matrix[i, j]\n",
    "            or np.max(matrix[i + 1 :, j]) < matrix[i, j]\n",
    "        )\n",
    "        for i in range(matrix.shape[0])\n",
    "        for j in range(matrix.shape[1])\n",
    "    )\n",
    ")\n",
    "\n",
    "print(\n",
    "    max(\n",
    "        np.product(\n",
    "            [\n",
    "                np.argmax(x >= matrix[i, j]) + 1 if np.any(x >= matrix[i, j]) else x.shape[0]\n",
    "                for x in [matrix[:i, j][::-1], matrix[i + 1 :, j], matrix[i, :j][::-1], matrix[i, j + 1 :]]\n",
    "            ]\n",
    "        )\n",
    "        for i in range(matrix.shape[0])\n",
    "        for j in range(matrix.shape[1])\n",
    "    )\n",
    ")"
   ]
  },
  {
   "cell_type": "markdown",
   "id": "c82449f3",
   "metadata": {},
   "source": [
    "# Day 9"
   ]
  },
  {
   "cell_type": "code",
   "execution_count": 10,
   "id": "b6164374",
   "metadata": {},
   "outputs": [
    {
     "name": "stdout",
     "output_type": "stream",
     "text": [
      "5883 2367\n"
     ]
    }
   ],
   "source": [
    "moves = read_input(day=9)\n",
    "\n",
    "def move_to_vector(move):\n",
    "    direction, count = move.split(' ')\n",
    "    direction = {\n",
    "        'L': [0, -1],\n",
    "        'U': [-1, 0],\n",
    "        'R': [0, 1],\n",
    "        'D': [1, 0]\n",
    "    }[direction]\n",
    "    return np.array(direction) * int(count)\n",
    "\n",
    "visited = [set([(0, 0)]) for _ in range(10)]\n",
    "knots = [np.array([0, 0]) for tail in range(10)]\n",
    "\n",
    "for move in moves:\n",
    "    vector = move_to_vector(move)\n",
    "    knots[0] += vector\n",
    "    still_moving = [True for _ in range(9)]\n",
    "    while np.any(still_moving):\n",
    "        for i in range(1, len(knots)):\n",
    "            difference = knots[i - 1] - knots[i]\n",
    "            if np.all(np.abs(difference) <= 1):\n",
    "                still_moving[i - 1] = False\n",
    "                continue\n",
    "            difference = np.sign(knots[i - 1] - knots[i])\n",
    "            knots[i] += difference\n",
    "            visited[i].add(tuple(knots[i].tolist()))\n",
    "print(len(visited[1]), len(visited[-1]))"
   ]
  },
  {
   "cell_type": "markdown",
   "id": "1c18c0c0",
   "metadata": {},
   "source": [
    "# Day 10"
   ]
  },
  {
   "cell_type": "code",
   "execution_count": 11,
   "id": "b1d9f61d",
   "metadata": {
    "scrolled": false
   },
   "outputs": [
    {
     "name": "stdout",
     "output_type": "stream",
     "text": [
      "10760\n"
     ]
    },
    {
     "data": {
      "image/png": "[encoded data removed]",
      "text/plain": [
       "<PIL.Image.Image image mode=L size=384x40>"
      ]
     },
     "execution_count": 11,
     "metadata": {},
     "output_type": "execute_result"
    }
   ],
   "source": [
    "from PIL import Image\n",
    "import cv2\n",
    "\n",
    "instructions = read_input(day=10)\n",
    "instructions = [\n",
    "    [0] if instruction == 'noop' else [0, int(instruction.split(' ')[1])]\n",
    "    for instruction in instructions]\n",
    "instructions = [cycle for instruction in instructions for cycle in instruction]\n",
    "instructions = np.concatenate([[1], np.cumsum(instructions) + 1])\n",
    "print(np.sum(np.prod(np.stack([np.arange(1, len(instructions) + 1), instructions], axis=1)[19::40], axis=1)))\n",
    "\n",
    "instructions = instructions[:-1].reshape((-1, 40))\n",
    "image = np.abs(instructions - np.arange(40)) <= 1\n",
    "\n",
    "image = cv2.resize((255 - image * 255).astype(np.uint8), (6 * 64, 40))\n",
    "Image.fromarray(image, mode='L')"
   ]
  },
  {
   "cell_type": "markdown",
   "id": "7a7f8631",
   "metadata": {},
   "source": [
    "# Day 11"
   ]
  },
  {
   "cell_type": "code",
   "execution_count": 12,
   "id": "9b8571a7",
   "metadata": {
    "scrolled": true
   },
   "outputs": [
    {
     "name": "stdout",
     "output_type": "stream",
     "text": [
      "76728\n",
      "21553910156\n"
     ]
    }
   ],
   "source": [
    "class Monkey:\n",
    "    def __init__(self, monkey_lines):\n",
    "        self.items = list(map(int, monkey_lines[1][len('  Starting items: '):].split(', ')))\n",
    "        self.operation = monkey_lines[2][len('  Operation: new = '):]\n",
    "        self.test_div = int(monkey_lines[3][len('  Test: divisible by '):])\n",
    "        self.true_target = int(monkey_lines[4][len('    If true: throw to monkey '):])\n",
    "        self.false_target = int(monkey_lines[5][len('    If false: throw to monkey '):])\n",
    "        self.inspected_count = 0\n",
    "\n",
    "lines = read_input(day=11)\n",
    "\n",
    "def calculate_monkey_business(rounds, worry_dampener=True):\n",
    "    monkeys = [\n",
    "        Monkey(lines[index:index+8])\n",
    "        for index in range(0, len(lines), 7)\n",
    "    ]\n",
    "    divisors = np.product([monkey.test_div for monkey in monkeys])\n",
    "\n",
    "    for _ in range(rounds):\n",
    "        for monkey_index, monkey in enumerate(monkeys):\n",
    "            for old in monkey.items:\n",
    "                new = eval(monkey.operation)\n",
    "                new = new // 3 if worry_dampener else new % divisors\n",
    "                target_monkey = (\n",
    "                    monkey.true_target\n",
    "                    if new % monkey.test_div == 0 else\n",
    "                    monkey.false_target\n",
    "                )\n",
    "                monkeys[target_monkey].items.append(new)\n",
    "                monkey.inspected_count += 1\n",
    "            monkey.items.clear()\n",
    "    by_inspections = list(sorted(monkey.inspected_count for monkey in monkeys))\n",
    "    print(by_inspections[-1] * by_inspections[-2])\n",
    "\n",
    "calculate_monkey_business(20, worry_dampener=True)\n",
    "calculate_monkey_business(10000, worry_dampener=False)"
   ]
  },
  {
   "cell_type": "markdown",
   "id": "0365933d",
   "metadata": {},
   "source": [
    "# Day 12"
   ]
  },
  {
   "cell_type": "code",
   "execution_count": 13,
   "id": "90bc3fc2",
   "metadata": {},
   "outputs": [
    {
     "data": {
      "text/plain": [
       "508"
      ]
     },
     "execution_count": 13,
     "metadata": {},
     "output_type": "execute_result"
    }
   ],
   "source": [
    "from queue import PriorityQueue\n",
    "from dataclasses import dataclass, field\n",
    "from typing import Tuple\n",
    "import numpy as np\n",
    "\n",
    "lines = read_input(day=12)\n",
    "matrix = np.array([list(x) for x in lines])\n",
    "start_y, start_x = map(lambda x: x[0], np.where(matrix == 'S'))\n",
    "end_y, end_x = map(lambda x: x[0], np.where(matrix == 'E'))\n",
    "matrix[start_y, start_x] = 'a'\n",
    "matrix[end_y, end_x] = 'z'\n",
    "matrix = np.array([[ord(x[0]) - ord('a') for x in row] for row in matrix])\n",
    "\n",
    "@dataclass(order=True)\n",
    "class Item:\n",
    "    distance: int\n",
    "    steps: int = field(compare=False)\n",
    "    coords: Tuple[int, int] = field(compare=False)\n",
    "        \n",
    "DIAGONAL_DIRECTIONS = [(dx, dy) for dx in range(-1, 2) for dy in range(-1, 2) if dx !=0 or dy != 0]\n",
    "DIRECTIONS = [(-1, 0), (1, 0), (0, -1), (0, 1)]\n",
    "\n",
    "visited = {(start_y, start_x): 0}\n",
    "queue = PriorityQueue()\n",
    "queue.put(Item(steps=0, coords=(start_y, start_x), distance=abs(end_y - start_y + end_x - start_x)))\n",
    "\n",
    "old_distance = 200\n",
    "while queue.qsize() > 0:\n",
    "    current = queue.get(block=False)\n",
    "    y, x = current.coords\n",
    "    \n",
    "    for dy, dx in DIRECTIONS:\n",
    "        new_y = y + dy\n",
    "        new_x = x + dx\n",
    "        if (0 > new_y or\n",
    "            new_y >= matrix.shape[0] or\n",
    "            0 > new_x or\n",
    "            new_x >= matrix.shape[1] or\n",
    "            matrix[new_y, new_x] - matrix[y, x] > 1):\n",
    "            continue\n",
    "        new_steps = 0 if matrix[new_y, new_x] == 0 else current.steps + 1\n",
    "        if new_steps >= visited.get((new_y, new_x), np.inf):\n",
    "            continue\n",
    "        queue.put(Item(steps=new_steps, distance=(abs(end_y - new_y) + abs(end_x - new_x)), coords=(new_y, new_x)))\n",
    "        visited[(new_y, new_x)] = new_steps\n",
    "        \n",
    "visited[(end_y, end_x)]"
   ]
  },
  {
   "cell_type": "markdown",
   "id": "65a18fba",
   "metadata": {},
   "source": [
    "# Day 13"
   ]
  },
  {
   "cell_type": "code",
   "execution_count": 14,
   "id": "31bd4daf",
   "metadata": {},
   "outputs": [
    {
     "name": "stdout",
     "output_type": "stream",
     "text": [
      "4734\n",
      "21836\n"
     ]
    }
   ],
   "source": [
    "from functools import cmp_to_key\n",
    "lines = read_input(day=13)\n",
    "\n",
    "def is_ordered(left, right):\n",
    "    if type(left) == int and type(right) == int:\n",
    "        if left == right:\n",
    "            return 0\n",
    "        return -1 if left < right else 1\n",
    "    if type(left) == int:\n",
    "        left = [left]\n",
    "    if type(right) == int:\n",
    "        right = [right]\n",
    "    for index in range(len(left)):\n",
    "        if index == len(right):\n",
    "            return 1\n",
    "        comparison = is_ordered(left[index], right[index])\n",
    "        if comparison == 0:\n",
    "            continue\n",
    "        return comparison\n",
    "    if len(left) == len(right):\n",
    "        return 0\n",
    "    return -1\n",
    "\n",
    "packets = [eval(line) for line in lines if line]\n",
    "print(sum([\n",
    "    index // 2 + 1\n",
    "    for index in range(0, len(packets), 2)\n",
    "    if is_ordered(packets[index], packets[index + 1]) == -1\n",
    "]))\n",
    "\n",
    "decoder1, decoder2 = [[2]], [[6]]\n",
    "packets += [decoder1, decoder2]\n",
    "packets = sorted(packets, key=cmp_to_key(is_ordered))\n",
    "print((packets.index(decoder1) + 1) * (packets.index(decoder2) + 1))\n"
   ]
  },
  {
   "cell_type": "markdown",
   "id": "95c0da2f",
   "metadata": {},
   "source": [
    "# Day 14"
   ]
  },
  {
   "cell_type": "code",
   "execution_count": 15,
   "id": "220aa34d",
   "metadata": {
    "scrolled": false
   },
   "outputs": [
    {
     "name": "stdout",
     "output_type": "stream",
     "text": [
      "592 30367\n"
     ]
    }
   ],
   "source": [
    "import numpy as np\n",
    "import cv2\n",
    "from PIL import Image\n",
    "from IPython.display import clear_output\n",
    "import time\n",
    "\n",
    "lines = read_input(day=14)\n",
    "image = np.zeros((1010, 1010), dtype=np.int32)\n",
    "\n",
    "for line in lines:\n",
    "    steps = line.split(' -> ')\n",
    "    steps = [tuple(map(int, step.split(','))) for step in steps]\n",
    "    last_step = np.array(steps[0])\n",
    "    for step in steps[1:]:\n",
    "        step = np.array(step)\n",
    "        diff = np.sign(step - last_step)\n",
    "        while True:\n",
    "            image[last_step[1], last_step[0]] = 1\n",
    "            if np.all(step == last_step):\n",
    "                break\n",
    "            last_step += diff\n",
    "        image[last_step[1], last_step[0]] = 1\n",
    "        \n",
    "def display_sand(image):\n",
    "    miny, maxy, minx, maxx = 0, 178, 300, 700\n",
    "    cropped_image = image[miny: maxy + 1, minx: maxx + 1]\n",
    "    color_image = np.zeros((cropped_image.shape[0], cropped_image.shape[1], 3))\n",
    "    color_image[cropped_image == 1] = [200, 200, 200]\n",
    "    color_image[cropped_image == 2] = [255, 255, 0]\n",
    "    pil_image = Image.fromarray(cv2.resize(color_image.astype(np.uint8), ((maxx - minx) * 5, (maxy - miny) * 5)), mode='RGB')\n",
    "    display(pil_image)\n",
    "    return pil_image\n",
    "\n",
    "def simulate(image, end_on_floor, visualize=False):\n",
    "    void_index = np.max(np.where(image == 1)[0])\n",
    "    if not end_on_floor:\n",
    "        image[void_index + 2, 0:1000] = 1\n",
    "    round_index = 0\n",
    "    frames = []\n",
    "    while True:\n",
    "        row, column = 0, 500\n",
    "        if image[row, column] != 0:\n",
    "            return round_index, frames\n",
    "        while True:\n",
    "            if row > void_index and end_on_floor:\n",
    "                return round_index, frames\n",
    "            if image[row + 1, column] == 0:\n",
    "                row += 1\n",
    "            elif image[row + 1, column - 1] == 0:\n",
    "                row += 1\n",
    "                column -= 1\n",
    "            elif image[row + 1, column + 1] == 0:\n",
    "                row += 1\n",
    "                column += 1\n",
    "            else:\n",
    "                break\n",
    "        image[row, column] = 2\n",
    "        round_index += 1\n",
    "        if visualize and round_index % (1 if end_on_floor else 100) == 0:\n",
    "            clear_output(True)\n",
    "            frames.append(display_sand(image))\n",
    "answer1, frames1 = simulate(image.copy(), True, visualize=False)\n",
    "answer2, frames2 = simulate(image.copy(), False, visualize=False)\n",
    "print(answer1, answer2)"
   ]
  },
  {
   "cell_type": "markdown",
   "id": "cf56f6c6",
   "metadata": {},
   "source": [
    "# Day 15"
   ]
  },
  {
   "cell_type": "code",
   "execution_count": 16,
   "id": "580cc07a",
   "metadata": {
    "scrolled": false
   },
   "outputs": [
    {
     "data": {
      "application/vnd.jupyter.widget-view+json": {
       "model_id": "083b94d34e10431da7082bd0fa673fd1",
       "version_major": 2,
       "version_minor": 0
      },
      "text/plain": [
       "  0%|          | 0/23 [00:00<?, ?it/s]"
      ]
     },
     "metadata": {},
     "output_type": "display_data"
    },
    {
     "name": "stdout",
     "output_type": "stream",
     "text": [
      "part 2: 12630143363767\n"
     ]
    },
    {
     "data": {
      "text/plain": [
       "4919281"
      ]
     },
     "execution_count": 16,
     "metadata": {},
     "output_type": "execute_result"
    }
   ],
   "source": [
    "import re\n",
    "from tqdm.auto import tqdm\n",
    "\n",
    "lines = read_input(day=15)\n",
    "sensors = [\n",
    "    tuple(map(int, re.match('Sensor at x=(-?\\d+), y=(-?\\d+): closest beacon is at x=(-?\\d+), y=(-?\\d+)', line).groups()))\n",
    "    for line in lines\n",
    "]\n",
    "TARGET_ROW = 2000000\n",
    "COORD_CAP = 4000000\n",
    "\n",
    "def check(point, sensors):\n",
    "    px, py = point\n",
    "    if not (0 <= px <= COORD_CAP and 0 <= py <= COORD_CAP):\n",
    "        return False\n",
    "    matched = False\n",
    "    for sensor in sensors:      \n",
    "        sx, sy, bx, by = sensor\n",
    "        distance = abs(bx - sx) + abs(by - sy)\n",
    "        point_distance = abs(px - sx) + abs(py - sy)\n",
    "        if point_distance <= distance:\n",
    "            matched = True\n",
    "            break\n",
    "    if not matched:\n",
    "        print('part 2:', px * 4000000 + py)\n",
    "        return True\n",
    "    return False\n",
    "    \n",
    "\n",
    "def solve(sensors):    \n",
    "    segments = []\n",
    "    beacons = set()\n",
    "    found = False\n",
    "    sensors = sorted(sensors, key=lambda x: abs(x[2] - x[0]) + abs(x[3] - x[1]))\n",
    "    for sensor in tqdm(sensors):\n",
    "        sx, sy, bx, by = sensor\n",
    "        distance = abs(bx - sx) + abs(by - sy)\n",
    "        for diff in range(distance + 2 if not found else 0):\n",
    "            other_diff = (distance + 1) - diff\n",
    "            if (check((sx + diff, sy + other_diff), sensors) or \n",
    "                check((sx - diff, sy + other_diff), sensors) or\n",
    "                check((sx + diff, sy - other_diff), sensors) or\n",
    "                check((sx - diff, sy - other_diff), sensors)):\n",
    "                found = True\n",
    "                break\n",
    "        extra_distance = distance - abs(sy - TARGET_ROW)\n",
    "        if extra_distance < 0:\n",
    "            continue\n",
    "        segments.append((sx - extra_distance, sx + extra_distance))\n",
    "        if by == TARGET_ROW:\n",
    "            beacons.add(bx)\n",
    "    segments = sorted(segments, key=lambda x: (x[0], -x[1]))\n",
    "    pixels = 0\n",
    "    last = (-np.inf, -np.inf)\n",
    "    for segment in segments:\n",
    "        if segment[1] <= last[1]:\n",
    "            continue\n",
    "        last = max(last[1] + 1, segment[0]), segment[1]\n",
    "        pixels += last[1] - last[0] + 1\n",
    "        for beacon in beacons:\n",
    "            if last[0] <= beacon <= last[1]:\n",
    "                pixels -= 1    \n",
    "        \n",
    "    return pixels\n",
    "        \n",
    "solve(sensors)"
   ]
  },
  {
   "cell_type": "markdown",
   "id": "59f0a0e6",
   "metadata": {},
   "source": [
    "# Day 16"
   ]
  },
  {
   "cell_type": "code",
   "execution_count": 17,
   "id": "4d239ca7",
   "metadata": {},
   "outputs": [
    {
     "name": "stdout",
     "output_type": "stream",
     "text": [
      "1896\n"
     ]
    },
    {
     "data": {
      "application/vnd.jupyter.widget-view+json": {
       "model_id": "fc84e5aa04ee48c080b7691c88a39abe",
       "version_major": 2,
       "version_minor": 0
      },
      "text/plain": [
       "  0%|          | 0/16384 [00:00<?, ?it/s]"
      ]
     },
     "metadata": {},
     "output_type": "display_data"
    },
    {
     "name": "stdout",
     "output_type": "stream",
     "text": [
      "2576\n"
     ]
    }
   ],
   "source": [
    "import re\n",
    "from tqdm.auto import tqdm\n",
    "import itertools\n",
    "\n",
    "lines = read_input(day=16)\n",
    "valves = {}\n",
    "valve_neighbors = {}\n",
    "for line in lines:\n",
    "    match = re.match(r'Valve (\\w+) has flow rate=(\\d+); tunnel[s]? lead[s]? to valve[s]? (.+)', line)\n",
    "    origin, flow, connections = match.groups()\n",
    "    valves[origin] = int(flow)\n",
    "    valve_neighbors[origin] = connections.split(', ')\n",
    "    \n",
    "non_zero = [valve for valve, value in valves.items() if value > 0]\n",
    "def min_distance(current, target, visited, distance, best):\n",
    "    if current == target:\n",
    "        return distance if best > distance else best\n",
    "    for neighbor in valve_neighbors[current]:\n",
    "        if neighbor in visited:\n",
    "            continue\n",
    "        best = min_distance(neighbor, target, visited.copy() | {neighbor}, distance + 1, best)\n",
    "        \n",
    "    return best\n",
    "\n",
    "distances = {\n",
    "    (a, b): min_distance(a, b, {a}, 0, 1000)\n",
    "    for index, a in enumerate(non_zero + ['AA'])\n",
    "    for b in (non_zero + ['AA'])[index + 1:]\n",
    "}\n",
    "distances.update({(b, a): value for (a, b), value in distances.items()})\n",
    "\n",
    "def traverse(current, remaining, time_left, score, flow, best):\n",
    "    potential_score = score + flow * time_left\n",
    "    if potential_score > best:\n",
    "        best = potential_score\n",
    "    if not remaining:\n",
    "        return best\n",
    "    \n",
    "    potential_time_left = time_left\n",
    "    potential_opens = sorted(list(remaining), key=lambda x: valves[x], reverse=True)\n",
    "    for potential_open in potential_opens:\n",
    "        potential_time_left -= 2\n",
    "        potential_score += valves[potential_open] * potential_time_left\n",
    "        if potential_time_left <= 0:\n",
    "            break\n",
    "    if best >= potential_score + 50:\n",
    "        return best\n",
    "    for next_valve in potential_opens:\n",
    "        distance_to = distances[(current, next_valve)]\n",
    "        if time_left <= distance_to:\n",
    "            continue\n",
    "        best = traverse(\n",
    "            next_valve,\n",
    "            remaining.copy().difference({next_valve}),\n",
    "            time_left - (distance_to + 1),\n",
    "            score + (distance_to + 1) * flow,\n",
    "            flow + valves[next_valve],\n",
    "            best\n",
    "        )\n",
    "    return best\n",
    "\n",
    "def two_partitions(S):\n",
    "    res_list = []\n",
    "    for l in range(0,int(len(S)/2)+1):\n",
    "        combis = set(itertools.combinations(S,l))\n",
    "        for c in combis:\n",
    "            res_list.append((sorted(list(c)), sorted(list(S-set(c)))))\n",
    "    return res_list\n",
    "\n",
    "print(traverse('AA', set(non_zero), 30, 0, 0, 0))\n",
    "best = 0\n",
    "for a, b in tqdm(two_partitions(set(non_zero))):\n",
    "    score_a = traverse('AA', set(a), 26, 0, 0, 0)\n",
    "    score_b = traverse('AA', set(b), 26, 0, 0, 0)\n",
    "    if best < score_a + score_b:\n",
    "        best = score_a + score_b\n",
    "print(best)"
   ]
  },
  {
   "cell_type": "markdown",
   "id": "1051d655",
   "metadata": {},
   "source": [
    "# Day 17"
   ]
  },
  {
   "cell_type": "code",
   "execution_count": 18,
   "id": "9bc10931",
   "metadata": {
    "scrolled": false
   },
   "outputs": [
    {
     "name": "stdout",
     "output_type": "stream",
     "text": [
      "part1 3083\n",
      "part2 1532183908048\n"
     ]
    }
   ],
   "source": [
    "flows = read_input(day=17)[0]\n",
    "SHAPES = [\n",
    "    np.array(x, dtype=bool)\n",
    "    for x in [\n",
    "        [[1, 1, 1, 1]],\n",
    "        [[0, 1, 0],\n",
    "         [1, 1, 1],\n",
    "          [0, 1, 0]],\n",
    "        [[0, 0, 1],\n",
    "         [0, 0, 1],\n",
    "         [1, 1, 1]],\n",
    "        [[1],\n",
    "         [1],\n",
    "         [1],\n",
    "         [1]],\n",
    "        [[1, 1],\n",
    "         [1, 1]]\n",
    "    ]\n",
    "]\n",
    "last_cycle = None\n",
    "last_height = None\n",
    "final_step = None\n",
    "TARGET_ROUND = 1000000000000\n",
    "\n",
    "tetris = np.zeros((0, 7), dtype=bool)\n",
    "flow_index = 0\n",
    "for shape_index in range(11000):\n",
    "    ys, xs = np.where(tetris == True)\n",
    "    max_height = min(ys, default=0)\n",
    "    if shape_index == 2022:\n",
    "        print('part1', tetris.shape[0] - max_height)\n",
    "    if shape_index == final_step:\n",
    "        print('part2', tetris.shape[0] - max_height + extra_score)\n",
    "        break\n",
    "    new_shape = SHAPES[shape_index % len(SHAPES)]\n",
    "    to_expand = (new_shape.shape[0] + 3) - max_height\n",
    "    if to_expand >= 0:\n",
    "        tetris = np.pad(tetris, ((to_expand, 0), (0, 0)))\n",
    "    else:\n",
    "        tetris = tetris[abs(to_expand) :]\n",
    "    y_shape, x_shape = 0, 2\n",
    "    while True:\n",
    "        direction = 1 if flows[flow_index] == '>' else -1\n",
    "        flow_index += 1\n",
    "        if flow_index == len(flows):\n",
    "            if last_cycle is not None:\n",
    "                cycle_size = shape_index - last_cycle\n",
    "                extra_score = (\n",
    "                    (TARGET_ROUND - shape_index) // cycle_size * (tetris.shape[0] - max_height - last_height)\n",
    "                )\n",
    "                final_step = (TARGET_ROUND - shape_index) % cycle_size + shape_index\n",
    "            if last_cycle is None:\n",
    "                last_cycle = shape_index\n",
    "                last_height = tetris.shape[0] - max_height\n",
    "            flow_index = 0\n",
    "        if 0 <= x_shape + direction and x_shape + direction + new_shape.shape[1] <= tetris.shape[1]:\n",
    "            if not np.any(\n",
    "                tetris[\n",
    "                    y_shape : y_shape + new_shape.shape[0],\n",
    "                    x_shape + direction : x_shape + direction + new_shape.shape[1],\n",
    "                ]\n",
    "                & new_shape\n",
    "            ):\n",
    "                x_shape += direction\n",
    "        if (y_shape + 1 + new_shape.shape[0] > tetris.shape[0]) or (\n",
    "            np.any(\n",
    "                tetris[y_shape + 1 : y_shape + 1 + new_shape.shape[0], x_shape : x_shape + new_shape.shape[1]]\n",
    "                & new_shape\n",
    "            )\n",
    "        ):\n",
    "            tetris[y_shape : y_shape + new_shape.shape[0], x_shape : x_shape + new_shape.shape[1]] |= new_shape\n",
    "            break\n",
    "        y_shape += 1"
   ]
  },
  {
   "cell_type": "markdown",
   "id": "c11b4890",
   "metadata": {},
   "source": [
    "# Day 18"
   ]
  },
  {
   "cell_type": "code",
   "execution_count": 19,
   "id": "ef386ae9",
   "metadata": {},
   "outputs": [
    {
     "name": "stdout",
     "output_type": "stream",
     "text": [
      "4460 2498\n"
     ]
    }
   ],
   "source": [
    "from collections import defaultdict\n",
    "lines = read_input(day=18)\n",
    "\n",
    "cubes = {tuple(map(int, cube.split(','))) for cube in lines}\n",
    "DIRECTIONS = [\n",
    "    np.array((x, y, z))\n",
    "    for x in range(-1, 2)\n",
    "    for y in range(-1, 2)\n",
    "    for z in range(-1, 2)\n",
    "    if abs(x) + abs(y) + abs(z) == 1\n",
    "]\n",
    "\n",
    "min_coord, max_coord = np.min(list(cubes)) - 1, np.max(list(cubes)) + 1\n",
    "visited = set([(min_coord, min_coord, min_coord)])\n",
    "queue = [np.array((min_coord, min_coord, min_coord))]\n",
    "while queue:\n",
    "    current, *queue = queue\n",
    "    if np.any([\n",
    "        coord < min_coord or coord > max_coord\n",
    "        for coord in current\n",
    "    ]):\n",
    "        continue\n",
    "    for direction in DIRECTIONS:\n",
    "        new = current + direction   \n",
    "        new_key = tuple(new.tolist())\n",
    "        if new_key in cubes or new_key in visited:\n",
    "            continue\n",
    "        visited.add(new_key)\n",
    "        queue.append(new)\n",
    "\n",
    "part1, part2 = 0, 0\n",
    "for cube in cubes:\n",
    "    for direction in DIRECTIONS:\n",
    "        side_cube = tuple((np.array(np.array(cube) + direction)).tolist())\n",
    "        part1 += side_cube not in cubes\n",
    "        part2 += side_cube in visited\n",
    "print(part1, part2)"
   ]
  },
  {
   "cell_type": "markdown",
   "id": "0e100072",
   "metadata": {},
   "source": [
    "# Day 19"
   ]
  },
  {
   "cell_type": "code",
   "execution_count": 20,
   "id": "412e8c21",
   "metadata": {
    "scrolled": false
   },
   "outputs": [
    {
     "name": "stdout",
     "output_type": "stream",
     "text": [
      "[4, 6, 3, 0, 5]\n"
     ]
    },
    {
     "data": {
      "application/vnd.jupyter.widget-view+json": {
       "model_id": "bb999ac099a84272b8df29d44607a162",
       "version_major": 2,
       "version_minor": 0
      },
      "text/plain": [
       "  0%|          | 0/30 [00:00<?, ?it/s]"
      ]
     },
     "metadata": {},
     "output_type": "display_data"
    },
    {
     "name": "stdout",
     "output_type": "stream",
     "text": [
      "1177\n"
     ]
    },
    {
     "data": {
      "application/vnd.jupyter.widget-view+json": {
       "model_id": "59a56f12027d4e43bfe0b4617267e912",
       "version_major": 2,
       "version_minor": 0
      },
      "text/plain": [
       "  0%|          | 0/3 [00:00<?, ?it/s]"
      ]
     },
     "metadata": {},
     "output_type": "display_data"
    },
    {
     "name": "stdout",
     "output_type": "stream",
     "text": [
      "62744\n"
     ]
    }
   ],
   "source": [
    "from dataclasses import dataclass\n",
    "import re\n",
    "from functools import lru_cache, wraps\n",
    "from tqdm.auto import tqdm\n",
    "from frozendict import frozendict\n",
    "\n",
    "def freezeargs(func):\n",
    "    @wraps(func)\n",
    "    def wrapped(*args, **kwargs):\n",
    "        args = tuple([frozendict(arg) if isinstance(arg, dict) else arg for arg in args])\n",
    "        kwargs = {k: frozendict(v) if isinstance(v, dict) else v for k, v in kwargs.items()}\n",
    "        return func(*args, **kwargs)\n",
    "    return wrapped\n",
    "\n",
    "\n",
    "@dataclass(eq=True, frozen=True)\n",
    "class Blueprint:\n",
    "    index: int\n",
    "    ore: int\n",
    "    clay: int\n",
    "    obsidian_ore: int\n",
    "    obsidian_clay: int\n",
    "    geode_ore: int\n",
    "    geode_obsidian: int\n",
    "        \n",
    "    @lru_cache\n",
    "    def max_material(self, material):\n",
    "        if material == 'ore':\n",
    "            return max(self.ore, self.clay, self.geode_ore, self.obsidian_ore)\n",
    "        if material == 'clay':\n",
    "            return self.obsidian_clay\n",
    "        if material == 'obsidian':\n",
    "            return self.geode_obsidian\n",
    "        if material == 'geode':\n",
    "            return 1000\n",
    "        raise ValueError('Invalid material: ' + material)\n",
    "    \n",
    "    @lru_cache\n",
    "    def demand(self, robot):\n",
    "        if robot == 'ore':\n",
    "            return {'ore': self.ore}\n",
    "        if robot == 'clay':\n",
    "            return {'ore': self.clay}\n",
    "        if robot == 'obsidian':\n",
    "            return {'ore': self.obsidian_ore, 'clay': self.obsidian_clay}\n",
    "        if robot == 'geode':\n",
    "            return {'ore': self.geode_ore, 'obsidian': self.geode_obsidian}\n",
    "        raise ValueError('Invalid robot: ' + robot)\n",
    "    \n",
    "    def has_enough(self, supply, robot):\n",
    "        demand = self.demand(robot)\n",
    "        return all(supply[material] >= demand[material] for material in demand)\n",
    "    \n",
    "        \n",
    "regex_match = r'Blueprint (\\d+): Each ore robot costs (\\d+) ore\\. Each clay robot costs (\\d+) ore. Each obsidian robot costs (\\d+) ore and (\\d+) clay\\. Each geode robot costs (\\d+) ore and (\\d+) obsidian\\.'\n",
    "lines = read_input(day=19)\n",
    "blueprints = [Blueprint(*map(int, re.match(regex_match, line).groups())) for line in lines]\n",
    "\n",
    "def run_score(blueprint, production, supply, time_left, robot_type):  \n",
    "    demand = blueprint.demand(robot_type)\n",
    "    new_production = {material: production[material] + int(robot_type == material) for material in production}\n",
    "    new_production = {material: min(new_production[material], blueprint.max_material(material)) for material in new_production}\n",
    "    \n",
    "    new_supply = {material: supply[material] - demand.get(material, 0) + production[material] for material in supply}\n",
    "    for material in new_supply:\n",
    "        if production[material] >= blueprint.max_material(material):\n",
    "            new_supply[material] = blueprint.max_material(material)\n",
    "    \n",
    "    return score_blueprint(blueprint, new_production, new_supply, time_left)\n",
    "\n",
    "\n",
    "@freezeargs\n",
    "@lru_cache(maxsize=None)\n",
    "def score_blueprint(blueprint, production, supply, time_left):\n",
    "    scores = []\n",
    "    for robot_to_build in ['geode', 'obsidian', 'clay', 'ore']:\n",
    "        if (robot_to_build == 'obsidian' and production['clay'] == 0 or \n",
    "            robot_to_build == 'geode' and production['obsidian'] == 0):\n",
    "            continue\n",
    "        if supply[robot_to_build] + time_left * production[robot_to_build] >= blueprint.max_material(robot_to_build) * time_left:\n",
    "            continue\n",
    "        current_supply = supply.copy()\n",
    "        new_time_left = time_left\n",
    "        while new_time_left > 0 and not blueprint.has_enough(current_supply, robot_to_build):\n",
    "            current_supply = {material: current_supply[material] + production[material] for material in current_supply}\n",
    "            new_time_left -= 1\n",
    "        \n",
    "        scores.append(current_supply['geode'] if new_time_left == 0 else run_score(\n",
    "            blueprint, production, current_supply, new_time_left - 1, robot_to_build))\n",
    "    scores.append(supply['geode'] + time_left * production['geode'])\n",
    "    return max(scores)\n",
    "\n",
    "start_production = {\n",
    "    'ore': 1,\n",
    "    'clay': 0,\n",
    "    'obsidian': 0,\n",
    "    'geode': 0\n",
    "}\n",
    "start_supply = {material: 0 for material in start_production}\n",
    "\n",
    "results = [\n",
    "    blueprint.index * score_blueprint(blueprint, start_production, start_supply, 24)\n",
    "    for blueprint in tqdm(blueprints)\n",
    "]\n",
    "print(sum(results))\n",
    "\n",
    "results = [\n",
    "    score_blueprint(blueprint, start_production.copy(), start_supply.copy(), 32)\n",
    "    for blueprint in tqdm(blueprints[:3])\n",
    "]\n",
    "print(np.product(results))"
   ]
  },
  {
   "cell_type": "markdown",
   "id": "4277b775",
   "metadata": {},
   "source": [
    "# Day 20"
   ]
  },
  {
   "cell_type": "code",
   "execution_count": 21,
   "id": "fd727c4f",
   "metadata": {},
   "outputs": [
    {
     "name": "stdout",
     "output_type": "stream",
     "text": [
      "7153\n",
      "6146976244822\n"
     ]
    }
   ],
   "source": [
    "lines = read_input(day=20)\n",
    "numbers_part1 = [[int(number), index] for index, number in enumerate(lines)]\n",
    "numbers_part2 = [[int(number) * 811589153, index] for index, number in enumerate(lines)]\n",
    "\n",
    "def decrypt_coordinates(numbers, rounds):\n",
    "    rotations = len(numbers) - 1\n",
    "    for _ in range(rounds):\n",
    "        index = 0\n",
    "        next_index = 0\n",
    "        while next_index < len(numbers):\n",
    "            move_by, original_order = numbers[index]\n",
    "            if original_order != next_index:\n",
    "                index = (index + 1) % len(numbers)\n",
    "                continue\n",
    "            final_index = (index + move_by) % rotations\n",
    "            if move_by != 0 and final_index == 0:\n",
    "                final_index = rotations\n",
    "\n",
    "            next_index += 1\n",
    "            if final_index == index:\n",
    "                continue\n",
    "            if final_index < index:\n",
    "                numbers = numbers[:final_index] + [numbers[index]] + numbers[final_index: index] + numbers[index + 1:]\n",
    "            else:\n",
    "                numbers = numbers[:index] + numbers[index + 1: final_index + 1] + [numbers[index]] + numbers[final_index + 1:]\n",
    "\n",
    "    index_of = [x[0] for x in numbers].index(0)\n",
    "    return numbers[(index_of + 1000) % len(numbers)][0] + numbers[(index_of + 2000) % len(numbers)][0] + numbers[(index_of + 3000) % len(numbers)][0]\n",
    "print(decrypt_coordinates(numbers_part1, 1))\n",
    "print(decrypt_coordinates(numbers_part2, 10))"
   ]
  },
  {
   "cell_type": "markdown",
   "id": "9cc67fce",
   "metadata": {},
   "source": [
    "# Day 21"
   ]
  },
  {
   "cell_type": "code",
   "execution_count": 22,
   "id": "421f600b",
   "metadata": {
    "scrolled": true
   },
   "outputs": [
    {
     "name": "stdout",
     "output_type": "stream",
     "text": [
      "309248622142100\n",
      "3757272361782\n"
     ]
    }
   ],
   "source": [
    "import operator\n",
    "\n",
    "OPERATORS = {'*': operator.mul, '-': operator.sub, '+': operator.add, '/': operator.truediv}\n",
    "lines = read_input(day=21)\n",
    "monkey_rules = dict([monkey.split(': ') for monkey in lines])\n",
    "\n",
    "def calc(monkey, monkey_values):\n",
    "    if monkey in monkey_values:\n",
    "        return monkey_values[monkey]\n",
    "    try:\n",
    "        left_monkey, operation, right_monkey = monkey_rules[monkey].split(' ')\n",
    "    except:\n",
    "        monkey_values[monkey] = [int(monkey_rules[monkey]), 0]\n",
    "        return monkey_values[monkey]\n",
    "                                 \n",
    "    left_monkey = calc(left_monkey, monkey_values)\n",
    "    right_monkey = calc(right_monkey, monkey_values)\n",
    "    if operation in ['/', '*']:\n",
    "        if right_monkey[1] == 0:\n",
    "            right_monkey[1] = right_monkey[0]\n",
    "        elif left_monkey[1] == 0:\n",
    "            left_monkey[1] = left_monkey[0]\n",
    "    monkey_values[monkey] = [\n",
    "        OPERATORS[operation](left_monkey[index], right_monkey[index])\n",
    "        for index in [0, 1]\n",
    "    ]\n",
    "    return monkey_values[monkey]\n",
    "\n",
    "print(int(calc('root', {})[0]))\n",
    "\n",
    "left, _, right = monkey_rules['root'].split(' ')\n",
    "monkey_values = {'humn': [0, 1]}\n",
    "left, right = calc(left, monkey_values), calc(right, monkey_values)\n",
    "print(int((right[0] - left[0]) / left[1]))"
   ]
  },
  {
   "cell_type": "markdown",
   "id": "5b5b6904",
   "metadata": {},
   "source": [
    "# Day 22"
   ]
  },
  {
   "cell_type": "code",
   "execution_count": 23,
   "id": "1e7727ca",
   "metadata": {},
   "outputs": [
    {
     "name": "stdout",
     "output_type": "stream",
     "text": [
      "Part 1: 27436\n",
      "Part 2: 15426\n"
     ]
    }
   ],
   "source": [
    "import numpy as np\n",
    "import re\n",
    "import sys\n",
    "np.set_printoptions(threshold=sys.maxsize)\n",
    "lines = read_input(day=22)\n",
    "\n",
    "*map_lines, _, instructions = lines\n",
    "max_line = max(len(x) for x in map_lines)\n",
    "matrix = np.array([list(x) + [' '] * (max_line - len(x)) for x in map_lines])\n",
    "instructions = list(zip(re.split(r'\\d+', instructions)[1:], re.split(r'[LR]', instructions)))\n",
    "DIRECTIONS = [[0, 1], [1, 0], [0, -1], [-1, 0]]\n",
    "\n",
    "y, x, facing = 0, np.argmax(matrix[0] == '.'), 0\n",
    "for turn, steps in instructions:\n",
    "    for _ in range(int(steps)):\n",
    "        new_y, new_x = (y + DIRECTIONS[facing][0]) % matrix.shape[0], (x + DIRECTIONS[facing][1]) % matrix.shape[1]\n",
    "        while matrix[new_y, new_x] == ' ':\n",
    "            new_y, new_x = (new_y + DIRECTIONS[facing][0]) % matrix.shape[0], (new_x + DIRECTIONS[facing][1]) % matrix.shape[1]\n",
    "        if matrix[new_y, new_x] == '#':\n",
    "            break\n",
    "        y, x = new_y, new_x\n",
    "    if turn:\n",
    "        facing = (facing + (1 if turn == 'R' else -1)) % 4\n",
    "\n",
    "print('Part 1:', (y + 1) * 1000 + (x + 1) * 4 + facing)\n",
    "\n",
    "cube_neighbors = [\n",
    "    [(4, 0), (3, 0), (1, 2), (2, 3)],\n",
    "    [(5, 0), (2, 0), (0, 2), (3, 3)],\n",
    "    [(5, 1), (4, 0), (0, 1), (1 ,0)],\n",
    "    [(4, 1), (5, 0), (1, 1), (0, 0)],\n",
    "    [(5, 2), (3, 3), (0, 0), (2, 0)],\n",
    "    [(4, 2), (2, 3), (1, 0), (3, 0)]\n",
    "]\n",
    "cube_offsets = [\n",
    "    (100, 0),\n",
    "    (0, 50),\n",
    "    (50, 50),\n",
    "    (150, 0),\n",
    "    (100, 50),\n",
    "    (0, 100),\n",
    "]\n",
    "cube = [matrix[y:y+50, x:x+50] for y, x in cube_offsets]\n",
    "y, x, cube_index, facing, orientation = 0, 0, 1, 0, 0\n",
    "current_cube = cube[cube_index]\n",
    "\n",
    "for turn, steps in instructions:\n",
    "    for _ in range(int(steps)):\n",
    "        new_y, new_x = (y + DIRECTIONS[facing][0]), (x + DIRECTIONS[facing][1])\n",
    "        if new_y < 0:\n",
    "            new_direction = 3\n",
    "        elif new_x < 0:\n",
    "            new_direction = 2\n",
    "        elif new_y == current_cube.shape[0]:\n",
    "            new_direction = 1\n",
    "        elif new_x == current_cube.shape[1]:\n",
    "            new_direction = 0\n",
    "        else:\n",
    "            new_direction = -1\n",
    "        if new_direction >= 0:\n",
    "            new_x %= 50\n",
    "            new_y %= 50\n",
    "            next_cube_index, new_cube_orientation = cube_neighbors[cube_index][(new_direction - orientation) % 4]\n",
    "            new_cube_orientation = (new_cube_orientation + orientation) % 4\n",
    "            new_cube = np.rot90(cube[next_cube_index], k=-new_cube_orientation, axes=(0, 1))\n",
    "            \n",
    "            if new_cube[new_y, new_x] == '#':\n",
    "                break\n",
    "            cube_index = next_cube_index\n",
    "            current_cube = new_cube\n",
    "            orientation = new_cube_orientation\n",
    "            \n",
    "        if current_cube[new_y, new_x] == '#':\n",
    "            break\n",
    "        y, x = new_y, new_x\n",
    "    if turn:\n",
    "        facing = (facing + (1 if turn == 'R' else -1)) % 4\n",
    "\n",
    "for times in range(orientation):\n",
    "    y, x = 49 - x, y\n",
    "facing += orientation\n",
    "\n",
    "print('Part 2:', (y + cube_offsets[cube_index][0] + 1) * 1000 + (x + cube_offsets[cube_index][1] + 1) * 4 + facing)"
   ]
  },
  {
   "cell_type": "markdown",
   "id": "c432d8a9",
   "metadata": {},
   "source": [
    "# Day 23"
   ]
  },
  {
   "cell_type": "code",
   "execution_count": 24,
   "id": "16238e5d",
   "metadata": {
    "scrolled": false
   },
   "outputs": [
    {
     "name": "stdout",
     "output_type": "stream",
     "text": [
      "Part 1: 4045\n",
      "Part 2: 963\n"
     ]
    }
   ],
   "source": [
    "lines = read_input(day=23)\n",
    "matrix = np.array([[x == '#' for x in line] for line in lines])\n",
    "elves = np.array(list(zip(*np.where(matrix))))\n",
    "\n",
    "DIRECTIONS = np.array([\n",
    "    [-1, 0], [-1, -1], [-1, 1],\n",
    "    [1, 0], [1, -1], [1, 1],\n",
    "    [0, -1], [-1, -1], [1, -1],\n",
    "    [0, 1], [-1, 1], [1, 1],\n",
    "])\n",
    "\n",
    "round_index = 0\n",
    "while True:\n",
    "    if round_index == 10:\n",
    "        miny, maxy, minx, maxx = np.min(elves[:, 0]), np.max(elves[:, 0]), np.min(elves[:, 1]), np.max(elves[:, 1])\n",
    "        print('Part 1:', (1 + maxy - miny) * (1 + maxx - minx) - elves.shape[0])\n",
    "    proposals = (elves[:, None, :] + DIRECTIONS[None, ...]).reshape((-1, 2))\n",
    "    elf_positions = set([tuple(x) for x in elves])\n",
    "    new_squares = np.array([tuple(x) in elf_positions for x in proposals])\n",
    "    allowed_directions = np.all(new_squares.reshape(-1, 4, 3) == False, axis=2)\n",
    "    all_allowed_indices = np.where(np.all(allowed_directions == True, axis=1))[0]\n",
    "    if all_allowed_indices.shape[0] == elves.shape[0]:\n",
    "        print('Part 2:', round_index + 1)\n",
    "        break\n",
    "    allowed_directions[all_allowed_indices, :] = False\n",
    "    allowed_directions_and_stay = np.concatenate([allowed_directions, np.array([True] * allowed_directions.shape[0])[..., None]], axis=1)\n",
    "    chosen_action = np.argmax(allowed_directions_and_stay, axis=1)\n",
    "    \n",
    "    proposals = proposals.reshape((-1, DIRECTIONS.shape[0], 2))[:, ::3]\n",
    "    chosen_square = np.concatenate([proposals, elves[:, None, :]], axis=1)[np.arange(chosen_action.shape[0]), chosen_action, :]\n",
    "    \n",
    "    uniques, reverse_index, counts = np.unique(chosen_square, return_counts=True, return_inverse=True, axis=0)\n",
    "    staying_mask = np.array(counts[reverse_index]) != 1\n",
    "    chosen_square[staying_mask] = elves[staying_mask]\n",
    "    elves = chosen_square\n",
    "    \n",
    "    DIRECTIONS = np.roll(DIRECTIONS, shift=-3, axis=0)\n",
    "    round_index += 1"
   ]
  },
  {
   "cell_type": "markdown",
   "id": "c2435ff4",
   "metadata": {},
   "source": [
    "# Day 24"
   ]
  },
  {
   "cell_type": "code",
   "execution_count": 25,
   "id": "9568d35b",
   "metadata": {},
   "outputs": [
    {
     "name": "stdout",
     "output_type": "stream",
     "text": [
      "264 789\n"
     ]
    }
   ],
   "source": [
    "from queue import PriorityQueue\n",
    "from dataclasses import dataclass, field\n",
    "from typing import Tuple\n",
    "import numpy as np\n",
    "\n",
    "lines = read_input(day=24)\n",
    "facing_chart = {char: facing for facing, char in enumerate(['.', '>', 'v', '<', '^'])}\n",
    "matrix = np.array([[facing_chart[char] for char in line[1:-1]] for line in lines[1:-1]])\n",
    "blizzards = np.array([list(x) for x in zip(*np.where(matrix > 0))])\n",
    "blizzards_per_round = [(blizzards, set([tuple(x) for x in blizzards]))]\n",
    "DIRECTIONS = np.array([(0, 1), (1, 0), (0, -1), (-1, 0)])\n",
    "blizzards_facing = DIRECTIONS[matrix[blizzards[: ,0], blizzards[:, 1]] - 1]\n",
    "\n",
    "def get_blizzard_per_round(round_index):\n",
    "    if round_index < len(blizzards_per_round):\n",
    "        return blizzards_per_round[round_index]\n",
    "    current, _ = blizzards_per_round[round_index - 1]\n",
    "    current +=  blizzards_facing\n",
    "    \n",
    "    current[:, 0] = np.mod(current[:, 0], matrix.shape[0])\n",
    "    current[:, 1] = np.mod(current[:, 1], matrix.shape[1])\n",
    "    blizzards_per_round.append((current, set([tuple(x) for x in current])))\n",
    "    return blizzards_per_round[round_index]\n",
    "\n",
    "start_y, start_x = (-1, 0)\n",
    "end_y, end_x = (matrix.shape[0], matrix.shape[1] - 1)\n",
    "\n",
    "@dataclass(order=True)\n",
    "class Item:\n",
    "    distance: int\n",
    "    steps: int = field(compare=False)\n",
    "    coords: Tuple[int, int] = field(compare=False)\n",
    "        \n",
    "def get_distance(start_y, start_x, end_y, end_x, start_turn):\n",
    "    queue = PriorityQueue()\n",
    "    end_distance = abs(end_y - start_y + end_x - start_x)\n",
    "    queue.put(Item(steps=start_turn, coords=(start_y, start_x), distance=end_distance))\n",
    "    visited = set()\n",
    "\n",
    "    while queue.qsize() > 0:\n",
    "        current = queue.get(block=False)\n",
    "        _, blizzards = get_blizzard_per_round(current.steps + 1)\n",
    "        if current.coords not in blizzards:\n",
    "            queue.put(Item(steps=current.steps + 1, coords=current.coords, distance=current.distance + 1))\n",
    "\n",
    "        for dy, dx in DIRECTIONS:\n",
    "            new_y, new_x = current.coords[0] + dy, current.coords[1] + dx\n",
    "            distance_to_end = abs(end_y - new_y) + abs(end_x - new_x)\n",
    "            if distance_to_end == 0:\n",
    "                return current.steps + 1\n",
    "\n",
    "            if (not (0 <= new_y < matrix.shape[0] and 0 <= new_x < matrix.shape[1]) or\n",
    "                (new_y, new_x) in blizzards or\n",
    "                (current.steps + 1, new_y, new_x) in visited):\n",
    "                continue\n",
    "\n",
    "            visited.add((current.steps + 1, new_y, new_x))\n",
    "            queue.put(Item(\n",
    "                steps=current.steps + 1,\n",
    "                coords=(new_y, new_x),\n",
    "                distance=current.steps + 1 + distance_to_end\n",
    "            ))\n",
    "            \n",
    "part1 = get_distance(start_y, start_x, end_y, end_x, 0)\n",
    "mid = get_distance(end_y, end_x, start_y, start_x, part1)\n",
    "part2 = get_distance(start_y, start_x, end_y, end_x, mid)\n",
    "print(part1, part2)"
   ]
  },
  {
   "cell_type": "markdown",
   "id": "411b229a",
   "metadata": {},
   "source": [
    "# Day 25"
   ]
  },
  {
   "cell_type": "code",
   "execution_count": 41,
   "id": "a518dca9",
   "metadata": {},
   "outputs": [
    {
     "name": "stdout",
     "output_type": "stream",
     "text": [
      "2-1-110-=01-1-0-0==2\n"
     ]
    }
   ],
   "source": [
    "lines = read_input(day=25)\n",
    "SNAFU_DIGITS = {\n",
    "    '2': 2,\n",
    "    '1': 1,\n",
    "    '0': 0,\n",
    "    '-': -1,\n",
    "    '=': -2\n",
    "}\n",
    "SNAFU_DIGITS_REVERSED = {digit: snafu for snafu, digit in SNAFU_DIGITS.items()}\n",
    "BASE_DIGIT = 5\n",
    "\n",
    "def to_dec(snafu):\n",
    "    multiplier = 1\n",
    "    result = 0\n",
    "    for snafu_digit in reversed(snafu):\n",
    "        result += multiplier * SNAFU_DIGITS[snafu_digit]\n",
    "        multiplier *= BASE_DIGIT\n",
    "    return result\n",
    "\n",
    "def to_snafu(number):\n",
    "    result = ''\n",
    "    leftover = 0\n",
    "    while number:\n",
    "        current = (number % BASE_DIGIT) + leftover\n",
    "        if current > 2:\n",
    "            current -= BASE_DIGIT\n",
    "            leftover = 1\n",
    "        else:\n",
    "            leftover = 0\n",
    "        result = SNAFU_DIGITS_REVERSED[current] + result\n",
    "        number //= BASE_DIGIT\n",
    "    return result\n",
    "        \n",
    "        \n",
    "total = sum(to_dec(line) for line in lines)\n",
    "print(to_snafu(total))"
   ]
  }
 ],
 "metadata": {
  "kernelspec": {
   "display_name": "Python 3 (ipykernel)",
   "language": "python",
   "name": "python3"
  },
  "language_info": {
   "codemirror_mode": {
    "name": "ipython",
    "version": 3
   },
   "file_extension": ".py",
   "mimetype": "text/x-python",
   "name": "python",
   "nbconvert_exporter": "python",
   "pygments_lexer": "ipython3",
   "version": "3.8.15"
  }
 },
 "nbformat": 4,
 "nbformat_minor": 5
}
