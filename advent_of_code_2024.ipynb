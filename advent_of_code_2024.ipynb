{
 "cells": [
  {
   "cell_type": "code",
   "execution_count": 77,
   "id": "a6e738d6-9ae5-43ba-80b0-d065dd34510f",
   "metadata": {
    "ExecuteTime": {
     "end_time": "2024-12-21T20:57:11.333442400Z",
     "start_time": "2024-12-21T20:57:11.308069700Z"
    }
   },
   "outputs": [
    {
     "data": {
      "text/plain": "<IPython.core.display.HTML object>",
      "text/html": "<style>.container { width:100% !important; }</style>"
     },
     "metadata": {},
     "output_type": "display_data"
    }
   ],
   "source": [
    "from aocd import get_data, submit\n",
    "import numpy as np\n",
    "import sys\n",
    "import re\n",
    "import math\n",
    "np.set_printoptions(threshold=sys.maxsize)\n",
    "from IPython.display import display, HTML\n",
    "display(HTML(\"<style>.container { width:100% !important; }</style>\"))\n",
    "\n",
    "from queue import PriorityQueue\n",
    "from collections import defaultdict, Counter\n",
    "from dataclasses import dataclass, field\n",
    "from enum import Enum\n",
    "from typing import Dict, List, Tuple, Optional\n",
    "from functools import reduce, cache\n",
    "from operator import mul\n",
    "from bisect import bisect_right\n",
    "\n",
    "DIRECTIONS_4 = [(-1, 0), (0, 1), (1, 0), (0, -1)]\n",
    "DIRECTIONS_8 = [(x, y) for x in [1, 0, -1] for y in [1, 0, -1] if not (x ==0 and y == 0)]\n",
    "\n",
    "def raw_read_input(day, hardcoded_input=None):\n",
    "    return get_data(day=day, year=2024, block=True) if not hardcoded_input else hardcoded_input\n",
    "\n",
    "def read_input(day, dtype=None, hardcoded_input=None):\n",
    "    lines = raw_read_input(day=day, hardcoded_input=hardcoded_input).splitlines()\n",
    "    if dtype is not None:\n",
    "        lines = [dtype(x) if x else None for x in lines]\n",
    "    return lines\n",
    "    \n",
    "def read_matrix(day, dtype=np.int32, hardcoded_input=None):\n",
    "    lines = read_input(day, hardcoded_input=hardcoded_input)\n",
    "    lines = [[dtype(x) for x in line] for line in lines]\n",
    "    return np.array(lines, dtype=dtype)"
   ]
  },
  {
   "cell_type": "markdown",
   "id": "8027b2a1-69a1-4a21-b35c-6209d964e90f",
   "metadata": {},
   "source": [
    "# Day 1"
   ]
  },
  {
   "cell_type": "code",
   "execution_count": 2,
   "id": "b1ae91e7-d33d-4723-af21-fde5790e9717",
   "metadata": {
    "ExecuteTime": {
     "end_time": "2024-12-21T12:37:18.584144Z",
     "start_time": "2024-12-21T12:37:18.579511Z"
    }
   },
   "outputs": [
    {
     "name": "stdout",
     "output_type": "stream",
     "text": [
      "part 1: 1666427\n",
      "part 2: 24316233\n"
     ]
    }
   ],
   "source": [
    "lines = read_input(day=1)\n",
    "list_a, list_b = zip(*[map(int, pair.split()) for pair in lines])\n",
    "sorted_a, sorted_b = sorted(list_a), sorted(list_b)\n",
    "difference = sum(abs(a - b) for a, b in zip(sorted_a, sorted_b))\n",
    "print('part 1:', difference)\n",
    "\n",
    "counter_b = Counter(list_b)\n",
    "similarity = sum(a * counter_b[a] for a in list_a)\n",
    "print('part 2:', similarity)"
   ]
  },
  {
   "cell_type": "markdown",
   "id": "5e8a65bb-146b-4863-ab7c-d4e3cf9357c6",
   "metadata": {},
   "source": [
    "# Day 2"
   ]
  },
  {
   "cell_type": "code",
   "execution_count": 3,
   "id": "72830658-e55b-4710-b1e1-e5f22c4b1f1c",
   "metadata": {
    "ExecuteTime": {
     "end_time": "2024-12-21T12:37:19.712856Z",
     "start_time": "2024-12-21T12:37:19.703079Z"
    }
   },
   "outputs": [
    {
     "name": "stdout",
     "output_type": "stream",
     "text": [
      "part 1 321\n",
      "part 2 386\n"
     ]
    }
   ],
   "source": [
    "reports = read_input(day=2)\n",
    "def is_safe(levels):\n",
    "    pairs = list(zip(levels, levels[1:]))\n",
    "    if not all(1 <= abs(a - b) <= 3 for a, b in pairs):\n",
    "        return False\n",
    "    cmp_levels = [a > b for a, b in pairs]\n",
    "    return all(cmp_levels) or not any(cmp_levels)\n",
    "\n",
    "def is_safe_with_tolerance(levels):\n",
    "    return any(is_safe(levels[:index] + levels[index + 1:]) for index in range(len(levels)))\n",
    "    \n",
    "levels_report = [list(map(int, report.split())) for report in reports]\n",
    "print('part 1', sum(is_safe(report) for report in levels_report))\n",
    "print('part 2', sum(is_safe_with_tolerance(report) for report in levels_report))"
   ]
  },
  {
   "cell_type": "markdown",
   "id": "5539f281-35a0-4c88-8570-398ff283f0b2",
   "metadata": {},
   "source": [
    "# Day 3"
   ]
  },
  {
   "cell_type": "code",
   "execution_count": 4,
   "id": "e9568d32-8b80-4772-b800-ff7983c63ded",
   "metadata": {
    "ExecuteTime": {
     "end_time": "2024-12-21T12:37:21.141498Z",
     "start_time": "2024-12-21T12:37:21.132893Z"
    }
   },
   "outputs": [
    {
     "name": "stdout",
     "output_type": "stream",
     "text": [
      "part 1 189527826\n",
      "part 2 63013756\n"
     ]
    }
   ],
   "source": [
    "full_instructions = raw_read_input(day=3)\n",
    "all_matches = list(re.findall(r\"(don?'?t?\\(\\))|(mul\\(\\d{1,3},\\d{1,3}\\))\", full_instructions))\n",
    "\n",
    "part_1_prod = 0\n",
    "part_2_prod = 0\n",
    "active = True\n",
    "for do_match, mul_match in all_matches:\n",
    "    if mul_match:\n",
    "        part_1_prod += eval(mul_match)\n",
    "        if active:\n",
    "            part_2_prod += eval(mul_match)\n",
    "    elif do_match == 'do()':\n",
    "        active = True\n",
    "    else:\n",
    "        active = False\n",
    "    \n",
    "print('part 1', part_1_prod)\n",
    "print('part 2', part_2_prod)"
   ]
  },
  {
   "cell_type": "markdown",
   "id": "e7cf9feb-2414-41e1-bb96-16ddba542f9c",
   "metadata": {},
   "source": [
    "# Day 4"
   ]
  },
  {
   "cell_type": "code",
   "execution_count": 5,
   "id": "6a958bf6-44d6-4669-b68f-9ee08e27e47d",
   "metadata": {},
   "outputs": [
    {
     "name": "stdout",
     "output_type": "stream",
     "text": [
      "part 1 2718\n",
      "part 2 2046\n"
     ]
    }
   ],
   "source": [
    "TARGET = 'XMAS'\n",
    "matrix = read_matrix(day=4, dtype=str)\n",
    "padded_matrix = np.pad(matrix, pad_width=((1, 1), (1, 1)))\n",
    "\n",
    "def dfs(y, x, current_index, visited, directions):\n",
    "    if TARGET[current_index] != padded_matrix[y, x]:\n",
    "        return 0\n",
    "    if current_index == len(TARGET) - 1:\n",
    "        return 1\n",
    "    visited = visited | {(y, x)}\n",
    "    local_sum = 0\n",
    "    for dy, dx in directions:\n",
    "        new_y, new_x = y + dy, x + dx\n",
    "        if (new_y, new_x) in visited:\n",
    "            continue\n",
    "        local_sum += dfs(new_y, new_x, current_index + 1, visited, directions)\n",
    "    return local_sum\n",
    "\n",
    "found = 0\n",
    "for i in range(padded_matrix.shape[0]):\n",
    "    for j in range(padded_matrix.shape[1]):\n",
    "        for direction in DIRECTIONS_8:\n",
    "            found += dfs(i, j, 0, set(), [direction])\n",
    "print('part 1', found)\n",
    "\n",
    "found = 0\n",
    "for i in range(padded_matrix.shape[0]):\n",
    "    for j in range(padded_matrix.shape[1]):\n",
    "        if (padded_matrix[i, j] == 'A' and \n",
    "            {padded_matrix[i - 1, j - 1], padded_matrix[i + 1, j + 1]} == {'M', 'S'} and\n",
    "            {padded_matrix[i - 1, j + 1], padded_matrix[i + 1, j - 1]} == {'M', 'S'}\n",
    "        ):\n",
    "            found += 1\n",
    "print('part 2', found)"
   ]
  },
  {
   "cell_type": "markdown",
   "id": "a12664ae-be46-47d4-88a0-0daffe45b5a0",
   "metadata": {},
   "source": [
    "# Day 5"
   ]
  },
  {
   "cell_type": "code",
   "execution_count": null,
   "id": "a0023d01-59d0-4e56-94d9-f8418848cba0",
   "metadata": {},
   "outputs": [],
   "source": [
    "from functools import cmp_to_key\n",
    "from math import ceil\n",
    "\n",
    "lines = read_input(day=5)\n",
    "line_divider_index = lines.index('')\n",
    "rules, updates = lines[:line_divider_index], lines[line_divider_index + 1:]\n",
    "\n",
    "less_than = set()\n",
    "for rule in rules:\n",
    "    start, end = map(int, rule.split('|'))\n",
    "    less_than.add((start, end))\n",
    "\n",
    "def cmp(a, b):\n",
    "    if (a, b) in less_than:\n",
    "        return -1\n",
    "    if (b, a) in less_than:\n",
    "        return 1\n",
    "    print(a, b)\n",
    "    return 0\n",
    "\n",
    "sum_middle_1 = 0\n",
    "sum_middle_2 = 0\n",
    "for update in updates:\n",
    "    items = list(map(int, update.split(',')))\n",
    "    sorted_items = sorted(items, key=cmp_to_key(cmp))\n",
    "    middle = sorted_items[ceil(len(sorted_items) / 2) - 1]\n",
    "    if items == sorted_items:\n",
    "        sum_middle_1 += middle\n",
    "    else:\n",
    "        sum_middle_2 += middle\n",
    "\n",
    "print('part 1', sum_middle_1)\n",
    "print('part 2', sum_middle_2)"
   ]
  },
  {
   "cell_type": "markdown",
   "id": "0206b8c1-6c79-4e83-b56f-15f66f7c348a",
   "metadata": {},
   "source": [
    "# Day 6"
   ]
  },
  {
   "cell_type": "code",
   "execution_count": 9,
   "id": "7ef8f194-b159-4d1e-b804-aee31a2950a6",
   "metadata": {},
   "outputs": [
    {
     "name": "stderr",
     "output_type": "stream",
     "text": [
      "\n",
      "65%|████████████████████████████████████████████████████████████████████████████████████████████▏                                                | 85/130 [00:34<00:18,  2.44it/s]"
     ]
    },
    {
     "ename": "KeyboardInterrupt",
     "evalue": "",
     "output_type": "error",
     "traceback": [
      "\u001B[0;31m---------------------------------------------------------------------------\u001B[0m",
      "\u001B[0;31mKeyboardInterrupt\u001B[0m                         Traceback (most recent call last)",
      "Cell \u001B[0;32mIn[9], line 37\u001B[0m\n\u001B[1;32m     35\u001B[0m     part_2_answer \u001B[38;5;241m+\u001B[39m\u001B[38;5;241m=\u001B[39m \u001B[38;5;241m1\u001B[39m\n\u001B[1;32m     36\u001B[0m     \u001B[38;5;28;01mbreak\u001B[39;00m\n\u001B[0;32m---> 37\u001B[0m visited_with_direction\u001B[38;5;241m.\u001B[39madd((y, x, direction_index))\n\u001B[1;32m     40\u001B[0m dy, dx \u001B[38;5;241m=\u001B[39m DIRECTIONS[direction_index]\n\u001B[1;32m     41\u001B[0m new_y, new_x \u001B[38;5;241m=\u001B[39m dy \u001B[38;5;241m+\u001B[39m y, dx \u001B[38;5;241m+\u001B[39m x\n",
      "\u001B[0;31mKeyboardInterrupt\u001B[0m: "
     ]
    }
   ],
   "source": [
    "from tqdm import tqdm\n",
    "hardcoded_input = \"\"\"....#.....\n",
    ".........#\n",
    "..........\n",
    "..#.......\n",
    ".......#..\n",
    "..........\n",
    ".#..^.....\n",
    "........#.\n",
    "#.........\n",
    "......#...\"\"\"\n",
    "\n",
    "base_matrix = read_matrix(day=6, dtype=str, hardcoded_input=None)\n",
    "DIRECTIONS = [(-1, 0), (0, 1), (1, 0), (0, -1)]\n",
    "\n",
    "part_1_answer = None\n",
    "part_2_answer = 0\n",
    "\n",
    "for change_y in tqdm(range(base_matrix.shape[0])):\n",
    "    for change_x in range(base_matrix.shape[1]):\n",
    "        if base_matrix[change_y, change_x] != '.':\n",
    "            continue\n",
    "            \n",
    "        matrix = base_matrix.copy()\n",
    "        matrix[change_y, change_x] = '#'\n",
    "\n",
    "        y, x = [pos[0] for pos in np.where(matrix == '^')]\n",
    "        direction_index = 0\n",
    "        visited = set()\n",
    "        visited_with_direction = set()\n",
    "\n",
    "        while True:\n",
    "            visited.add((y, x))\n",
    "            if (y, x, direction_index) in visited_with_direction:\n",
    "                part_2_answer += 1\n",
    "                break\n",
    "            visited_with_direction.add((y, x, direction_index))\n",
    "        \n",
    "            \n",
    "            dy, dx = DIRECTIONS[direction_index]\n",
    "            new_y, new_x = dy + y, dx + x\n",
    "            if not (0 <= new_y < matrix.shape[0] and 0 <= new_x < matrix.shape[1]):\n",
    "                if part_1_answer is None:\n",
    "                    part_1_answer = len(visited)\n",
    "                break\n",
    "            next_turn_index = (direction_index + 1) % 4\n",
    "            if matrix[new_y, new_x] == '#':\n",
    "                direction_index = next_turn_index\n",
    "                continue\n",
    "            \n",
    "            y, x = new_y, new_x\n",
    "print('part 1', part_1_answer)\n",
    "print('part 2', part_2_answer)"
   ]
  },
  {
   "cell_type": "markdown",
   "id": "1a5d3594-64c4-4189-b1c5-8dcd1f03deda",
   "metadata": {},
   "source": [
    "# Day 7"
   ]
  },
  {
   "cell_type": "code",
   "execution_count": null,
   "outputs": [],
   "source": [],
   "metadata": {
    "collapsed": false
   },
   "id": "6684c9bb2dfb3ea"
  },
  {
   "cell_type": "code",
   "execution_count": 21,
   "id": "6a23072b-6391-4a70-8373-e0f9b69c51c2",
   "metadata": {
    "ExecuteTime": {
     "end_time": "2024-12-21T12:50:42.582781Z",
     "start_time": "2024-12-21T12:50:41.716924Z"
    }
   },
   "outputs": [
    {
     "name": "stdout",
     "output_type": "stream",
     "text": [
      "part 1 4998764814652\n",
      "part 2 37598910447546\n"
     ]
    }
   ],
   "source": [
    "lines = read_input(day=7)\n",
    "def is_possible(target, current, remaining, with_concat):\n",
    "    if current > target:\n",
    "        return False\n",
    "    if len(remaining) == 0:\n",
    "        return current == target\n",
    "    \n",
    "    return (\n",
    "            is_possible(target, current * remaining[0], remaining[1:], with_concat) or \n",
    "            is_possible(target, current + remaining[0], remaining[1:], with_concat) or\n",
    "            (with_concat and is_possible(target, int(str(current) + str(remaining[0])), remaining[1:], with_concat))\n",
    "    )\n",
    "    \n",
    "part_1 = 0\n",
    "part_2 = 0\n",
    "for equation in lines:\n",
    "    target_str, values_str = equation.split(': ')\n",
    "    target, values = int(target_str), list(map(int, values_str.split()))\n",
    "    if is_possible(target, values[0], values[1:], with_concat=False):\n",
    "        part_1 += target\n",
    "    if is_possible(target, values[0], values[1:], with_concat=True):\n",
    "        part_2 += target\n",
    "print('part 1', part_1)\n",
    "print('part 2', part_2)"
   ]
  },
  {
   "cell_type": "markdown",
   "id": "86cc1aec-fed3-4de3-85bd-b2824a5ee790",
   "metadata": {},
   "source": [
    "# Day 8"
   ]
  },
  {
   "cell_type": "code",
   "execution_count": 2,
   "outputs": [
    {
     "name": "stdout",
     "output_type": "stream",
     "text": [
      "part 1: 291\n",
      "part 2: 1015\n"
     ]
    }
   ],
   "source": [
    "antenna_map = read_matrix(day=8, dtype=str)\n",
    "antenas = np.where(antenna_map != '.')\n",
    "antenas = list(zip(antenas[0], antenas[1]))\n",
    "\n",
    "anti_nodes = set()\n",
    "anti_nodes_part_1 = set()\n",
    "for index, (ya, xa) in enumerate(antenas):\n",
    "    for (yb, xb) in antenas[index + 1:]:\n",
    "        if antenna_map[ya, xa] != antenna_map[yb, xb]:\n",
    "            continue\n",
    "        dy, dx = yb - ya, xb - xa\n",
    "        \n",
    "        for distance in range(max(antenna_map.shape)):\n",
    "            anti_node_1 = ya - dy * distance, xa - dx * distance\n",
    "            anti_node_2 = yb + dy * distance, xb + dx * distance\n",
    "            \n",
    "            for anti_node_pos in [anti_node_1, anti_node_2]:\n",
    "                if not (0 <= anti_node_pos[0] < antenna_map.shape[0] and 0 <= anti_node_pos[1] < antenna_map.shape[1]):\n",
    "                    continue\n",
    "                anti_nodes.add(anti_node_pos)\n",
    "                if distance == 1:\n",
    "                    anti_nodes_part_1.add(anti_node_pos)\n",
    "                    \n",
    "print('part 1:', len(anti_nodes_part_1))\n",
    "print('part 2:', len(anti_nodes))"
   ],
   "metadata": {
    "collapsed": false,
    "ExecuteTime": {
     "end_time": "2024-12-21T19:36:44.749251800Z",
     "start_time": "2024-12-21T19:36:44.270716700Z"
    }
   },
   "id": "fed4cdab9c3b5b9b"
  },
  {
   "cell_type": "markdown",
   "id": "e3e5d526-7ef2-4343-abcf-c53e78f9cd1c",
   "metadata": {},
   "source": [
    "# Day 9"
   ]
  },
  {
   "cell_type": "code",
   "execution_count": 3,
   "outputs": [
    {
     "name": "stdout",
     "output_type": "stream",
     "text": [
      "part 1: 6607511583593\n",
      "part 2: 6636608781232\n"
     ]
    }
   ],
   "source": [
    "disk_map = list(map(int, raw_read_input(day=9)))\n",
    "disk = []\n",
    "for index, batch_size in enumerate(disk_map):\n",
    "    disk += [index // 2 if index % 2 == 0 else -1] * batch_size\n",
    "disk = np.array(disk)\n",
    "empty_count = len(disk[disk == -1]) \n",
    "disk[disk == -1] = disk[disk != -1][::-1][:empty_count]\n",
    "disk = disk[:len(disk) - empty_count]\n",
    "checksum = sum(index * value for index, value in enumerate(disk))\n",
    "print('part 1:', checksum)\n",
    "\n",
    "disk = []\n",
    "batch_ranges = {}\n",
    "for index, batch_size in enumerate(disk_map):\n",
    "    disk += [index // 2 if index % 2 == 0 else -1] * batch_size\n",
    "    if index % 2 == 0:\n",
    "        batch_ranges[index // 2] = (len(disk) - batch_size, len(disk) - 1)\n",
    "disk = np.array(disk)\n",
    "\n",
    "for index in range(len(disk_map) // 2, 0, -1):\n",
    "    start, end = batch_ranges[index]\n",
    "    empties = np.where(disk[:start - (end - start)] == -1)[0]\n",
    "    for search_index in empties:\n",
    "        if np.all(disk[search_index: search_index + end - start + 1] == -1):\n",
    "            disk[search_index: search_index + end - start + 1] = index\n",
    "            disk[start: end + 1] = -1\n",
    "            break\n",
    "disk[disk == -1] = 0\n",
    "checksum = sum(index * value for index, value in enumerate(disk))\n",
    "print('part 2:', checksum)"
   ],
   "metadata": {
    "collapsed": false,
    "ExecuteTime": {
     "end_time": "2024-12-21T19:40:20.787849800Z",
     "start_time": "2024-12-21T19:40:15.255268100Z"
    }
   },
   "id": "3cc228508f653d28"
  },
  {
   "cell_type": "markdown",
   "id": "e26dabc4-c3b3-4840-bfff-ecf39e11df64",
   "metadata": {},
   "source": [
    "# Day 10"
   ]
  },
  {
   "cell_type": "code",
   "execution_count": 4,
   "outputs": [
    {
     "name": "stdout",
     "output_type": "stream",
     "text": [
      "part 1: 459\n",
      "part 2: 1034\n"
     ]
    }
   ],
   "source": [
    "topological_map = read_matrix(day=10, dtype=int)\n",
    "starts = np.where(topological_map == 0)\n",
    "starts = list(zip(starts[0], starts[1]))\n",
    "\n",
    "def dfs(y, x, current_index, path_so_far, collected_paths, collected_ends):\n",
    "    path_so_far = path_so_far + [(y, x)]\n",
    "    if current_index == 9:\n",
    "        collected_ends.add((y, x))\n",
    "        collected_paths.add(tuple(path_so_far))\n",
    "    for dy, dx in DIRECTIONS_4:\n",
    "        new_y, new_x = y + dy, x + dx\n",
    "        if not (0 <= new_y < topological_map.shape[0] and 0 <= new_x < topological_map.shape[1]):\n",
    "            continue\n",
    "        if topological_map[new_y, new_x] == current_index + 1:\n",
    "            dfs(new_y, new_x, current_index + 1, path_so_far, collected_paths, collected_ends)\n",
    "\n",
    "part_1_score = 0\n",
    "part_2_score = 0\n",
    "for start_y, start_x in starts:\n",
    "    collected_ends = set()\n",
    "    collected_paths = set()\n",
    "    dfs(start_y, start_x, 0, [], collected_paths, collected_ends)\n",
    "    part_1_score += len(collected_ends)\n",
    "    part_2_score += len(collected_paths)\n",
    "print('part 1:', part_1_score)\n",
    "print('part 2:', part_2_score)"
   ],
   "metadata": {
    "collapsed": false,
    "ExecuteTime": {
     "end_time": "2024-12-21T19:40:20.975857Z",
     "start_time": "2024-12-21T19:40:20.782330400Z"
    }
   },
   "id": "ecdb2401048b8653"
  },
  {
   "cell_type": "markdown",
   "id": "8d7972ab-fa95-45a4-b4a7-6ac7d388df64",
   "metadata": {},
   "source": [
    "# Day 11"
   ]
  },
  {
   "cell_type": "code",
   "execution_count": 29,
   "outputs": [
    {
     "name": "stdout",
     "output_type": "stream",
     "text": [
      "part 1: 189547\n",
      "part 2: 224577979481346\n"
     ]
    }
   ],
   "source": [
    "from functools import cache\n",
    "from collections import Counter\n",
    "stones = list(map(int, raw_read_input(day=11).split(' ')))\n",
    "\n",
    "@cache\n",
    "def blink_result(stone: int) -> list[int]:\n",
    "    if stone == 0:\n",
    "        return [1]\n",
    "    digits_count = len(str(stone))\n",
    "    if digits_count % 2 == 0:\n",
    "        splitter = 10 ** (digits_count // 2)\n",
    "        return [stone // splitter, stone % splitter]\n",
    "    return [stone * 2024]\n",
    "\n",
    "stone_counts = Counter(stones)\n",
    "for index in range(75):\n",
    "    new_stones = {stone: blink_result(stone) for stone in stone_counts.keys()}\n",
    "    new_stone_counts = defaultdict(int)\n",
    "    for stone, result_stones in new_stones.items():\n",
    "        for new_stone in result_stones:\n",
    "            new_stone_counts[new_stone] += stone_counts[stone]\n",
    "    stone_counts = new_stone_counts\n",
    "    if index == 24:\n",
    "        print('part 1:', sum(x for x in stone_counts.values()))\n",
    "    \n",
    "print('part 2:', sum(x for x in stone_counts.values()))"
   ],
   "metadata": {
    "collapsed": false,
    "ExecuteTime": {
     "end_time": "2024-12-21T20:05:51.824589900Z",
     "start_time": "2024-12-21T20:05:51.778657900Z"
    }
   },
   "id": "f4feff577798f21c"
  },
  {
   "cell_type": "markdown",
   "id": "2708610b-0f19-4dc0-a69d-a6a58bf5c2d7",
   "metadata": {},
   "source": [
    "# Day 12"
   ]
  },
  {
   "cell_type": "code",
   "execution_count": 81,
   "outputs": [
    {
     "name": "stdout",
     "output_type": "stream",
     "text": [
      "part 1: 1359028\n",
      "part 2: 839780\n"
     ]
    }
   ],
   "source": [
    "import cv2\n",
    "plots = read_matrix(day=12, dtype=str, hardcoded_input=None)\n",
    "plot_names = np.unique(plots)\n",
    "plots = np.pad(plots, pad_width=((1, 1), (1, 1)), constant_values='.')\n",
    "all_plots = []\n",
    "for plot_name in plot_names:\n",
    "    mask = plots == plot_name\n",
    "    component_count, labels, _, _ = cv2.connectedComponentsWithStats(mask.astype(np.uint8), connectivity=4)\n",
    "    for component in range(1, component_count):\n",
    "        component_coords = np.where(labels == component)\n",
    "        points = list(zip(component_coords[0], component_coords[1]))\n",
    "        all_plots.append(points)\n",
    "\n",
    "def plot_perimeter(points):\n",
    "    total = 0\n",
    "    for point in points:\n",
    "        for dy, dx in DIRECTIONS_4:\n",
    "            new_y, new_x = point[0] + dy, point[1] + dx\n",
    "            if plots[new_y, new_x] != plots[point[0], point[1]]:\n",
    "                total += 1\n",
    "    return total\n",
    "\n",
    "def plot_count_sides_of_shape(points):\n",
    "    total = 0\n",
    "    for point in points:\n",
    "        for dir_index, (dy, dx) in enumerate(DIRECTIONS_4):\n",
    "            new_y, new_x = point[0] + dy, point[1] + dx\n",
    "            next_dir_index = (dir_index + 1) % 4\n",
    "            buddy_dy, buddy_dx = DIRECTIONS_4[next_dir_index]\n",
    "            buddy_y, buddy_x = point[0] + buddy_dy, point[1] + buddy_dx\n",
    "            buddy_next_y, buddy_next_x = buddy_y + dy, buddy_x + dx\n",
    "            if plots[new_y, new_x] != plots[point[0], point[1]] and (plots[buddy_y, buddy_x] != plots[point[0], point[1]] or plots[buddy_next_y, buddy_next_x] == plots[point[0], point[1]]):\n",
    "                total += 1\n",
    "    return total\n",
    "    \n",
    "print('part 1:', sum(len(plot) * plot_perimeter(plot) for plot in all_plots))\n",
    "print('part 2:', sum(len(plot) * plot_count_sides_of_shape(plot) for plot in all_plots))"
   ],
   "metadata": {
    "collapsed": false,
    "ExecuteTime": {
     "end_time": "2024-12-21T21:07:13.653287400Z",
     "start_time": "2024-12-21T21:07:13.508230300Z"
    }
   },
   "id": "4b4cc9fe6ca8ffeb"
  },
  {
   "cell_type": "markdown",
   "id": "785ba009-54f5-4cb6-9507-5f470a7e3c76",
   "metadata": {},
   "source": [
    "# Day 13"
   ]
  },
  {
   "cell_type": "markdown",
   "id": "d29ed1d7-03f5-456e-aebc-332302a4b3f0",
   "metadata": {},
   "source": [
    "# Day 14"
   ]
  },
  {
   "cell_type": "markdown",
   "id": "a00ae272-0c95-444c-b263-16ca8fbc69d0",
   "metadata": {},
   "source": [
    "# Day 15"
   ]
  },
  {
   "cell_type": "markdown",
   "id": "13ed9e3f-d34a-4a9d-aba1-2fb6981d3fe8",
   "metadata": {},
   "source": [
    "# Day 16"
   ]
  },
  {
   "cell_type": "markdown",
   "id": "51a1b087-a212-48ae-97fc-319b208708eb",
   "metadata": {},
   "source": [
    "# Day 17"
   ]
  },
  {
   "cell_type": "markdown",
   "id": "fc4b2e0b-8b58-4e31-a3c4-f024b14e7d75",
   "metadata": {},
   "source": [
    "# Day 18"
   ]
  },
  {
   "cell_type": "markdown",
   "id": "e81e5016-12c8-4c4b-85be-49ef79ec8959",
   "metadata": {},
   "source": [
    "# Day 19"
   ]
  },
  {
   "cell_type": "markdown",
   "id": "ca3d4753-fd3c-4d46-89cb-cd8bcc70739b",
   "metadata": {},
   "source": [
    "# Day 20"
   ]
  },
  {
   "cell_type": "markdown",
   "id": "f15ab58d-e7cc-47ae-ba6a-98e7ac3cc42c",
   "metadata": {},
   "source": [
    "# Day 21"
   ]
  },
  {
   "cell_type": "markdown",
   "id": "d5b403fd-5690-48ef-89ce-82ca968a0130",
   "metadata": {},
   "source": [
    "# Day 22"
   ]
  },
  {
   "cell_type": "markdown",
   "id": "3129588e-d5af-42ae-8c2c-31b68fee836f",
   "metadata": {},
   "source": [
    "# Day 23"
   ]
  },
  {
   "cell_type": "markdown",
   "id": "ec0932de-36c8-4d97-a982-123ab65c37f7",
   "metadata": {},
   "source": [
    "# Day 24"
   ]
  },
  {
   "cell_type": "markdown",
   "id": "97324453-9f38-4e4f-9fc3-24645d16f453",
   "metadata": {},
   "source": [
    "# Day 25"
   ]
  },
  {
   "cell_type": "code",
   "execution_count": null,
   "id": "3d87c343-f84b-4f66-a0f2-c3eca9180b49",
   "metadata": {},
   "outputs": [],
   "source": []
  }
 ],
 "metadata": {
  "kernelspec": {
   "display_name": "Python 3 (ipykernel)",
   "language": "python",
   "name": "python3"
  },
  "language_info": {
   "codemirror_mode": {
    "name": "ipython",
    "version": 3
   },
   "file_extension": ".py",
   "mimetype": "text/x-python",
   "name": "python",
   "nbconvert_exporter": "python",
   "pygments_lexer": "ipython3",
   "version": "3.11.7"
  }
 },
 "nbformat": 4,
 "nbformat_minor": 5
}
