{
 "cells": [
  {
   "cell_type": "code",
   "execution_count": 28,
   "id": "a6e738d6-9ae5-43ba-80b0-d065dd34510f",
   "metadata": {},
   "outputs": [
    {
     "data": {
      "text/html": [
       "<style>.container { width:100% !important; }</style>"
      ],
      "text/plain": [
       "<IPython.core.display.HTML object>"
      ]
     },
     "metadata": {},
     "output_type": "display_data"
    }
   ],
   "source": [
    "from aocd import get_data, submit\n",
    "import numpy as np\n",
    "import sys\n",
    "import re\n",
    "import math\n",
    "np.set_printoptions(threshold=sys.maxsize)\n",
    "from IPython.display import display, HTML\n",
    "display(HTML(\"<style>.container { width:100% !important; }</style>\"))\n",
    "\n",
    "from queue import PriorityQueue\n",
    "from collections import defaultdict, Counter\n",
    "from dataclasses import dataclass, field\n",
    "from enum import Enum\n",
    "from typing import Dict, List, Tuple, Optional\n",
    "from functools import reduce, cache\n",
    "from operator import mul\n",
    "from bisect import bisect_right\n",
    "\n",
    "DIRECTIONS_4 = [(x, y) for x in [1, 0, -1] for y in [1, 0, -1] if x + y and (x == 0 or y == 0)]\n",
    "DIRECTIONS_8 = [(x, y) for x in [1, 0, -1] for y in [1, 0, -1] if not (x ==0 and y == 0)]\n",
    "\n",
    "def raw_read_input(day, hardcoded_input=None):\n",
    "    return get_data(day=day, year=2024, block=True) if not hardcoded_input else hardcoded_input\n",
    "\n",
    "def read_input(day, dtype=None, hardcoded_input=None):\n",
    "    lines = raw_read_input(day=day, hardcoded_input=hardcoded_input).splitlines()\n",
    "    if dtype is not None:\n",
    "        lines = [dtype(x) if x else None for x in lines]\n",
    "    return lines\n",
    "    \n",
    "def read_matrix(day, dtype=np.int32, hardcoded_input=None):\n",
    "    lines = read_input(day, hardcoded_input=hardcoded_input)\n",
    "    lines = [[dtype(x) for x in line] for line in lines]\n",
    "    return np.array(lines, dtype=dtype)"
   ]
  },
  {
   "cell_type": "markdown",
   "id": "8027b2a1-69a1-4a21-b35c-6209d964e90f",
   "metadata": {},
   "source": [
    "# Day 1"
   ]
  },
  {
   "cell_type": "code",
   "execution_count": 29,
   "id": "b1ae91e7-d33d-4723-af21-fde5790e9717",
   "metadata": {},
   "outputs": [
    {
     "name": "stdout",
     "output_type": "stream",
     "text": [
      "part 1: 1666427\n",
      "part 2: 24316233\n"
     ]
    }
   ],
   "source": [
    "lines = read_input(day=1)\n",
    "list_a, list_b = zip(*[map(int, pair.split()) for pair in lines])\n",
    "sorted_a, sorted_b = sorted(list_a), sorted(list_b)\n",
    "difference = sum(abs(a - b) for a, b in zip(sorted_a, sorted_b))\n",
    "print('part 1:', difference)\n",
    "\n",
    "counter_b = Counter(list_b)\n",
    "similarity = sum(a * counter_b[a] for a in list_a)\n",
    "print('part 2:', similarity)"
   ]
  },
  {
   "cell_type": "markdown",
   "id": "5e8a65bb-146b-4863-ab7c-d4e3cf9357c6",
   "metadata": {},
   "source": [
    "# Day 2"
   ]
  },
  {
   "cell_type": "code",
   "execution_count": 32,
   "id": "72830658-e55b-4710-b1e1-e5f22c4b1f1c",
   "metadata": {},
   "outputs": [
    {
     "name": "stdout",
     "output_type": "stream",
     "text": [
      "part 1 321\n",
      "part 2 386\n"
     ]
    }
   ],
   "source": [
    "reports = read_input(day=2)\n",
    "def is_safe(levels):\n",
    "    pairs = list(zip(levels, levels[1:]))\n",
    "    if not all(1 <= abs(a - b) <= 3 for a, b in pairs):\n",
    "        return False\n",
    "    cmp_levels = [a > b for a, b in pairs]\n",
    "    return all(cmp_levels) or not any(cmp_levels)\n",
    "\n",
    "def is_safe_with_tolerance(levels):\n",
    "    return any(is_safe(levels[:index] + levels[index + 1:]) for index in range(len(levels)))\n",
    "    \n",
    "levels_report = [list(map(int, report.split())) for report in reports]\n",
    "print('part 1', sum(is_safe(report) for report in levels_report))\n",
    "print('part 2', sum(is_safe_with_tolerance(report) for report in levels_report))"
   ]
  },
  {
   "cell_type": "markdown",
   "id": "5539f281-35a0-4c88-8570-398ff283f0b2",
   "metadata": {},
   "source": [
    "# Day 3"
   ]
  },
  {
   "cell_type": "code",
   "execution_count": 36,
   "id": "e9568d32-8b80-4772-b800-ff7983c63ded",
   "metadata": {},
   "outputs": [
    {
     "name": "stdout",
     "output_type": "stream",
     "text": [
      "part 1 189527826\n",
      "part 2 63013756\n"
     ]
    }
   ],
   "source": [
    "full_instructions = raw_read_input(day=3)\n",
    "all_matches = list(re.findall(r\"(don?'?t?\\(\\))|(mul\\(\\d{1,3},\\d{1,3}\\))\", full_instructions))\n",
    "\n",
    "part_1_prod = 0\n",
    "part_2_prod = 0\n",
    "active = True\n",
    "for do_match, mul_match in all_matches:\n",
    "    if mul_match:\n",
    "        part_1_prod += eval(mul_match)\n",
    "        if active:\n",
    "            part_2_prod += eval(mul_match)\n",
    "    elif do_match == 'do()':\n",
    "        active = True\n",
    "    else:\n",
    "        active = False\n",
    "    \n",
    "print('part 1', part_1_prod)\n",
    "print('part 2', part_2_prod)"
   ]
  },
  {
   "cell_type": "markdown",
   "id": "e7cf9feb-2414-41e1-bb96-16ddba542f9c",
   "metadata": {},
   "source": [
    "# Day 4"
   ]
  },
  {
   "cell_type": "markdown",
   "id": "a12664ae-be46-47d4-88a0-0daffe45b5a0",
   "metadata": {},
   "source": [
    "# Day 5"
   ]
  },
  {
   "cell_type": "markdown",
   "id": "0206b8c1-6c79-4e83-b56f-15f66f7c348a",
   "metadata": {},
   "source": [
    "# Day 6"
   ]
  },
  {
   "cell_type": "markdown",
   "id": "1a5d3594-64c4-4189-b1c5-8dcd1f03deda",
   "metadata": {},
   "source": [
    "# Day 7"
   ]
  },
  {
   "cell_type": "markdown",
   "id": "86cc1aec-fed3-4de3-85bd-b2824a5ee790",
   "metadata": {},
   "source": [
    "# Day 8"
   ]
  },
  {
   "cell_type": "markdown",
   "id": "e3e5d526-7ef2-4343-abcf-c53e78f9cd1c",
   "metadata": {},
   "source": [
    "# Day 9"
   ]
  },
  {
   "cell_type": "markdown",
   "id": "e26dabc4-c3b3-4840-bfff-ecf39e11df64",
   "metadata": {},
   "source": [
    "# Day 10"
   ]
  },
  {
   "cell_type": "markdown",
   "id": "8d7972ab-fa95-45a4-b4a7-6ac7d388df64",
   "metadata": {},
   "source": [
    "# Day 11"
   ]
  },
  {
   "cell_type": "markdown",
   "id": "2708610b-0f19-4dc0-a69d-a6a58bf5c2d7",
   "metadata": {},
   "source": [
    "# Day 12"
   ]
  },
  {
   "cell_type": "markdown",
   "id": "785ba009-54f5-4cb6-9507-5f470a7e3c76",
   "metadata": {},
   "source": [
    "# Day 13"
   ]
  },
  {
   "cell_type": "markdown",
   "id": "d29ed1d7-03f5-456e-aebc-332302a4b3f0",
   "metadata": {},
   "source": [
    "# Day 14"
   ]
  },
  {
   "cell_type": "markdown",
   "id": "a00ae272-0c95-444c-b263-16ca8fbc69d0",
   "metadata": {},
   "source": [
    "# Day 15"
   ]
  },
  {
   "cell_type": "markdown",
   "id": "13ed9e3f-d34a-4a9d-aba1-2fb6981d3fe8",
   "metadata": {},
   "source": [
    "# Day 16"
   ]
  },
  {
   "cell_type": "markdown",
   "id": "51a1b087-a212-48ae-97fc-319b208708eb",
   "metadata": {},
   "source": [
    "# Day 17"
   ]
  },
  {
   "cell_type": "markdown",
   "id": "fc4b2e0b-8b58-4e31-a3c4-f024b14e7d75",
   "metadata": {},
   "source": [
    "# Day 18"
   ]
  },
  {
   "cell_type": "markdown",
   "id": "e81e5016-12c8-4c4b-85be-49ef79ec8959",
   "metadata": {},
   "source": [
    "# Day 19"
   ]
  },
  {
   "cell_type": "markdown",
   "id": "ca3d4753-fd3c-4d46-89cb-cd8bcc70739b",
   "metadata": {},
   "source": [
    "# Day 20"
   ]
  },
  {
   "cell_type": "markdown",
   "id": "f15ab58d-e7cc-47ae-ba6a-98e7ac3cc42c",
   "metadata": {},
   "source": [
    "# Day 21"
   ]
  },
  {
   "cell_type": "markdown",
   "id": "d5b403fd-5690-48ef-89ce-82ca968a0130",
   "metadata": {},
   "source": [
    "# Day 22"
   ]
  },
  {
   "cell_type": "markdown",
   "id": "3129588e-d5af-42ae-8c2c-31b68fee836f",
   "metadata": {},
   "source": [
    "# Day 23"
   ]
  },
  {
   "cell_type": "markdown",
   "id": "ec0932de-36c8-4d97-a982-123ab65c37f7",
   "metadata": {},
   "source": [
    "# Day 24"
   ]
  },
  {
   "cell_type": "markdown",
   "id": "97324453-9f38-4e4f-9fc3-24645d16f453",
   "metadata": {},
   "source": [
    "# Day 25"
   ]
  },
  {
   "cell_type": "code",
   "execution_count": null,
   "id": "3d87c343-f84b-4f66-a0f2-c3eca9180b49",
   "metadata": {},
   "outputs": [],
   "source": []
  }
 ],
 "metadata": {
  "kernelspec": {
   "display_name": "Python 3 (ipykernel)",
   "language": "python",
   "name": "python3"
  },
  "language_info": {
   "codemirror_mode": {
    "name": "ipython",
    "version": 3
   },
   "file_extension": ".py",
   "mimetype": "text/x-python",
   "name": "python",
   "nbconvert_exporter": "python",
   "pygments_lexer": "ipython3",
   "version": "3.12.4"
  }
 },
 "nbformat": 4,
 "nbformat_minor": 5
}
