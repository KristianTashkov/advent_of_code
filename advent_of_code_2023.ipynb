{
 "cells": [
  {
   "cell_type": "code",
   "execution_count": 2,
   "id": "a6e738d6-9ae5-43ba-80b0-d065dd34510f",
   "metadata": {},
   "outputs": [
    {
     "data": {
      "text/html": [
       "<style>.container { width:100% !important; }</style>"
      ],
      "text/plain": [
       "<IPython.core.display.HTML object>"
      ]
     },
     "metadata": {},
     "output_type": "display_data"
    }
   ],
   "source": [
    "from aocd import get_data, submit\n",
    "import numpy as np\n",
    "import sys\n",
    "import re\n",
    "import math\n",
    "np.set_printoptions(threshold=sys.maxsize)\n",
    "from IPython.display import display, HTML\n",
    "display(HTML(\"<style>.container { width:100% !important; }</style>\"))\n",
    "\n",
    "from queue import PriorityQueue\n",
    "from collections import defaultdict, Counter\n",
    "from dataclasses import dataclass, field\n",
    "from enum import Enum\n",
    "from typing import Dict, List, Tuple, Optional\n",
    "from functools import reduce, cache\n",
    "from operator import mul\n",
    "from bisect import bisect_right\n",
    "\n",
    "DIRECTIONS_4 = [(x, y) for x in [1, 0, -1] for y in [1, 0, -1] if x + y and (x == 0 or y == 0)]\n",
    "DIRECTIONS_8 = [(x, y) for x in [1, 0, -1] for y in [1, 0, -1] if not (x ==0 and y == 0)]\n",
    "\n",
    "def raw_read_input(day, hardcoded_input=None):\n",
    "    return get_data(day=day, year=2023, block=True) if not hardcoded_input else hardcoded_input\n",
    "\n",
    "def read_input(day, dtype=None, hardcoded_input=None):\n",
    "    lines = raw_read_input(day=day, hardcoded_input=hardcoded_input).splitlines()\n",
    "    if dtype is not None:\n",
    "        lines = [dtype(x) if x else None for x in lines]\n",
    "    return lines\n",
    "    \n",
    "def read_matrix(day, dtype=np.int32, hardcoded_input=None):\n",
    "    lines = read_input(day, hardcoded_input=hardcoded_input)\n",
    "    lines = [[dtype(x) for x in line] for line in lines]\n",
    "    return np.array(lines, dtype=dtype)"
   ]
  },
  {
   "cell_type": "markdown",
   "id": "8027b2a1-69a1-4a21-b35c-6209d964e90f",
   "metadata": {},
   "source": [
    "# Day 1"
   ]
  },
  {
   "cell_type": "code",
   "execution_count": 2,
   "id": "b1ae91e7-d33d-4723-af21-fde5790e9717",
   "metadata": {},
   "outputs": [
    {
     "name": "stdout",
     "output_type": "stream",
     "text": [
      "part 1 54597\n",
      "part 2 54504\n"
     ]
    }
   ],
   "source": [
    "lines = read_input(day=1)\n",
    "digits_per_line = [[char for char in line if char.isdigit()] for line in lines]\n",
    "\n",
    "def calc_sum(for_lines):\n",
    "    return sum(int(line[0] + line[-1]) if line else 0 for line in for_lines)\n",
    "print('part 1', calc_sum(digits_per_line))\n",
    "\n",
    "def replace_digits(for_line):\n",
    "    digit_names = ['zero', 'one', 'two', 'three', 'four', 'five', 'six', 'seven', 'eight', 'nine']\n",
    "    result = ''\n",
    "    for index, char in enumerate(for_line):\n",
    "        for digit, digit_name in enumerate(digit_names):\n",
    "            if char.isdigit():\n",
    "                result += char\n",
    "            elif for_line[index: index + len(digit_name)] == digit_name:\n",
    "                result += str(digit)\n",
    "    return result\n",
    "        \n",
    "true_digits_per_line = [replace_digits(line) for line in lines]\n",
    "print('part 2', calc_sum(true_digits_per_line))"
   ]
  },
  {
   "cell_type": "markdown",
   "id": "5e8a65bb-146b-4863-ab7c-d4e3cf9357c6",
   "metadata": {},
   "source": [
    "# Day 2"
   ]
  },
  {
   "cell_type": "code",
   "execution_count": 3,
   "id": "7d998eea-71b7-4c16-a2f1-73ddf826084f",
   "metadata": {},
   "outputs": [
    {
     "name": "stdout",
     "output_type": "stream",
     "text": [
      "part 1 2331\n",
      "part 2 71585\n"
     ]
    }
   ],
   "source": [
    "class Color(Enum):\n",
    "    red = 'red'\n",
    "    green = 'green'\n",
    "    blue = 'blue'\n",
    "\n",
    "@dataclass\n",
    "class Game:\n",
    "    game_number: int\n",
    "    shows: List[Dict[Color, int]] = field(default_factory=list)\n",
    "\n",
    "    def is_possible(self, combination: Dict[Color, int]) -> bool:\n",
    "        for show in self.shows:\n",
    "            for color in Color:\n",
    "                if show[color] > combination[color]:\n",
    "                    return False\n",
    "        return True\n",
    "\n",
    "    def power_number(self):\n",
    "        possible = {color: 0 for color in Color}\n",
    "        for show in self.shows:\n",
    "            for color, amount in show.items():\n",
    "                possible[color] = max(possible[color], amount)\n",
    "        return reduce(mul, possible.values())\n",
    "\n",
    "\n",
    "lines = read_input(day=2)\n",
    "games = []\n",
    "\n",
    "for line in lines:\n",
    "    game_title, showings = line.split(':')\n",
    "    game = Game(int(game_title.split(' ')[1]))\n",
    "\n",
    "    for show in showings.split(';'):\n",
    "        current_show = {color: 0 for color in Color}\n",
    "        for color_group in show.split(', '):\n",
    "            count, color = color_group.strip().split(' ')\n",
    "            current_show[Color(color)] = int(count)\n",
    "        game.shows.append(current_show)\n",
    "    games.append(game)\n",
    "\n",
    "part_1_check = {\n",
    "    Color.red: 12,\n",
    "    Color.green: 13,\n",
    "    Color.blue: 14\n",
    "}\n",
    "print('part 1', sum(game.game_number for game in games if game.is_possible(part_1_check)))\n",
    "print('part 2', sum(game.power_number() for game in games))"
   ]
  },
  {
   "cell_type": "markdown",
   "id": "5539f281-35a0-4c88-8570-398ff283f0b2",
   "metadata": {},
   "source": [
    "# Day 3"
   ]
  },
  {
   "cell_type": "code",
   "execution_count": 4,
   "id": "df70ba84-8fb7-4280-ba13-d9f7f617f63e",
   "metadata": {},
   "outputs": [
    {
     "name": "stdout",
     "output_type": "stream",
     "text": [
      "part 1 530849\n",
      "part 2 84900879\n"
     ]
    }
   ],
   "source": [
    "matrix = read_matrix(day=3, dtype=str)\n",
    "expand = np.pad(matrix, (1, 1), constant_values=['.'])\n",
    "is_symbol = np.vectorize(lambda x: not x.isdigit() and x != '.')(expand)\n",
    "is_star = expand == '*'\n",
    "\n",
    "gears = defaultdict(list)\n",
    "total = 0\n",
    "\n",
    "for i, line in enumerate(expand):\n",
    "    number_start = None\n",
    "    for j, char in enumerate(line):\n",
    "        if char.isdigit():\n",
    "            if number_start is None:\n",
    "                number_start = j\n",
    "        elif number_start is not None:\n",
    "            if np.any(is_symbol[i - 1: i + 2, number_start - 1: j + 1]):\n",
    "                number = int(''.join(line[number_start:j]))\n",
    "                total += number\n",
    "                ys, xs = np.where(is_star[i - 1: i + 2, number_start - 1: j + 1])\n",
    "                for star_y, star_x in zip(ys.tolist(), xs.tolist()):\n",
    "                    gears[(i - 1 + star_y, number_start - 1 + star_x)].append(number)\n",
    "            number_start = None\n",
    "\n",
    "print('part 1', total)\n",
    "gear_ratio_sum = sum(\n",
    "    gear[0] * gear[1]\n",
    "    for gear in gears.values()\n",
    "    if len(gear) == 2\n",
    ")\n",
    "print('part 2', gear_ratio_sum)"
   ]
  },
  {
   "cell_type": "markdown",
   "id": "e7cf9feb-2414-41e1-bb96-16ddba542f9c",
   "metadata": {},
   "source": [
    "# Day 4"
   ]
  },
  {
   "cell_type": "code",
   "execution_count": 5,
   "id": "a09acd9f-3a96-4e69-84a3-545127865a48",
   "metadata": {},
   "outputs": [
    {
     "name": "stdout",
     "output_type": "stream",
     "text": [
      "part 1 22674\n",
      "part 2 5747443\n"
     ]
    }
   ],
   "source": [
    "lines = read_input(day=4)\n",
    "total = 0\n",
    "counts = [1 for _ in range(len(lines))]\n",
    "\n",
    "\n",
    "for index, line in enumerate(lines):\n",
    "    winners, numbers = line.split(': ')[1].split(' | ')\n",
    "    winners = set(re.split('\\s+', winners))\n",
    "    numbers = set(re.split('\\s+', numbers))    \n",
    "    winning_numbers = winners & numbers\n",
    "    if winning_numbers:\n",
    "        total += 1 << (len(winning_numbers) - 1)\n",
    "    for offset in range(len(winning_numbers)):\n",
    "        counts[index + offset + 1] += counts[index]\n",
    "print('part 1', total)\n",
    "print('part 2', sum(counts))"
   ]
  },
  {
   "cell_type": "markdown",
   "id": "a12664ae-be46-47d4-88a0-0daffe45b5a0",
   "metadata": {},
   "source": [
    "# Day 5"
   ]
  },
  {
   "cell_type": "code",
   "execution_count": 6,
   "id": "487c7763-9d04-4795-981a-66c216db7e5e",
   "metadata": {},
   "outputs": [
    {
     "name": "stdout",
     "output_type": "stream",
     "text": [
      "part 1 218513636\n",
      "part 2 81956384\n"
     ]
    }
   ],
   "source": [
    "lines = read_input(day=5)\n",
    "traverse_order = ['seed']\n",
    "maps = defaultdict(list)\n",
    "initial_seeds = list(map(int, lines[0].split(': ')[1].split()))\n",
    "index = 1\n",
    "current_map = None\n",
    "while index < len(lines):\n",
    "    if not lines[index].strip():\n",
    "        line = lines[index + 1]\n",
    "        map_title = line.split()[0].split('-to-')\n",
    "        current_map = tuple(map_title)\n",
    "        traverse_order.append(map_title[1])\n",
    "        index += 2\n",
    "        continue\n",
    "    maps[current_map].append(list(map(int, lines[index].split())))\n",
    "    index += 1\n",
    "\n",
    "def get_location(start_id):\n",
    "    for mapping_type in zip(traverse_order, traverse_order[1:]):\n",
    "        for mapping in maps[mapping_type]:\n",
    "            if start_id >= mapping[1] and start_id < mapping[1] + mapping[2]:\n",
    "                start_id = mapping[0] + (start_id - mapping[1])\n",
    "                break\n",
    "    return start_id\n",
    " \n",
    "\n",
    "def get_location_range(current_ranges):\n",
    "    for mapping_type in zip(traverse_order, traverse_order[1:]):\n",
    "        result_ranges = []\n",
    "        for dest_start_id, mapping_start_id, mapping_length in maps[mapping_type]:\n",
    "            new_current_ranges = []\n",
    "            mapping_end_id = mapping_start_id + mapping_length - 1\n",
    "            for start_id, length in current_ranges:\n",
    "                end_id = start_id + length - 1\n",
    "                if end_id < mapping_start_id or mapping_end_id < start_id:\n",
    "                    new_current_ranges.append((start_id, length))\n",
    "                    continue\n",
    "                overlap_start_id = max(mapping_start_id, start_id)\n",
    "                overlap_end_id = min(mapping_end_id, end_id)\n",
    "                if start_id < overlap_start_id:\n",
    "                    new_current_ranges.append((start_id, overlap_start_id - start_id))\n",
    "                if overlap_end_id < end_id:\n",
    "                    new_current_ranges.append((overlap_end_id + 1, end_id - overlap_end_id - 1))\n",
    "                    \n",
    "                new_start_id = dest_start_id + (overlap_start_id - mapping_start_id)\n",
    "                new_length = overlap_end_id - overlap_start_id + 1\n",
    "                result_ranges.append((new_start_id, new_length))\n",
    "            current_ranges = new_current_ranges\n",
    "        current_ranges += result_ranges\n",
    "\n",
    "    return min(start_id for start_id, length in current_ranges)\n",
    "\n",
    "print('part 1', min(\n",
    "    get_location(seed_id)\n",
    "    for seed_id in initial_seeds\n",
    "))\n",
    "print('part 2', get_location_range([\n",
    "    (initial_seeds[index], initial_seeds[index + 1])\n",
    "    for index in range(0, len(initial_seeds), 2)\n",
    "]))"
   ]
  },
  {
   "cell_type": "markdown",
   "id": "0206b8c1-6c79-4e83-b56f-15f66f7c348a",
   "metadata": {},
   "source": [
    "# Day 6"
   ]
  },
  {
   "cell_type": "code",
   "execution_count": 7,
   "id": "e65eae26-a5ba-4280-839d-70bd13d44583",
   "metadata": {},
   "outputs": [
    {
     "name": "stdout",
     "output_type": "stream",
     "text": [
      "part 1 6209190\n",
      "part 2 28545089\n"
     ]
    }
   ],
   "source": [
    "lines = read_input(day=6)\n",
    "times, goals = [list(map(int, x.split(':')[1].split())) for x in lines]\n",
    "\n",
    "def ways_to_beat(race_time, race_goal):\n",
    "    return sum(\n",
    "        time_holding * (race_time - time_holding) > race_goal\n",
    "        for time_holding in range(1, race_time)\n",
    "    )\n",
    "    \n",
    "print('part 1', reduce(mul, (\n",
    "    ways_to_beat(race_time, race_goal)\n",
    "    for race_time, race_goal in zip(times, goals)\n",
    ")))\n",
    "\n",
    "race_time, race_goal = [int(\"\".join(x.split(':')[1].split())) for x in lines]\n",
    "print('part 2', ways_to_beat(race_time, race_goal))"
   ]
  },
  {
   "cell_type": "markdown",
   "id": "1a5d3594-64c4-4189-b1c5-8dcd1f03deda",
   "metadata": {},
   "source": [
    "# Day 7"
   ]
  },
  {
   "cell_type": "code",
   "execution_count": 8,
   "id": "b7e994e9-67c1-4969-bb10-3361d664c19c",
   "metadata": {},
   "outputs": [
    {
     "name": "stdout",
     "output_type": "stream",
     "text": [
      "part 1 251136060\n",
      "part 2 249400220\n"
     ]
    }
   ],
   "source": [
    "lines = read_input(day=7)\n",
    "\n",
    "JOKER_STRENGHT = 1\n",
    "\n",
    "def hand_strength(hand, use_joker):\n",
    "    face_cards = {card: index + 10 for index, card in enumerate(['T', 'J', 'Q', 'K', 'A'])}\n",
    "    if use_joker:\n",
    "        face_cards['J'] = JOKER_STRENGHT\n",
    "\n",
    "    face_values = [face_cards[card] if card in face_cards else int(card) for card in hand]\n",
    "    card_counts = Counter(face_values)\n",
    "    sorted_card_counts = card_counts.most_common()\n",
    "    if len(sorted_card_counts) != 1 and JOKER_STRENGHT in card_counts:\n",
    "        joker_count = card_counts[JOKER_STRENGHT]\n",
    "        sorted_card_counts = [count for count in sorted_card_counts if count[0] != JOKER_STRENGHT]\n",
    "        sorted_card_counts[0] = (sorted_card_counts[0][0], sorted_card_counts[0][1] + joker_count)\n",
    "    sortable_values = [count[1] for count in sorted_card_counts]\n",
    "    return \"\".join([chr(ord('a') + x) for x in sortable_values + face_values])\n",
    "\n",
    "\n",
    "def deck_sum(deck, use_joker):\n",
    "    cards_and_bids = [\n",
    "        (hand_strength(line.split()[0], use_joker), int(line.split()[1]))\n",
    "        for line in deck\n",
    "    ]\n",
    "    return sum(\n",
    "        (index + 1) * bid\n",
    "        for index, (_, bid) in enumerate(sorted(cards_and_bids, key=lambda x: x[0]))\n",
    "    )\n",
    "    \n",
    "print('part 1', deck_sum(lines, use_joker=False))\n",
    "print('part 2', deck_sum(lines, use_joker=True))"
   ]
  },
  {
   "cell_type": "markdown",
   "id": "86cc1aec-fed3-4de3-85bd-b2824a5ee790",
   "metadata": {},
   "source": [
    "# Day 8"
   ]
  },
  {
   "cell_type": "code",
   "execution_count": 9,
   "id": "bfde6032-43eb-44ce-be14-3cece59753f6",
   "metadata": {},
   "outputs": [
    {
     "name": "stdout",
     "output_type": "stream",
     "text": [
      "part 1 16043\n",
      "part 2 15726453850399\n"
     ]
    }
   ],
   "source": [
    "lines = read_input(day=8)\n",
    "instructions, _, *mappings = lines\n",
    "directions = {}\n",
    "\n",
    "for mapping in mappings:\n",
    "    source, destinations = mapping.split(' = ')\n",
    "    dest_a, dest_b = destinations[1:-1].split(', ')\n",
    "    directions[source] = (dest_a, dest_b)\n",
    "\n",
    "def distance(start):\n",
    "    index = 0\n",
    "    current = start\n",
    "    while not current.endswith('Z'):\n",
    "        next_dir = 0 if instructions[index % len(instructions)] == 'L' else 1\n",
    "        current = directions[current][next_dir]\n",
    "        index += 1\n",
    "    return index\n",
    "\n",
    "print('part 1', distance('AAA'))\n",
    "print('part 2', math.lcm(*[distance(node) for node in directions if node.endswith('A')]))"
   ]
  },
  {
   "cell_type": "markdown",
   "id": "e3e5d526-7ef2-4343-abcf-c53e78f9cd1c",
   "metadata": {},
   "source": [
    "# Day 9"
   ]
  },
  {
   "cell_type": "code",
   "execution_count": 10,
   "id": "46b9d76e-2f03-4e76-b68f-bb1115581728",
   "metadata": {},
   "outputs": [
    {
     "name": "stdout",
     "output_type": "stream",
     "text": [
      "part 1 1762065988\n",
      "part 2 1066\n"
     ]
    }
   ],
   "source": [
    "lines = read_input(day=9)\n",
    "lines = [list(map(int, line.split())) for line in lines]\n",
    "\n",
    "total_right = 0\n",
    "total_left = 0\n",
    "for line in lines:\n",
    "    rows = [[b - a for a, b in zip(line, line[1:])]]\n",
    "    while any(rows[-1]):\n",
    "        rows.append([b - a for a, b in zip(rows[-1], rows[-1][1:])])\n",
    "    total_right += line[-1] + sum(row[-1] for row in rows)\n",
    "    total_left += line[0] -  sum(row[0] * (-1 if index % 2 else 1) for index, row in enumerate(rows))\n",
    "print('part 1', total_right)\n",
    "print('part 2', total_left)"
   ]
  },
  {
   "cell_type": "markdown",
   "id": "e26dabc4-c3b3-4840-bfff-ecf39e11df64",
   "metadata": {},
   "source": [
    "# Day 10"
   ]
  },
  {
   "cell_type": "code",
   "execution_count": 11,
   "id": "da8bbecf-0f08-401f-86ef-e2606a241717",
   "metadata": {},
   "outputs": [
    {
     "name": "stdout",
     "output_type": "stream",
     "text": [
      "part 1 6649\n",
      "part 2 601\n"
     ]
    }
   ],
   "source": [
    "matrix = read_matrix(day=10, dtype=str)\n",
    "expand = np.pad(matrix, (1, 1), constant_values=['.'])\n",
    "NEXTS = {\n",
    "    '|': [(1, 0), (-1, 0)],\n",
    "    '-': [(0, -1), (0, 1)],\n",
    "    'L': [(-1, 0), (0, 1)],\n",
    "    'J': [(-1, 0), (0, -1)],\n",
    "    '7': [(1, 0), (0, -1)],\n",
    "    'F': [(1, 0), (0, 1)],\n",
    "    '.': []\n",
    "}\n",
    "\n",
    "s_coords = np.where(expand == 'S')\n",
    "start = s_coords[0][0], s_coords[1][0]\n",
    "\n",
    "def find_loop(current, last):\n",
    "    path = [last, current]\n",
    "    while current != start:\n",
    "        for dy, dx in NEXTS[expand[current]]:\n",
    "            next_pos = current[0] + dy, current[1] + dx\n",
    "            if next_pos == start:\n",
    "                return path\n",
    "            if next_pos == last or (-dy, -dx) not in NEXTS[expand[next_pos]]:\n",
    "                continue\n",
    "            path.append(next_pos)\n",
    "            current, last = next_pos, current\n",
    "            break\n",
    "        else:\n",
    "            return []\n",
    "    return path\n",
    "        \n",
    "\n",
    "for dy, dx in DIRECTIONS_4:\n",
    "    next_pos = (start[0] + dy, start[1] + dx)\n",
    "    if (-dy, -dx) not in NEXTS[expand[next_pos]]:\n",
    "        continue\n",
    "    path = find_loop(next_pos, start)\n",
    "    if path:\n",
    "        break\n",
    "print('part 1', len(path) // 2 + len(path) % 2)\n",
    "start_char_nexts = {\n",
    "    (path[1][0] - path[0][0], path[1][1] - path[0][1]),\n",
    "    (path[-1][0] - path[0][0], path[-1][1] - path[0][1])\n",
    "}\n",
    "start_char = [char for char, nexts in NEXTS.items() if set(nexts) == start_char_nexts][0]\n",
    "expand[start[0], start[1]] = start_char\n",
    "path = set(path)\n",
    "\n",
    "def is_inside_polygon(y, x):\n",
    "    count = 0\n",
    "    on_edge = None\n",
    "    for x in range(x, expand.shape[1]):\n",
    "        if (y, x) not in path:\n",
    "            continue\n",
    "        if expand[y, x] in ['|', on_edge]:\n",
    "            count += 1\n",
    "            on_edge = None\n",
    "        elif expand[y, x] in ['F', 'L']:\n",
    "            on_edge = 'J' if expand[y, x] == 'F' else '7'\n",
    "                \n",
    "    return count % 2 == 1\n",
    "print('part 2', sum(\n",
    "    is_inside_polygon(y, x)\n",
    "    for y in range(matrix.shape[0])\n",
    "    for x in range(matrix.shape[1])\n",
    "    if (y, x) not in path\n",
    "))"
   ]
  },
  {
   "cell_type": "markdown",
   "id": "8d7972ab-fa95-45a4-b4a7-6ac7d388df64",
   "metadata": {},
   "source": [
    "# Day 11"
   ]
  },
  {
   "cell_type": "code",
   "execution_count": 12,
   "id": "3bdcc2f7-060d-4c1c-906a-01317806ed3f",
   "metadata": {},
   "outputs": [
    {
     "name": "stdout",
     "output_type": "stream",
     "text": [
      "part 1 9522407\n",
      "part 2 544723432977\n"
     ]
    }
   ],
   "source": [
    "matrix = read_matrix(day=11, dtype=str)\n",
    "\n",
    "emptiness = matrix != '.'\n",
    "empty_rows = np.cumsum(np.sum(emptiness, axis=1) == 0)\n",
    "empty_columns = np.cumsum(np.sum(emptiness, axis=0) == 0)\n",
    "ys, xs = np.where(matrix == '#')\n",
    "\n",
    "def diffs(coords, empty, mult):\n",
    "    coords = coords + empty[coords] * (mult - 1)\n",
    "    all_coords = np.tile(coords, len(coords)).reshape(len(coords), len(coords))\n",
    "    roll_amounts = np.arange(len(coords))\n",
    "    rows, column_indices = np.ogrid[:all_coords.shape[0], :all_coords.shape[1]]\n",
    "    column_indices = column_indices - roll_amounts[:, np.newaxis]\n",
    "    return np.sum(np.abs(all_coords[rows, column_indices] - coords))\n",
    "\n",
    "part_1_mult = 2\n",
    "part_2_mult = 1000000\n",
    "print('part 1', (diffs(xs, empty_columns, part_1_mult) + diffs(ys, empty_rows, part_1_mult)) // 2)\n",
    "print('part 2', (diffs(xs, empty_columns, part_2_mult) + diffs(ys, empty_rows, part_2_mult)) // 2)"
   ]
  },
  {
   "cell_type": "markdown",
   "id": "2708610b-0f19-4dc0-a69d-a6a58bf5c2d7",
   "metadata": {},
   "source": [
    "# Day 12"
   ]
  },
  {
   "cell_type": "code",
   "execution_count": 13,
   "id": "ed49f0d1-f8dc-41c9-abb9-effee0bd5d25",
   "metadata": {},
   "outputs": [
    {
     "name": "stdout",
     "output_type": "stream",
     "text": [
      "part 1 7694\n",
      "part 2 5071883216318\n"
     ]
    }
   ],
   "source": [
    "lines = read_input(day=12)\n",
    "\n",
    "@cache\n",
    "def calculate_possibilities(num_count, line, groups):\n",
    "    if len(groups) == 0:\n",
    "        return int(num_count == 0 and '#' not in line)\n",
    "    for index in range(len(line)):\n",
    "        if line[index] == '#':\n",
    "            num_count += 1\n",
    "            if num_count > groups[0]:\n",
    "                return 0\n",
    "        elif line[index] == '.':\n",
    "            if num_count > 0:\n",
    "                if num_count != groups[0]:\n",
    "                    return 0\n",
    "                else:\n",
    "                    num_count = 0\n",
    "                    groups = groups[1:]\n",
    "                    if not groups:\n",
    "                        return int('#' not in line[index + 1:])\n",
    "        elif line[index] == '?':\n",
    "            with_group = calculate_possibilities(num_count + 1, line[index + 1:], groups)\n",
    "            if num_count == 0:\n",
    "               return (\n",
    "                    with_group + \n",
    "                    calculate_possibilities(0, line[index + 1:], groups)\n",
    "                )\n",
    "            else:\n",
    "                with_dot = (\n",
    "                    calculate_possibilities(0, line[index + 1:], groups[1:])\n",
    "                    if num_count == groups[0]\n",
    "                    else 0\n",
    "                )\n",
    "                return with_dot + with_group\n",
    "    return int(\n",
    "        (num_count > 0 and len(groups) == 1 and groups[0] == num_count) or \n",
    "        num_count == 0 and not groups\n",
    "    )\n",
    "\n",
    "total = 0\n",
    "total_2 = 0\n",
    "for line in lines:\n",
    "    values, groups_str = line.split()\n",
    "    groups = tuple(map(int, groups_str.split(',')))\n",
    "    answer = calculate_possibilities(0, values, groups)\n",
    "    total += answer\n",
    "\n",
    "    answer_2 = calculate_possibilities(0, '?'.join([values] * 5), groups * 5)\n",
    "    total_2 += answer_2\n",
    "print('part 1', total)\n",
    "print('part 2', total_2)"
   ]
  },
  {
   "cell_type": "markdown",
   "id": "785ba009-54f5-4cb6-9507-5f470a7e3c76",
   "metadata": {},
   "source": [
    "# Day 13"
   ]
  },
  {
   "cell_type": "code",
   "execution_count": 14,
   "id": "cc378b04-93a0-4aed-8628-674da5d534a8",
   "metadata": {},
   "outputs": [
    {
     "name": "stdout",
     "output_type": "stream",
     "text": [
      "part 1 33047\n",
      "part 2 28806\n"
     ]
    }
   ],
   "source": [
    "lines = read_input(day=13)\n",
    "\n",
    "def calc_horizontal(matrix, error):\n",
    "    for i in range(1, matrix.shape[0]):\n",
    "        height = min(i, matrix.shape[0] - i)\n",
    "        top = matrix[i - height:i, :]\n",
    "        bottom = matrix[i: i + height]\n",
    "        if np.sum(top == bottom[::-1, :]) == top.size - error:\n",
    "            return i\n",
    "    return 0\n",
    "def calc_vertical(matrix, error):\n",
    "    for i in range(1, matrix.shape[1]):\n",
    "        width = min(i, matrix.shape[1] - i)\n",
    "        left = matrix[:, i - width : i]\n",
    "        right = matrix[:, i: i + width]\n",
    "        if np.sum(left == right[:, ::-1]) == left.size - error:\n",
    "            return i\n",
    "    return 0\n",
    "\n",
    "start_index = 0\n",
    "total = 0\n",
    "total_2 = 0\n",
    "for line_index, line in enumerate(lines + ['']):\n",
    "    if not line:\n",
    "        matrix = np.array([list(row) for row in lines[start_index: line_index]])\n",
    "        total += calc_horizontal(matrix, 0) * 100 + calc_vertical(matrix, 0)\n",
    "        total_2 += calc_horizontal(matrix, 1) * 100 + calc_vertical(matrix, 1)\n",
    "        start_index = line_index + 1\n",
    "print('part 1', total)\n",
    "print('part 2', total_2)"
   ]
  },
  {
   "cell_type": "markdown",
   "id": "d29ed1d7-03f5-456e-aebc-332302a4b3f0",
   "metadata": {},
   "source": [
    "# Day 14"
   ]
  },
  {
   "cell_type": "code",
   "execution_count": 15,
   "id": "bdfb4067-dc64-4295-8887-13cd27a4ef5c",
   "metadata": {},
   "outputs": [
    {
     "name": "stdout",
     "output_type": "stream",
     "text": [
      "part 1 110090\n",
      "part 2 95254\n"
     ]
    }
   ],
   "source": [
    "matrix = read_matrix(day=14, dtype=str)\n",
    "expand = np.pad(matrix, (1, 1), constant_values=['#'])\n",
    "\n",
    "def turn_up(table, reverse):\n",
    "    working_table = table if not reverse else table[::-1, :].copy()\n",
    "    stones = list(zip(*np.where(working_table == '#')))\n",
    "    balls = list(zip(*np.where(working_table == 'O')))\n",
    "    for index in range(working_table.shape[1]):\n",
    "        stone_indexes = [y for y, x in stones if x == index]\n",
    "        ball_indexes = [y for y, x in balls if x == index]\n",
    "        new_column = np.full_like(working_table[:, index], '.')\n",
    "        new_column[stone_indexes] = '#'\n",
    "        offsets = defaultdict(lambda: 1)\n",
    "\n",
    "        for ball in ball_indexes:\n",
    "            stone_index = bisect_right(stone_indexes, ball) - 1\n",
    "            new_column[stone_indexes[stone_index] + offsets[stone_index]] = 'O'\n",
    "            offsets[stone_index] += 1\n",
    "        table[:, index] = new_column if not reverse else new_column[::-1]\n",
    "\n",
    "def turn_left(table, reverse):\n",
    "    working_table = table if not reverse else table[:, ::-1].copy()\n",
    "    stones = list(zip(*np.where(working_table == '#')))\n",
    "    balls = list(zip(*np.where(working_table == 'O')))\n",
    "    for index in range(working_table.shape[0]):\n",
    "        stone_indexes = [x for y, x in stones if y == index]\n",
    "        ball_indexes = [x for y, x in balls if y == index]\n",
    "        new_column = np.full_like(working_table[index, :], '.')\n",
    "        new_column[stone_indexes] = '#'\n",
    "        offsets = defaultdict(lambda: 1)\n",
    "\n",
    "        for ball in ball_indexes:\n",
    "            stone_index = bisect_right(stone_indexes, ball) - 1\n",
    "            new_column[stone_indexes[stone_index] + offsets[stone_index]] = 'O'\n",
    "            offsets[stone_index] += 1\n",
    "        table[index, :] = new_column if not reverse else new_column[::-1]\n",
    "\n",
    "def start_cycling():\n",
    "    old_states = []\n",
    "    total_cycles = 1000000000\n",
    "    for cycle in range(total_cycles):\n",
    "        turn_up(expand, False)\n",
    "        if cycle == 0:\n",
    "            print('part 1', sum(expand.shape[0] - np.where(expand == 'O')[0] - 1))\n",
    "        turn_left(expand, False)\n",
    "        turn_up(expand, True)\n",
    "        turn_left(expand, True)\n",
    "    \n",
    "        for match_index, old_state in enumerate(old_states):\n",
    "            if np.all(old_state == expand):\n",
    "                target_cycle = (total_cycles - match_index) % (cycle - match_index)\n",
    "                return old_states[match_index + target_cycle - 1]\n",
    "        old_states.append(expand.copy())\n",
    "\n",
    "end_state = start_cycling()\n",
    "print('part 2', sum(end_state.shape[0] - np.where(end_state == 'O')[0] - 1))"
   ]
  },
  {
   "cell_type": "markdown",
   "id": "a00ae272-0c95-444c-b263-16ca8fbc69d0",
   "metadata": {},
   "source": [
    "# Day 15"
   ]
  },
  {
   "cell_type": "code",
   "execution_count": 16,
   "id": "4c07c45b-7413-47a4-9b19-93cf78c7f673",
   "metadata": {},
   "outputs": [
    {
     "name": "stdout",
     "output_type": "stream",
     "text": [
      "part 1 510273\n",
      "part 2 212449\n"
     ]
    }
   ],
   "source": [
    "line = read_input(day=15)[0]\n",
    "\n",
    "def HASH(word):\n",
    "    total = 0\n",
    "    for char in word:\n",
    "        total = ((total + ord(char)) * 17) % 256\n",
    "    return total\n",
    "\n",
    "total = 0\n",
    "boxes = defaultdict(list)\n",
    "for word in line.split(','):\n",
    "    total += HASH(word)\n",
    "\n",
    "    label, op, strenght = word.partition('=' if '=' in word else '-')\n",
    "    box = HASH(label)\n",
    "    if op == '-':\n",
    "        boxes[box] = [[lens_label, lens_strenght] for lens_label, lens_strenght in boxes[box] if lens_label != label]\n",
    "    else:\n",
    "        found = False\n",
    "        for index, (lens_label, lens_strenght) in enumerate(boxes[box]):\n",
    "            if lens_label == label:\n",
    "                boxes[box][index][1] = strenght\n",
    "                break\n",
    "        else:\n",
    "            boxes[box].append([label, strenght])\n",
    "\n",
    "total_2 = sum(\n",
    "    (1 + box_id) * (slot + 1) * int(lens[1])\n",
    "    for box_id, lenses in boxes.items()\n",
    "    for slot, lens in enumerate(lenses)\n",
    ")\n",
    "print('part 1', total)\n",
    "print('part 2', total_2)"
   ]
  },
  {
   "cell_type": "markdown",
   "id": "13ed9e3f-d34a-4a9d-aba1-2fb6981d3fe8",
   "metadata": {},
   "source": [
    "# Day 16"
   ]
  },
  {
   "cell_type": "code",
   "execution_count": 91,
   "id": "e606e095-4388-42f3-bbdf-bd37b3621a08",
   "metadata": {},
   "outputs": [
    {
     "name": "stdout",
     "output_type": "stream",
     "text": [
      "part 1 7798\n",
      "part 2 8026\n"
     ]
    }
   ],
   "source": [
    "matrix = read_matrix(day=16, dtype=str)\n",
    "all_beams = set()\n",
    "for y in range(matrix.shape[0]):\n",
    "    all_beams.add(((y, -1), (0, 1)))\n",
    "    all_beams.add(((y, matrix.shape[1]), (0, -1)))\n",
    "for x in range(matrix.shape[1]):\n",
    "    all_beams.add(((-1, x), (1, 0)))\n",
    "    all_beams.add(((matrix.shape[0], x), (-1, 0)))\n",
    "\n",
    "def answer(starting_beam):\n",
    "    found = set()\n",
    "    beams = {starting_beam}\n",
    "    while beams:\n",
    "        beams = {\n",
    "            next_beam\n",
    "            for current_beam in beams\n",
    "            for next_beam in calc_next(current_beam, found)\n",
    "        }\n",
    "    return len({pos for pos, _ in found})\n",
    "\n",
    "def calc_next(beam, found):\n",
    "    (y, x), (dy, dx) = beam\n",
    "    next_pos = y + dy, x + dx\n",
    "    pos_id = (next_pos, (dy, dx))\n",
    "    if not (0 <= next_pos[0] < matrix.shape[0] and 0 <= next_pos[1] < matrix.shape[1]) or pos_id in found:\n",
    "        return []\n",
    "    found.add(pos_id)\n",
    "    if matrix[next_pos] == '/':\n",
    "        next_dirs = [(-dx, -dy)]\n",
    "    elif matrix[next_pos] == '\\\\':\n",
    "        next_dirs = [(dx, dy)]\n",
    "    elif matrix[next_pos] == '-' and dy != 0:\n",
    "        next_dirs = [(0, -1), (0, 1)]\n",
    "    elif matrix[next_pos] == '|' and dx != 0:\n",
    "        next_dirs = [(-1, 0), (1, 0)]\n",
    "    else:\n",
    "        next_dirs = [(dy, dx)]\n",
    "    return [(next_pos, next_dir) for next_dir in next_dirs]\n",
    "\n",
    "print('part 1', answer(((0, -1), (0, 1))))\n",
    "print('part 2', max(answer(beam) for beam in all_beams))"
   ]
  },
  {
   "cell_type": "markdown",
   "id": "51a1b087-a212-48ae-97fc-319b208708eb",
   "metadata": {},
   "source": [
    "# Day 17"
   ]
  },
  {
   "cell_type": "code",
   "execution_count": 218,
   "id": "ecc2e324-bdce-4843-a2d0-c00af5c931a1",
   "metadata": {},
   "outputs": [
    {
     "name": "stdout",
     "output_type": "stream",
     "text": [
      "part 1 1256\n",
      "part 2 1382\n"
     ]
    }
   ],
   "source": [
    "matrix = read_matrix(day=17)\n",
    "matrix = np.pad(matrix, (1, 1), constant_values=[-1])\n",
    "\n",
    "@dataclass(order=True)\n",
    "class State:\n",
    "    cost: int\n",
    "    pos: Tuple[int, int]\n",
    "    last: Optional[Tuple[int, int]]\n",
    "    straights: int\n",
    "\n",
    "start = (1, 1)\n",
    "end = (matrix.shape[0] - 2, matrix.shape[1] - 2)\n",
    "\n",
    "def calculate_min_run(min_steps, max_steps):\n",
    "    queue = PriorityQueue()\n",
    "    queue.put(State(0, start, None, 0))\n",
    "    best_found = {}\n",
    "    best_end = None\n",
    "    \n",
    "    while not queue.empty():\n",
    "        current = queue.get()\n",
    "        for dy, dx in DIRECTIONS_4:\n",
    "            next_pos = current.pos[0] + dy, current.pos[1] + dx\n",
    "            same_direction = (\n",
    "                current.last and\n",
    "                (current.pos[0] - current.last[0] == dy) and\n",
    "                (current.pos[1] - current.last[1] == dx)\n",
    "            )\n",
    "            if (\n",
    "                (current.last and current.straights < min_steps and not same_direction) or\n",
    "                (matrix[next_pos] == -1 or next_pos == current.last or (current.straights == max_steps and same_direction))\n",
    "            ):\n",
    "                continue\n",
    "    \n",
    "            new_straights = current.straights + 1 if same_direction else 1\n",
    "            new_cost = current.cost + matrix[next_pos]\n",
    "            new_best_index = (next_pos, new_straights, (dy, dx))\n",
    "            if best_end and new_cost >= best_end:\n",
    "                continue\n",
    "            if new_best_index not in best_found or best_found[new_best_index].cost > new_cost: \n",
    "                new_state = State(\n",
    "                    new_cost,\n",
    "                    next_pos,\n",
    "                    current.pos,\n",
    "                    new_straights,\n",
    "                )\n",
    "                queue.put(new_state)\n",
    "                best_found[new_best_index] = new_state\n",
    "                if next_pos == end:\n",
    "                    best_end = new_cost if not best_end else min(new_cost, best_end)\n",
    "    return best_end\n",
    "            \n",
    "print('part 1', calculate_min_run(0, 3))\n",
    "print('part 2', calculate_min_run(4, 10))"
   ]
  },
  {
   "cell_type": "markdown",
   "id": "fc4b2e0b-8b58-4e31-a3c4-f024b14e7d75",
   "metadata": {},
   "source": [
    "# Day 18"
   ]
  },
  {
   "cell_type": "code",
   "execution_count": 141,
   "id": "96a60e90-5bed-4e4e-a91a-0debc68f7bd9",
   "metadata": {},
   "outputs": [
    {
     "name": "stdout",
     "output_type": "stream",
     "text": [
      "part 1 56923\n",
      "part 2 66296566363189\n"
     ]
    }
   ],
   "source": [
    "lines = read_input(day=18)\n",
    "directions = [(0, 1), (1, 0), (0, -1), (-1, 0)]\n",
    "letter_to_direction = {letter: directions[index] for index, letter in enumerate(['R', 'D', 'L', 'U'])}\n",
    "\n",
    "def calc_answer(hex_parsing):\n",
    "    current = (0, 0)\n",
    "    perimeter = 0\n",
    "    ys, xs = [], []\n",
    "    for line in lines:\n",
    "        direction, steps, hex = line.split()\n",
    "        if hex_parsing:\n",
    "            steps = int(hex[2:-2], 16)\n",
    "            dy, dx = directions[int(hex[-2])]\n",
    "        else:\n",
    "            steps = int(steps)\n",
    "            dy, dx = letter_to_direction[direction]\n",
    "            \n",
    "        next_point = (current[0] + dy * steps, current[1] + dx * steps)\n",
    "        ys.append(next_point[0])\n",
    "        xs.append(next_point[1])\n",
    "        perimeter += abs(next_point[0] - current[0]) + abs(next_point[1] - current[1])\n",
    "        current = next_point\n",
    "\n",
    "    return int(0.5*np.abs(np.dot(xs,np.roll(ys,1))-np.dot(ys,np.roll(xs,1)))) + perimeter // 2 + 1\n",
    "print('part 1', calc_answer(hex_parsing=False))\n",
    "print('part 2', calc_answer(hex_parsing=True))"
   ]
  },
  {
   "cell_type": "markdown",
   "id": "e81e5016-12c8-4c4b-85be-49ef79ec8959",
   "metadata": {},
   "source": [
    "# Day 19"
   ]
  },
  {
   "cell_type": "code",
   "execution_count": 306,
   "id": "57abfac3-db7d-4d6c-898d-f5de210a10fb",
   "metadata": {},
   "outputs": [
    {
     "name": "stdout",
     "output_type": "stream",
     "text": [
      "part 1 418498\n",
      "part 2 123331556462603\n"
     ]
    }
   ],
   "source": [
    "lines = read_input(day=19)\n",
    "line_break = lines.index('')\n",
    "parts = lines[line_break + 1:]\n",
    "\n",
    "workflows = {}\n",
    "\n",
    "@dataclass\n",
    "class Rule:\n",
    "    redirect: str\n",
    "    check_type: Optional[str] = None\n",
    "    part_stat: Optional[str] = None\n",
    "    check_value: Optional[int] = None\n",
    "\n",
    "def parse_rule(rule_line: str) -> Rule:\n",
    "    if '<' in rule_line:\n",
    "            check_symbol = '<'\n",
    "    elif '>' in rule_line:\n",
    "        check_symbol = '>'\n",
    "    else:\n",
    "        check_symbol = None\n",
    "    if check_symbol:\n",
    "        check, redirect = rule_line.split(':')\n",
    "        part_stat, check_value = check.split(check_symbol)\n",
    "        return Rule(redirect=redirect, check_type=check_symbol, part_stat=part_stat, check_value=int(check_value))\n",
    "    return Rule(redirect=rule_line)\n",
    "\n",
    "\n",
    "workflows = {}\n",
    "for workflow_line in lines[:line_break]:\n",
    "    workflow_name, rules = workflow_line[:-1].split('{')\n",
    "    rules = [\n",
    "        parse_rule(rule_line)\n",
    "        for rule_line in rules.split(',')\n",
    "    ]\n",
    "    workflows[workflow_name] = rules\n",
    "\n",
    "parts = []\n",
    "for part_line in lines[line_break + 1:]:\n",
    "    part = {}\n",
    "    for stat_line in part_line[1:-1].split(','):\n",
    "        part_stat, part_value = stat_line.split('=')\n",
    "        part[part_stat] = int(part_value)\n",
    "    parts.append(part)\n",
    "\n",
    "def is_accepted(part):\n",
    "    current_workflow = 'in'\n",
    "    while True:\n",
    "        for rule in workflows[current_workflow]:\n",
    "            if (\n",
    "                rule.check_type is None or\n",
    "                (rule.check_type == '<' and part[rule.part_stat] < rule.check_value) or\n",
    "                (rule.check_type == '>' and part[rule.part_stat] > rule.check_value)\n",
    "               ):\n",
    "                if rule.redirect == 'A':\n",
    "                    return True\n",
    "                if rule.redirect == 'R':\n",
    "                    return False\n",
    "                current_workflow = rule.redirect\n",
    "                break\n",
    "\n",
    "print('part 1', sum(\n",
    "    sum(part.values())\n",
    "    for part in parts\n",
    "    if is_accepted(part)\n",
    "))          \n",
    "\n",
    "def update_limit(old_limit, greater, new_value, inclusive):\n",
    "    old_min, old_max = old_limit\n",
    "    if greater:\n",
    "        old_min = max(old_min, new_value + int(inclusive))\n",
    "    else:\n",
    "        old_max = min(old_max, new_value - int(inclusive))\n",
    "    if old_min > old_max:\n",
    "        return None\n",
    "    return old_min, old_max\n",
    "    \n",
    "\n",
    "def find_distinctive(workflow_name, part_limits):\n",
    "    part_limits = part_limits.copy()\n",
    "    if workflow_name == 'R':\n",
    "        return 0\n",
    "    if workflow_name == 'A':\n",
    "        return reduce(mul, [(max_value - min_value + 1) for min_value, max_value in part_limits.values()])\n",
    "    total = 0\n",
    "    for rule in workflows[workflow_name]:\n",
    "        if rule.check_type is None:\n",
    "            total += find_distinctive(rule.redirect, part_limits)\n",
    "            break\n",
    "        greater = rule.check_type == '>'\n",
    "        new_limit = update_limit(part_limits[rule.part_stat], greater, rule.check_value, inclusive=True)\n",
    "        if new_limit:\n",
    "            new_part_limits = part_limits.copy()\n",
    "            new_part_limits[rule.part_stat] = new_limit\n",
    "            total += find_distinctive(rule.redirect, new_part_limits)\n",
    "        new_limit = update_limit(part_limits[rule.part_stat], not greater, rule.check_value, inclusive=False)\n",
    "        if new_limit is None:\n",
    "            break\n",
    "        part_limits[rule.part_stat] = new_limit\n",
    "    return total\n",
    "part_limits = {part_stat: (1, 4000) for part_stat in 'xmas'}\n",
    "print('part 2', find_distinctive('in', part_limits))"
   ]
  },
  {
   "cell_type": "markdown",
   "id": "ca3d4753-fd3c-4d46-89cb-cd8bcc70739b",
   "metadata": {},
   "source": [
    "# Day 20"
   ]
  },
  {
   "cell_type": "code",
   "execution_count": 397,
   "id": "bb591ace-ea6f-4640-886e-4a678a4d1bea",
   "metadata": {
    "scrolled": true
   },
   "outputs": [
    {
     "name": "stdout",
     "output_type": "stream",
     "text": [
      "part 1 821985143\n",
      "part 2 240853834793347\n"
     ]
    }
   ],
   "source": [
    "from tqdm import tqdm\n",
    "test = '''broadcaster -> a\n",
    "%a -> inv, con\n",
    "&inv -> b\n",
    "%b -> con\n",
    "&con -> output'''\n",
    "lines = read_input(day=20, hardcoded_input=None)\n",
    "\n",
    "BROADCASTER = 'broadcaster'\n",
    "FLIP_FLOP = '%'\n",
    "CONJUNCTOR = '&'\n",
    "target_conjunctors = {'jg', 'rh', 'jm', 'hf'}\n",
    "target_conjunctors_cycle = []\n",
    "\n",
    "module_targets = {}\n",
    "module_types = {}\n",
    "flip_flop_states = {}\n",
    "conjunctor_inputs = defaultdict(dict)\n",
    "\n",
    "for line in lines:\n",
    "    module, targets = line.split(' -> ')\n",
    "    if module != BROADCASTER:\n",
    "        module_type = module[0]\n",
    "        module = module[1:]\n",
    "        module_types[module] = module_type\n",
    "        if module_type == FLIP_FLOP:\n",
    "            flip_flop_states[module] = False\n",
    "    module_targets[module] = targets.split(', ')\n",
    "\n",
    "for module, targets in module_targets.items():\n",
    "    for target in targets:\n",
    "        if target not in module_types:\n",
    "            continue\n",
    "        if module_types[target] == CONJUNCTOR:\n",
    "            conjunctor_inputs[target][module] = False\n",
    "\n",
    "low_pulses = 0\n",
    "high_pulses = 0\n",
    "\n",
    "for pulse_index in range(5000):\n",
    "    if pulse_index == 1000:\n",
    "        print('part 1', low_pulses * high_pulses)\n",
    "    pulses = [(False, target, BROADCASTER) for target in module_targets[BROADCASTER]]\n",
    "    low_pulses += 1\n",
    "    while pulses:\n",
    "        (is_high, target, source), *pulses = pulses\n",
    "        if source in target_conjunctors and is_high:\n",
    "            target_conjunctors_cycle.append(pulse_index + 1)\n",
    "            if len(target_conjunctors_cycle) == len(target_conjunctors):\n",
    "                print('part 2', math.lcm(*target_conjunctors_cycle))  \n",
    "        if is_high:\n",
    "            high_pulses += 1\n",
    "        else:\n",
    "            low_pulses += 1\n",
    "        if target not in module_types:\n",
    "            if not is_high:\n",
    "                print(pulse_index)\n",
    "            continue\n",
    "        if module_types[target] == FLIP_FLOP and not is_high:\n",
    "            flip_flop_states[target] = not flip_flop_states[target]\n",
    "            pulses += [(flip_flop_states[target], response_target, target) for response_target in module_targets[target]]\n",
    "        if module_types[target] == CONJUNCTOR:\n",
    "            conjunctor_inputs[target][source] = is_high\n",
    "            all_high = all(conjunctor_inputs[target].values())\n",
    "            pulses += [(not all_high, response_target, target) for response_target in module_targets[target]] "
   ]
  },
  {
   "cell_type": "markdown",
   "id": "f15ab58d-e7cc-47ae-ba6a-98e7ac3cc42c",
   "metadata": {},
   "source": [
    "# Day 21"
   ]
  },
  {
   "cell_type": "code",
   "execution_count": null,
   "id": "3f082378-dd03-413b-80c7-2f8fbe305a7b",
   "metadata": {},
   "outputs": [],
   "source": []
  }
 ],
 "metadata": {
  "kernelspec": {
   "display_name": "Python 3 (ipykernel)",
   "language": "python",
   "name": "python3"
  },
  "language_info": {
   "codemirror_mode": {
    "name": "ipython",
    "version": 3
   },
   "file_extension": ".py",
   "mimetype": "text/x-python",
   "name": "python",
   "nbconvert_exporter": "python",
   "pygments_lexer": "ipython3",
   "version": "3.11.3"
  }
 },
 "nbformat": 4,
 "nbformat_minor": 5
}
