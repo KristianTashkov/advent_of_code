{
 "cells": [
  {
   "cell_type": "code",
   "execution_count": 401,
   "id": "a6e738d6-9ae5-43ba-80b0-d065dd34510f",
   "metadata": {},
   "outputs": [
    {
     "data": {
      "text/html": [
       "<style>.container { width:100% !important; }</style>"
      ],
      "text/plain": [
       "<IPython.core.display.HTML object>"
      ]
     },
     "metadata": {},
     "output_type": "display_data"
    }
   ],
   "source": [
    "from aocd import get_data, submit\n",
    "import numpy as np\n",
    "from IPython.display import display, HTML\n",
    "display(HTML(\"<style>.container { width:100% !important; }</style>\"))\n",
    "\n",
    "DIRECTIONS_4 = [(x, y) for x in [1, 0, -1] for y in [1, 0, -1] if x + y and (x == 0 or y == 0)]\n",
    "DIRECTIONS_8 = [(x, y) for x in [1, 0, -1] for y in [1, 0, -1] if not (x ==0 and y == 0)]\n",
    "\n",
    "def raw_read_input(day):\n",
    "    return get_data(day=day, year=2023, block=True)\n",
    "\n",
    "def read_input(day, dtype=None):\n",
    "    lines = raw_read_input(day=day).splitlines()\n",
    "    if dtype is not None:\n",
    "        lines = [dtype(x) if x else None for x in lines]\n",
    "    return lines\n",
    "    \n",
    "def read_matrix(day, dtype=np.int32):\n",
    "    lines = read_input(day)\n",
    "    lines = [[dtype(x) for x in line] for line in lines]\n",
    "    return np.array(lines, dtype=dtype)"
   ]
  },
  {
   "cell_type": "markdown",
   "id": "8027b2a1-69a1-4a21-b35c-6209d964e90f",
   "metadata": {},
   "source": [
    "# Day 1"
   ]
  },
  {
   "cell_type": "code",
   "execution_count": 220,
   "id": "b1ae91e7-d33d-4723-af21-fde5790e9717",
   "metadata": {},
   "outputs": [
    {
     "name": "stdout",
     "output_type": "stream",
     "text": [
      "part 1 54597\n",
      "part 2 54504\n"
     ]
    }
   ],
   "source": [
    "lines = read_input(day=1)\n",
    "digits_per_line = [[char for char in line if char.isdigit()] for line in lines]\n",
    "\n",
    "def calc_sum(for_lines):\n",
    "    return sum(int(line[0] + line[-1]) if line else 0 for line in for_lines)\n",
    "print('part 1', calc_sum(digits_per_line))\n",
    "\n",
    "def replace_digits(for_line):\n",
    "    digit_names = ['zero', 'one', 'two', 'three', 'four', 'five', 'six', 'seven', 'eight', 'nine']\n",
    "    result = ''\n",
    "    for index, char in enumerate(for_line):\n",
    "        for digit, digit_name in enumerate(digit_names):\n",
    "            if char.isdigit():\n",
    "                result += char\n",
    "            elif for_line[index: index + len(digit_name)] == digit_name:\n",
    "                result += str(digit)\n",
    "    return result\n",
    "        \n",
    "true_digits_per_line = [replace_digits(line) for line in lines]\n",
    "print('part 2', calc_sum(true_digits_per_line))"
   ]
  },
  {
   "cell_type": "markdown",
   "id": "5e8a65bb-146b-4863-ab7c-d4e3cf9357c6",
   "metadata": {},
   "source": [
    "# Day 2"
   ]
  },
  {
   "cell_type": "code",
   "execution_count": 54,
   "id": "7d998eea-71b7-4c16-a2f1-73ddf826084f",
   "metadata": {},
   "outputs": [
    {
     "name": "stdout",
     "output_type": "stream",
     "text": [
      "part 1 2331\n",
      "part 2 71585\n"
     ]
    }
   ],
   "source": [
    "from dataclasses import dataclass, field\n",
    "from enum import Enum\n",
    "from typing import Dict, List\n",
    "from functools import reduce\n",
    "from operator import mul\n",
    "\n",
    "class Color(Enum):\n",
    "    red = 'red'\n",
    "    green = 'green'\n",
    "    blue = 'blue'\n",
    "\n",
    "@dataclass\n",
    "class Game:\n",
    "    game_number: int\n",
    "    shows: List[Dict[Color, int]] = field(default_factory=list)\n",
    "\n",
    "    def is_possible(self, combination: Dict[Color, int]) -> bool:\n",
    "        for show in self.shows:\n",
    "            for color in Color:\n",
    "                if show[color] > combination[color]:\n",
    "                    return False\n",
    "        return True\n",
    "\n",
    "    def power_number(self):\n",
    "        possible = {color: 0 for color in Color}\n",
    "        for show in self.shows:\n",
    "            for color, amount in show.items():\n",
    "                possible[color] = max(possible[color], amount)\n",
    "        return reduce(mul, possible.values())\n",
    "\n",
    "\n",
    "lines = read_input(day=2)\n",
    "games = []\n",
    "\n",
    "for line in lines:\n",
    "    game_title, showings = line.split(':')\n",
    "    game = Game(int(game_title.split(' ')[1]))\n",
    "\n",
    "    for show in showings.split(';'):\n",
    "        current_show = {color: 0 for color in Color}\n",
    "        for color_group in show.split(', '):\n",
    "            count, color = color_group.strip().split(' ')\n",
    "            current_show[Color(color)] = int(count)\n",
    "        game.shows.append(current_show)\n",
    "    games.append(game)\n",
    "\n",
    "part_1_check = {\n",
    "    Color.red: 12,\n",
    "    Color.green: 13,\n",
    "    Color.blue: 14\n",
    "}\n",
    "print('part 1', sum(game.game_number for game in games if game.is_possible(part_1_check)))\n",
    "print('part 2', sum(game.power_number() for game in games))"
   ]
  },
  {
   "cell_type": "markdown",
   "id": "5539f281-35a0-4c88-8570-398ff283f0b2",
   "metadata": {},
   "source": [
    "# Day 3"
   ]
  },
  {
   "cell_type": "code",
   "execution_count": 167,
   "id": "df70ba84-8fb7-4280-ba13-d9f7f617f63e",
   "metadata": {},
   "outputs": [
    {
     "name": "stdout",
     "output_type": "stream",
     "text": [
      "part 1 530849\n",
      "part 2 84900879\n"
     ]
    }
   ],
   "source": [
    "from collections import defaultdict\n",
    "matrix = read_matrix(day=3, dtype=str)\n",
    "expand = np.pad(matrix, (1, 1), constant_values=['.'])\n",
    "is_symbol = np.vectorize(lambda x: not x.isdigit() and x != '.')(expand)\n",
    "is_star = expand == '*'\n",
    "\n",
    "gears = defaultdict(list)\n",
    "total = 0\n",
    "\n",
    "for i, line in enumerate(expand):\n",
    "    number_start = None\n",
    "    for j, char in enumerate(line):\n",
    "        if char.isdigit():\n",
    "            if number_start is None:\n",
    "                number_start = j\n",
    "        elif number_start is not None:\n",
    "            if np.any(is_symbol[i - 1: i + 2, number_start - 1: j + 1]):\n",
    "                number = int(''.join(line[number_start:j]))\n",
    "                total += number\n",
    "                ys, xs = np.where(is_star[i - 1: i + 2, number_start - 1: j + 1])\n",
    "                for star_y, star_x in zip(ys.tolist(), xs.tolist()):\n",
    "                    gears[(i - 1 + star_y, number_start - 1 + star_x)].append(number)\n",
    "            number_start = None\n",
    "\n",
    "print('part 1', total)\n",
    "gear_ratio_sum = sum(\n",
    "    gear[0] * gear[1]\n",
    "    for gear in gears.values()\n",
    "    if len(gear) == 2\n",
    ")\n",
    "print('part 2', gear_ratio_sum)"
   ]
  },
  {
   "cell_type": "markdown",
   "id": "e7cf9feb-2414-41e1-bb96-16ddba542f9c",
   "metadata": {},
   "source": [
    "# Day 4"
   ]
  },
  {
   "cell_type": "code",
   "execution_count": 218,
   "id": "a09acd9f-3a96-4e69-84a3-545127865a48",
   "metadata": {},
   "outputs": [
    {
     "name": "stdout",
     "output_type": "stream",
     "text": [
      "part 1 22674\n",
      "part 2 5747443\n"
     ]
    }
   ],
   "source": [
    "import re\n",
    "\n",
    "lines = read_input(day=4)\n",
    "total = 0\n",
    "counts = [1 for _ in range(len(lines))]\n",
    "\n",
    "\n",
    "for index, line in enumerate(lines):\n",
    "    winners, numbers = line.split(': ')[1].split(' | ')\n",
    "    winners = set(re.split('\\s+', winners))\n",
    "    numbers = set(re.split('\\s+', numbers))    \n",
    "    winning_numbers = winners & numbers\n",
    "    if winning_numbers:\n",
    "        total += 1 << (len(winning_numbers) - 1)\n",
    "    for offset in range(len(winning_numbers)):\n",
    "        counts[index + offset + 1] += counts[index]\n",
    "print('part 1', total)\n",
    "print('part 2', sum(counts))"
   ]
  },
  {
   "cell_type": "markdown",
   "id": "a12664ae-be46-47d4-88a0-0daffe45b5a0",
   "metadata": {},
   "source": [
    "# Day 5"
   ]
  },
  {
   "cell_type": "code",
   "execution_count": 331,
   "id": "487c7763-9d04-4795-981a-66c216db7e5e",
   "metadata": {},
   "outputs": [
    {
     "name": "stdout",
     "output_type": "stream",
     "text": [
      "part 1 218513636\n",
      "part 2 81956384\n"
     ]
    }
   ],
   "source": [
    "lines = read_input(day=5)\n",
    "traverse_order = ['seed']\n",
    "maps = defaultdict(list)\n",
    "initial_seeds = list(map(int, lines[0].split(': ')[1].split()))\n",
    "index = 1\n",
    "current_map = None\n",
    "while index < len(lines):\n",
    "    if not lines[index].strip():\n",
    "        line = lines[index + 1]\n",
    "        map_title = line.split()[0].split('-to-')\n",
    "        current_map = tuple(map_title)\n",
    "        traverse_order.append(map_title[1])\n",
    "        index += 2\n",
    "        continue\n",
    "    maps[current_map].append(list(map(int, lines[index].split())))\n",
    "    index += 1\n",
    "\n",
    "def get_location(start_id):\n",
    "    for mapping_type in zip(traverse_order, traverse_order[1:]):\n",
    "        for mapping in maps[mapping_type]:\n",
    "            if start_id >= mapping[1] and start_id < mapping[1] + mapping[2]:\n",
    "                start_id = mapping[0] + (start_id - mapping[1])\n",
    "                break\n",
    "    return start_id\n",
    " \n",
    "\n",
    "def get_location_range(current_ranges):\n",
    "    for mapping_type in zip(traverse_order, traverse_order[1:]):\n",
    "        result_ranges = []\n",
    "        for dest_start_id, mapping_start_id, mapping_length in maps[mapping_type]:\n",
    "            new_current_ranges = []\n",
    "            mapping_end_id = mapping_start_id + mapping_length - 1\n",
    "            for start_id, length in current_ranges:\n",
    "                end_id = start_id + length - 1\n",
    "                if end_id < mapping_start_id or mapping_end_id < start_id:\n",
    "                    new_current_ranges.append((start_id, length))\n",
    "                    continue\n",
    "                overlap_start_id = max(mapping_start_id, start_id)\n",
    "                overlap_end_id = min(mapping_end_id, end_id)\n",
    "                if start_id < overlap_start_id:\n",
    "                    new_current_ranges.append((start_id, overlap_start_id - start_id))\n",
    "                if overlap_end_id < end_id:\n",
    "                    new_current_ranges.append((overlap_end_id + 1, end_id - overlap_end_id - 1))\n",
    "                    \n",
    "                new_start_id = dest_start_id + (overlap_start_id - mapping_start_id)\n",
    "                new_length = overlap_end_id - overlap_start_id + 1\n",
    "                result_ranges.append((new_start_id, new_length))\n",
    "            current_ranges = new_current_ranges\n",
    "        current_ranges += result_ranges\n",
    "\n",
    "    return min(start_id for start_id, length in current_ranges)\n",
    "\n",
    "print('part 1', min(\n",
    "    get_location(seed_id)\n",
    "    for seed_id in initial_seeds\n",
    "))\n",
    "print('part 2', get_location_range([\n",
    "    (initial_seeds[index], initial_seeds[index + 1])\n",
    "    for index in range(0, len(initial_seeds), 2)\n",
    "]))"
   ]
  },
  {
   "cell_type": "markdown",
   "id": "0206b8c1-6c79-4e83-b56f-15f66f7c348a",
   "metadata": {},
   "source": [
    "# Day 6"
   ]
  },
  {
   "cell_type": "code",
   "execution_count": 348,
   "id": "e65eae26-a5ba-4280-839d-70bd13d44583",
   "metadata": {},
   "outputs": [
    {
     "name": "stdout",
     "output_type": "stream",
     "text": [
      "part 1 6209190\n",
      "part 2 28545089\n"
     ]
    }
   ],
   "source": [
    "lines = read_input(day=6)\n",
    "times, goals = [list(map(int, x.split(':')[1].split())) for x in lines]\n",
    "\n",
    "def ways_to_beat(race_time, race_goal):\n",
    "    return sum(\n",
    "        time_holding * (race_time - time_holding) > race_goal\n",
    "        for time_holding in range(1, race_time)\n",
    "    )\n",
    "    \n",
    "print('part 1', reduce(mul, (\n",
    "    ways_to_beat(race_time, race_goal)\n",
    "    for race_time, race_goal in zip(times, goals)\n",
    ")))\n",
    "\n",
    "race_time, race_goal = [int(\"\".join(x.split(':')[1].split())) for x in lines]\n",
    "print('part 2', ways_to_beat(race_time, race_goal))"
   ]
  },
  {
   "cell_type": "markdown",
   "id": "1a5d3594-64c4-4189-b1c5-8dcd1f03deda",
   "metadata": {},
   "source": [
    "# Day 7"
   ]
  },
  {
   "cell_type": "code",
   "execution_count": 399,
   "id": "b7e994e9-67c1-4969-bb10-3361d664c19c",
   "metadata": {},
   "outputs": [
    {
     "name": "stdout",
     "output_type": "stream",
     "text": [
      "part 1 251136060\n",
      "part 2 249400220\n"
     ]
    }
   ],
   "source": [
    "from collections import Counter\n",
    "lines = read_input(day=7)\n",
    "\n",
    "JOKER_STRENGHT = 1\n",
    "\n",
    "def hand_strength(hand, use_joker):\n",
    "    face_cards = {card: index + 10 for index, card in enumerate(['T', 'J', 'Q', 'K', 'A'])}\n",
    "    if use_joker:\n",
    "        face_cards['J'] = JOKER_STRENGHT\n",
    "\n",
    "    face_values = [face_cards[card] if card in face_cards else int(card) for card in hand]\n",
    "    card_counts = Counter(face_values)\n",
    "    sorted_card_counts = card_counts.most_common()\n",
    "    if len(sorted_card_counts) != 1 and JOKER_STRENGHT in card_counts:\n",
    "        joker_count = card_counts[JOKER_STRENGHT]\n",
    "        sorted_card_counts = [count for count in sorted_card_counts if count[0] != JOKER_STRENGHT]\n",
    "        sorted_card_counts[0] = (sorted_card_counts[0][0], sorted_card_counts[0][1] + joker_count)\n",
    "    sortable_values = [count[1] for count in sorted_card_counts]\n",
    "    return \"\".join([chr(ord('a') + x) for x in sortable_values + face_values])\n",
    "\n",
    "\n",
    "def deck_sum(deck, use_joker):\n",
    "    cards_and_bids = [\n",
    "        (hand_strength(line.split()[0], use_joker), int(line.split()[1]))\n",
    "        for line in deck\n",
    "    ]\n",
    "    return sum(\n",
    "        (index + 1) * bid\n",
    "        for index, (_, bid) in enumerate(sorted(cards_and_bids, key=lambda x: x[0]))\n",
    "    )\n",
    "    \n",
    "print('part 1', deck_sum(lines, use_joker=False))\n",
    "print('part 2', deck_sum(lines, use_joker=True))"
   ]
  },
  {
   "cell_type": "markdown",
   "id": "86cc1aec-fed3-4de3-85bd-b2824a5ee790",
   "metadata": {},
   "source": [
    "# Day 8"
   ]
  },
  {
   "cell_type": "code",
   "execution_count": 541,
   "id": "bfde6032-43eb-44ce-be14-3cece59753f6",
   "metadata": {},
   "outputs": [
    {
     "name": "stdout",
     "output_type": "stream",
     "text": [
      "part 1 16043\n",
      "part 2 15726453850399\n"
     ]
    }
   ],
   "source": [
    "import math\n",
    "\n",
    "lines = read_input(day=8)\n",
    "instructions, _, *mappings = lines\n",
    "directions = {}\n",
    "\n",
    "for mapping in mappings:\n",
    "    source, destinations = mapping.split(' = ')\n",
    "    dest_a, dest_b = destinations[1:-1].split(', ')\n",
    "    directions[source] = (dest_a, dest_b)\n",
    "\n",
    "def distance(start):\n",
    "    index = 0\n",
    "    current = start\n",
    "    while not current.endswith('Z'):\n",
    "        next_dir = 0 if instructions[index % len(instructions)] == 'L' else 1\n",
    "        current = directions[current][next_dir]\n",
    "        index += 1\n",
    "    return index\n",
    "\n",
    "print('part 1', distance('AAA'))\n",
    "print('part 2', math.lcm(*[distance(node) for node in directions if node.endswith('A')]))"
   ]
  },
  {
   "cell_type": "markdown",
   "id": "e3e5d526-7ef2-4343-abcf-c53e78f9cd1c",
   "metadata": {},
   "source": [
    "# Day 9"
   ]
  },
  {
   "cell_type": "code",
   "execution_count": null,
   "id": "46b9d76e-2f03-4e76-b68f-bb1115581728",
   "metadata": {},
   "outputs": [],
   "source": []
  }
 ],
 "metadata": {
  "kernelspec": {
   "display_name": "Python 3 (ipykernel)",
   "language": "python",
   "name": "python3"
  },
  "language_info": {
   "codemirror_mode": {
    "name": "ipython",
    "version": 3
   },
   "file_extension": ".py",
   "mimetype": "text/x-python",
   "name": "python",
   "nbconvert_exporter": "python",
   "pygments_lexer": "ipython3",
   "version": "3.11.3"
  }
 },
 "nbformat": 4,
 "nbformat_minor": 5
}
