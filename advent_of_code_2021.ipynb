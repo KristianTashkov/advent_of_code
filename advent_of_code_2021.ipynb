{
 "cells": [
  {
   "cell_type": "code",
   "execution_count": 83,
   "id": "42104f7d",
   "metadata": {},
   "outputs": [],
   "source": [
    "from aocd import get_data\n",
    "import cv2\n",
    "import numpy as np\n",
    "from collections import Counter, defaultdict\n",
    "from queue import PriorityQueue\n",
    "import matplotlib.pyplot as plt\n",
    "from dataclasses import dataclass\n",
    "from typing import Tuple, Optional\n",
    "import sys\n",
    "import re\n",
    "import math\n",
    "import json\n",
    "from copy import deepcopy\n",
    "from functools import lru_cache\n",
    "\n",
    "def get_input(day):\n",
    "    return get_data(day=day, year=2021).splitlines()\n",
    "\n",
    "def read_array(lines, delimeter=',', dtype=int):\n",
    "    return np.array([dtype(x) for x in lines[0].split(delimeter)])\n",
    "\n",
    "def read_matrix(lines, delimeter=' ', dtype=int):\n",
    "    return np.array([[dtype(x) for x in (line.split(delimeter) if delimeter else list(line))] for line in lines], dtype=dtype)"
   ]
  },
  {
   "cell_type": "markdown",
   "id": "e581aab5",
   "metadata": {},
   "source": [
    "# Day 1"
   ]
  },
  {
   "cell_type": "code",
   "execution_count": 94,
   "id": "03a6b312",
   "metadata": {},
   "outputs": [
    {
     "name": "stdout",
     "output_type": "stream",
     "text": [
      "1154\n",
      "1127\n"
     ]
    }
   ],
   "source": [
    "numbers = [int(x) for x in get_input(day=1)]\n",
    "print(sum(a < b for a, b in list(zip(numbers, numbers[1:]))))\n",
    "windows = [sum(x) for x in zip(numbers, numbers[1:], numbers[2:])]\n",
    "print(sum(a < b for a, b in list(zip(windows, windows[1:]))))"
   ]
  },
  {
   "cell_type": "markdown",
   "id": "47bc3af2",
   "metadata": {},
   "source": [
    "# Day 2"
   ]
  },
  {
   "cell_type": "code",
   "execution_count": 16,
   "id": "58539eb8",
   "metadata": {},
   "outputs": [
    {
     "name": "stdout",
     "output_type": "stream",
     "text": [
      "1507611\n",
      "1880593125\n"
     ]
    }
   ],
   "source": [
    "directions = get_input(day=2)\n",
    "depth = 0\n",
    "aiming_depth = 0\n",
    "forward = 0\n",
    "aim = 0\n",
    "\n",
    "for direction in directions:\n",
    "    command, value = direction.split(' ')\n",
    "    value = int(value)\n",
    "    if command == 'forward':\n",
    "        forward += value\n",
    "        aiming_depth += aim * value\n",
    "    elif command == 'down':\n",
    "        depth += value\n",
    "        aim += value\n",
    "    else:\n",
    "        depth -= value\n",
    "        aim -= value\n",
    "print(depth * forward)\n",
    "print(aiming_depth * forward)"
   ]
  },
  {
   "cell_type": "markdown",
   "id": "a9167564",
   "metadata": {},
   "source": [
    "# Day 3"
   ]
  },
  {
   "cell_type": "code",
   "execution_count": 18,
   "id": "8e394658",
   "metadata": {},
   "outputs": [
    {
     "name": "stdout",
     "output_type": "stream",
     "text": [
      "3633500\n",
      "4550283\n"
     ]
    }
   ],
   "source": [
    "report = get_input(day=3)\n",
    "def get_bit(bits, main_char='1'):\n",
    "    count = Counter(bits)\n",
    "    if count['1']  == count['0']:\n",
    "        return main_char\n",
    "    other_char = str((int(main_char) + 1) % 2)\n",
    "    return main_char if count['1'] > count['0'] else other_char\n",
    "\n",
    "bit_lists = list(zip(*report))\n",
    "gamma = int(''.join(get_bit(bits, '1') for bits in bit_lists), 2)\n",
    "epsilon = int(''.join(get_bit(bits, '0') for bits in bit_lists), 2)\n",
    "print(gamma * epsilon)\n",
    "\n",
    "def get_rating(report, main_char):\n",
    "    index = 0\n",
    "    while len(report) > 1:\n",
    "        comparator = get_bit(list(zip(*report))[index], main_char)\n",
    "        report = [x for x in report if x[index] == comparator]\n",
    "        index += 1\n",
    "    return report[0]\n",
    "\n",
    "oxygen = int(get_rating(report, main_char='1'), 2)\n",
    "co2 = int(get_rating(report, main_char='0'), 2)\n",
    "print(oxygen * co2)"
   ]
  },
  {
   "cell_type": "markdown",
   "id": "fe7e100f",
   "metadata": {},
   "source": [
    "# Day 4"
   ]
  },
  {
   "cell_type": "code",
   "execution_count": 19,
   "id": "a771ab4e",
   "metadata": {},
   "outputs": [
    {
     "name": "stdout",
     "output_type": "stream",
     "text": [
      "(51034, 5434)\n"
     ]
    }
   ],
   "source": [
    "BOARD_SIZE = 5\n",
    "    \n",
    "class Board():\n",
    "    def __init__(self, numbers):\n",
    "        self.numbers = np.array(numbers)\n",
    "        self.marked = np.zeros((BOARD_SIZE, BOARD_SIZE), dtype=bool)\n",
    "    \n",
    "    def is_winning(self):\n",
    "        has_winning_row = np.any(np.all(self.marked, axis=0))\n",
    "        has_winning_column = np.any(np.all(self.marked, axis=1))\n",
    "        return has_winning_column | has_winning_row\n",
    "    \n",
    "    def mark(self, number):\n",
    "        self.marked = np.where(self.numbers == number, True, self.marked)\n",
    "        \n",
    "    def unmarked(self):\n",
    "        return self.numbers[~self.marked]\n",
    "\n",
    "bingo_input = get_input(day=4)\n",
    "called_numbers = list(map(int, bingo_input[0].split(',')))\n",
    "boards = []\n",
    "\n",
    "for i in range(2, len(bingo_input), BOARD_SIZE + 1):\n",
    "    board_numbers = [list(map(int, row.split())) for row in bingo_input[i:i + BOARD_SIZE]]\n",
    "    boards.append(Board(board_numbers))\n",
    "    \n",
    "            \n",
    "def solution(boards, called_numbers):\n",
    "    solution_1 = None\n",
    "    last_board = None\n",
    "    for number in called_numbers:\n",
    "        for board in boards:\n",
    "            board.mark(number)\n",
    "            if solution_1 is None and board.is_winning():\n",
    "                solution_1 = np.sum(board.unmarked() * number)\n",
    "        boards = [board for board in boards if not board.is_winning()]\n",
    "        if len(boards) == 1:\n",
    "            last_board = boards[0]\n",
    "        if len(boards) == 0:\n",
    "            return solution_1, np.sum(last_board.unmarked() * number)\n",
    "\n",
    "print(solution(boards, called_numbers))"
   ]
  },
  {
   "cell_type": "markdown",
   "id": "00635e25",
   "metadata": {},
   "source": [
    "# Day 5"
   ]
  },
  {
   "cell_type": "code",
   "execution_count": 23,
   "id": "29cc70f4",
   "metadata": {},
   "outputs": [
    {
     "name": "stdout",
     "output_type": "stream",
     "text": [
      "5280\n",
      "16716\n"
     ]
    }
   ],
   "source": [
    "def read_lines(line):\n",
    "    return [tuple(map(int, x.split(','))) for x in line.split(' -> ')]\n",
    "lines = [read_lines(x) for x in get_input(day=5)]\n",
    "\n",
    "def calculate_score(lines, count_diagonals=False):\n",
    "    matrix = np.zeros((1000, 1000), dtype=int)\n",
    "\n",
    "    for a, b in lines:\n",
    "        y_distance, x_distance = b[0] - a[0], b[1] - a[1]\n",
    "        y_sign, x_sign = np.sign(y_distance or 1), np.sign(x_distance or 1)\n",
    "        if not count_diagonals and abs(y_distance) == abs(x_distance):\n",
    "            continue\n",
    "        ys = np.arange(a[0], b[0] + y_sign, y_sign)\n",
    "        xs = np.arange(a[1], b[1] + x_sign, x_sign)\n",
    "        matrix[ys, xs] += 1\n",
    "\n",
    "    return np.sum(matrix >= 2)\n",
    "\n",
    "print(calculate_score(lines, count_diagonals=False))\n",
    "print(calculate_score(lines, count_diagonals=True))"
   ]
  },
  {
   "cell_type": "markdown",
   "id": "040f87de",
   "metadata": {},
   "source": [
    "# Day 6"
   ]
  },
  {
   "cell_type": "code",
   "execution_count": 21,
   "id": "5684b2cc",
   "metadata": {},
   "outputs": [
    {
     "name": "stdout",
     "output_type": "stream",
     "text": [
      "351188\n",
      "1595779846729\n"
     ]
    }
   ],
   "source": [
    "fishes = list(map(int, get_input(day=6)[0].split(',')))\n",
    "future_fishes = []\n",
    "DAYS_LEFT = 256\n",
    "\n",
    "def get_future_fishes(day, future_fishes):\n",
    "    return 1 if day <= 0 else future_fishes[day]\n",
    "\n",
    "for day in range(DAYS_LEFT):\n",
    "    future_fishes.append(get_future_fishes(day - 9, future_fishes) +\n",
    "                         get_future_fishes(day - 7, future_fishes))\n",
    "\n",
    "def get_fishes(days):\n",
    "    return sum(future_fishes[days - fish] for fish in fishes)\n",
    "\n",
    "print(get_fishes(80))\n",
    "print(get_fishes(256))"
   ]
  },
  {
   "cell_type": "markdown",
   "id": "d20a3695",
   "metadata": {},
   "source": [
    "# Day 7"
   ]
  },
  {
   "cell_type": "code",
   "execution_count": 40,
   "id": "3096bd76",
   "metadata": {},
   "outputs": [
    {
     "name": "stdout",
     "output_type": "stream",
     "text": [
      "336721\n",
      "91638945\n"
     ]
    }
   ],
   "source": [
    "numbers = np.array(read_array(get_input(day=7)))\n",
    "possibles = np.arange(np.max(numbers) + 1)\n",
    "grid = np.abs(numbers[:, None] - possibles[None, :])\n",
    "print(np.min(np.sum(grid, axis=0)))\n",
    "grid *= (grid + 1)\n",
    "print(np.min(np.sum(grid // 2, axis=0)))"
   ]
  },
  {
   "cell_type": "markdown",
   "id": "8df190ee",
   "metadata": {},
   "source": [
    "# Day 8"
   ]
  },
  {
   "cell_type": "code",
   "execution_count": 35,
   "id": "e7b31bad",
   "metadata": {},
   "outputs": [
    {
     "name": "stdout",
     "output_type": "stream",
     "text": [
      "288\n",
      "940724\n"
     ]
    }
   ],
   "source": [
    "from itertools import permutations\n",
    "\n",
    "lines = get_input(day=8)\n",
    "digit_letters = {\n",
    "    ('a', 'b', 'c', 'e', 'f', 'g'): 0,\n",
    "    ('c', 'f'): 1,\n",
    "    ('a', 'c', 'd', 'e', 'g'): 2,\n",
    "    ('a', 'c', 'd', 'f', 'g'): 3,\n",
    "    ('b', 'c', 'd', 'f'): 4,\n",
    "    ('a', 'b', 'd', 'f', 'g'): 5,\n",
    "    ('a', 'b', 'd', 'e', 'f', 'g'): 6,\n",
    "    ('a', 'c', 'f'): 7,\n",
    "    ('a', 'b', 'c', 'd', 'e', 'f', 'g'): 8,\n",
    "    ('a', 'b', 'c', 'd', 'f', 'g'): 9,\n",
    "}\n",
    "ALL_LETTERS = ['a', 'b', 'c', 'e', 'd', 'f', 'g']\n",
    "\n",
    "def word_to_digit(word, mapping):\n",
    "    chars = {mapping[letter] for letter in word}\n",
    "    return digit_letters[tuple(sorted(chars))]\n",
    "\n",
    "def solve_line(line):\n",
    "    words, output_words = line.split(' |')\n",
    "    words = (words + output_words).split(' ')\n",
    "    \n",
    "    for variant in permutations(ALL_LETTERS):\n",
    "        mapping = {\n",
    "            letter: variant[i] for i, letter in enumerate(ALL_LETTERS)\n",
    "        }\n",
    "        try:\n",
    "            mapped = [word_to_digit(word, mapping) for word in words]\n",
    "        except Exception as exc:\n",
    "            continue\n",
    "        else:\n",
    "            return mapped[-4:]\n",
    "\n",
    "outputs = [solve_line(line) for line in lines]\n",
    "counter = Counter(digit for output in outputs for digit in output)\n",
    "print(sum(counter[x] for x in [1, 4, 7, 8]))\n",
    "output_numbers = [int(''.join([str(x) for x in output])) for output in outputs]\n",
    "print(sum(output_numbers))"
   ]
  },
  {
   "cell_type": "markdown",
   "id": "66b83dbf",
   "metadata": {},
   "source": [
    "# Day 9"
   ]
  },
  {
   "cell_type": "code",
   "execution_count": 43,
   "id": "ed42c2ad",
   "metadata": {},
   "outputs": [
    {
     "name": "stdout",
     "output_type": "stream",
     "text": [
      "526\n",
      "1123524\n"
     ]
    }
   ],
   "source": [
    "matrix = read_matrix(get_input(day=9), delimeter='')\n",
    "matrix = np.pad(matrix, ((1, 1), (1, 1)), constant_values=(9, ))\n",
    "\n",
    "DIRECTIONS = [(-1, 0), (1, 0), (0, -1), (0, 1)]\n",
    "print(sum(\n",
    "    matrix[i][j] + 1\n",
    "    for i in range(1, matrix.shape[0] - 1)\n",
    "    for j in range(1, matrix.shape[1] - 1)\n",
    "    if all([matrix[i + dx, j + dy] > matrix[i][j] for (dx, dy) in DIRECTIONS])\n",
    "))\n",
    "image = np.where(matrix == 9, 0, 255).astype(np.byte)\n",
    "(_, _, stats, _) = cv2.connectedComponentsWithStats(image, connectivity=4)\n",
    "areas = list(sorted(stat[cv2.CC_STAT_AREA] for stat in stats[1:]))\n",
    "print(np.prod(areas[-3:]))"
   ]
  },
  {
   "cell_type": "markdown",
   "id": "8a8c8790",
   "metadata": {},
   "source": [
    "# Day 10"
   ]
  },
  {
   "cell_type": "code",
   "execution_count": 45,
   "id": "86428565",
   "metadata": {},
   "outputs": [
    {
     "name": "stdout",
     "output_type": "stream",
     "text": [
      "339477\n",
      "3049320156\n"
     ]
    }
   ],
   "source": [
    "lines = get_input(day=10)\n",
    "matching_brackets = {\n",
    "    '{': '}',\n",
    "    '[': ']',\n",
    "    '(': ')',\n",
    "    '<': '>',\n",
    "}\n",
    "brackets_score = {\n",
    "    '}': 1197,\n",
    "    ']': 57,\n",
    "    ')': 3,\n",
    "    '>': 25137,\n",
    "}\n",
    "closing_score = {\n",
    "    '}': 3,\n",
    "    ']': 2,\n",
    "    ')': 1,\n",
    "    '>': 4,\n",
    "}\n",
    "\n",
    "def check_syntax(line):\n",
    "    stack = []\n",
    "    incomplete_score = 0\n",
    "    for char in line:\n",
    "        if char in matching_brackets:\n",
    "            stack.append(char)\n",
    "        elif matching_brackets[stack[-1]] == char:\n",
    "            stack.pop()\n",
    "        else:\n",
    "            incomplete_score = brackets_score[char]\n",
    "            break\n",
    "    complete_score = 0\n",
    "    if incomplete_score == 0:\n",
    "        for char in stack[::-1]:\n",
    "            complete_score = complete_score * 5 + closing_score[matching_brackets[char]]\n",
    "        \n",
    "    return incomplete_score, complete_score\n",
    "\n",
    "scores = [check_syntax(line) for line in lines]\n",
    "print(sum(x[0] for x in scores))\n",
    "scores = list(sorted(x[1] for x in scores if x[1] > 0))\n",
    "print(scores[len(scores) // 2])"
   ]
  },
  {
   "cell_type": "markdown",
   "id": "36d8a67e",
   "metadata": {},
   "source": [
    "# Day 11"
   ]
  },
  {
   "cell_type": "code",
   "execution_count": 46,
   "id": "84a3eff7",
   "metadata": {},
   "outputs": [
    {
     "name": "stdout",
     "output_type": "stream",
     "text": [
      "total 1793\n",
      "sync 247\n"
     ]
    }
   ],
   "source": [
    "matrix = read_matrix(get_input(day=11), delimeter='')\n",
    "TARGET_STEP = 100\n",
    "\n",
    "total_flashing = 0\n",
    "step = 1\n",
    "are_synced = False\n",
    "while step < TARGET_STEP or not are_synced:\n",
    "    matrix += 1\n",
    "    visited = np.zeros_like(matrix, dtype=bool)\n",
    "    while True:\n",
    "        flashing = (matrix > 9) & (~visited)\n",
    "        flashing_count = np.sum(flashing)\n",
    "        if flashing_count == 0:\n",
    "            break\n",
    "        total_flashing += flashing_count\n",
    "        visited |= flashing\n",
    "        \n",
    "        matrix += cv2.filter2D(flashing.astype(np.uint8), -1, np.ones((3, 3)), borderType=cv2.BORDER_CONSTANT)\n",
    "    matrix[matrix > 9] = 0\n",
    "    if step == TARGET_STEP:\n",
    "        print('total', total_flashing)\n",
    "    if np.sum(matrix) == 0:\n",
    "        are_synced = True\n",
    "        print('sync', step)\n",
    "    step += 1"
   ]
  },
  {
   "cell_type": "markdown",
   "id": "e0af5147",
   "metadata": {},
   "source": [
    "# Day 12"
   ]
  },
  {
   "cell_type": "code",
   "execution_count": 49,
   "id": "eca40ac9",
   "metadata": {},
   "outputs": [
    {
     "name": "stdout",
     "output_type": "stream",
     "text": [
      "4304\n",
      "118242\n"
     ]
    }
   ],
   "source": [
    "lines = get_input(day=12)\n",
    "connectivity = defaultdict(list)\n",
    "for line in lines:\n",
    "    a, b = line.split('-')\n",
    "    connectivity[a].append(b)\n",
    "    connectivity[b].append(a)\n",
    "\n",
    "def dfs(current, visited, can_repeat):\n",
    "    if current == 'end':\n",
    "        yield 1\n",
    "        return\n",
    "    for neighbor in connectivity[current]:\n",
    "        if neighbor == 'start':\n",
    "            continue\n",
    "        is_repeated = neighbor.islower() and neighbor in visited\n",
    "        if not can_repeat and is_repeated:\n",
    "            continue\n",
    "        yield from dfs(neighbor, visited | {neighbor}, can_repeat & (not is_repeated))\n",
    "        \n",
    "print(sum(dfs('start', {'start'}, False)))\n",
    "print(sum(dfs('start', {'start'}, True)))"
   ]
  },
  {
   "cell_type": "markdown",
   "id": "10cb16e4",
   "metadata": {},
   "source": [
    "# Day 13"
   ]
  },
  {
   "cell_type": "code",
   "execution_count": 52,
   "id": "f4fd95cc",
   "metadata": {},
   "outputs": [
    {
     "name": "stdout",
     "output_type": "stream",
     "text": [
      "807\n"
     ]
    },
    {
     "data": {
      "image/png": "[encoded data removed]",
      "text/plain": [
       "<Figure size 640x480 with 1 Axes>"
      ]
     },
     "metadata": {},
     "output_type": "display_data"
    }
   ],
   "source": [
    "lines = get_input(day=13)\n",
    "\n",
    "points = set()\n",
    "folds = []\n",
    "for line in lines:\n",
    "    if '=' in line:\n",
    "        direction, mid = line.split('=')\n",
    "        mid = int(mid)\n",
    "        fold = (mid * 2, 0) if direction[-1] == 'x' else (0, mid * 2)\n",
    "        folds.append(fold)\n",
    "    elif ',' in line:\n",
    "        points.add(tuple(map(int, line.split(','))))\n",
    "        \n",
    "def fold_point(point, fold):\n",
    "    if point[0] < fold[0] / 2 or point[1] < fold[1] / 2:\n",
    "        return point\n",
    "    return abs(fold[0] - point[0]), abs(fold[1] - point[1]) \n",
    "\n",
    "for i, fold in enumerate(folds):\n",
    "    points = {fold_point(point, fold) for point in points}\n",
    "    if i == 0:\n",
    "        print(len(points))\n",
    "\n",
    "image = np.zeros(\n",
    "    (max(point[1] for point in points) + 1,\n",
    "     max(point[0] for point in points) + 1)\n",
    ")\n",
    "\n",
    "for point in points:\n",
    "    image[point[1], point[0]] = 255\n",
    "plt.imshow(image)\n",
    "plt.show()"
   ]
  },
  {
   "cell_type": "markdown",
   "id": "2904b095",
   "metadata": {},
   "source": [
    "# Day 14"
   ]
  },
  {
   "cell_type": "code",
   "execution_count": 54,
   "id": "6c23a2aa",
   "metadata": {},
   "outputs": [
    {
     "name": "stdout",
     "output_type": "stream",
     "text": [
      "2549\n",
      "2516901104210\n"
     ]
    }
   ],
   "source": [
    "lines = get_input(day=14)\n",
    "polymer = lines[0]\n",
    "rules = {}\n",
    "precomputed = {}\n",
    "\n",
    "for rule in lines[2:]:\n",
    "    chain_from, chain_creates = rule.split(' -> ')\n",
    "    rules[chain_from] = chain_creates\n",
    "    precomputed[chain_from] = Counter(chain_from)\n",
    "\n",
    "TARGET_STEP_1 = 10\n",
    "TARGET_STEP_2 = 40\n",
    "for step in range(0, max(TARGET_STEP_1, TARGET_STEP_2)):\n",
    "    new_precomputed = {}\n",
    "    for base in rules.keys():\n",
    "        created = rules[base]\n",
    "        new_precomputed[base] = (\n",
    "            precomputed[base[0] + created] +\n",
    "            precomputed[created + base[1]] -\n",
    "            Counter([created])\n",
    "        )\n",
    "    precomputed = new_precomputed\n",
    "    if step + 1 in [TARGET_STEP_1, TARGET_STEP_2]:\n",
    "        final_counter = Counter()\n",
    "        for x, y in zip(polymer, polymer[1:]):\n",
    "            final_counter += precomputed[x + y]\n",
    "        final_counter -= Counter(polymer[1:-1])\n",
    "        most_common = final_counter.most_common()\n",
    "        print(most_common[0][1] - most_common[-1][1])"
   ]
  },
  {
   "cell_type": "markdown",
   "id": "306b808f",
   "metadata": {},
   "source": [
    "# Day 15"
   ]
  },
  {
   "cell_type": "code",
   "execution_count": 64,
   "id": "e2bec332",
   "metadata": {},
   "outputs": [
    {
     "name": "stdout",
     "output_type": "stream",
     "text": [
      "487\n",
      "2821\n"
     ]
    }
   ],
   "source": [
    "matrix = read_matrix(get_input(day=15), delimeter='')\n",
    "DIRECTIONS = [(1, 0), (-1, 0), (0, 1), (0, -1)]\n",
    "\n",
    "@dataclass(order=True)\n",
    "class State:\n",
    "    cost: int\n",
    "    pos: Tuple[int, int]\n",
    "\n",
    "def get_score(matrix):\n",
    "    matrix = np.pad(matrix, ((1, 1), (1, 1)), constant_values=(100000, ))\n",
    "    queue = PriorityQueue()\n",
    "    queue.put(State(pos=(1, 1), cost=0))\n",
    "    min_reached = defaultdict(lambda: sys.maxsize)\n",
    "    \n",
    "    while not queue.empty():\n",
    "        current = queue.get()\n",
    "        if current.pos == (matrix.shape[0] - 2, matrix.shape[1] - 2):            \n",
    "            return current.cost\n",
    "        \n",
    "        if current.cost > min_reached[current.pos]:\n",
    "            continue\n",
    "        \n",
    "        for dx, dy in DIRECTIONS:\n",
    "            nx, ny = current.pos[0] + dx, current.pos[1] + dy\n",
    "            current_cost = current.cost + matrix[nx, ny]\n",
    "            if current_cost < min_reached[(nx, ny)]:\n",
    "                queue.put(State(pos=(nx, ny), cost=current_cost))\n",
    "                min_reached[(nx, ny)] = current_cost\n",
    "    return best_found\n",
    "\n",
    "print(get_score(matrix))\n",
    "row = np.concatenate([matrix + i for i in range(5)], axis=0)\n",
    "new_matrix = np.concatenate([row + i for i in range(5)], axis=1)\n",
    "new_matrix = np.mod(new_matrix - 1, 9) + 1\n",
    "print(get_score(new_matrix))"
   ]
  },
  {
   "cell_type": "markdown",
   "id": "ff0d7f34",
   "metadata": {},
   "source": [
    "# Day 16"
   ]
  },
  {
   "cell_type": "code",
   "execution_count": 65,
   "id": "07324c42",
   "metadata": {},
   "outputs": [
    {
     "name": "stdout",
     "output_type": "stream",
     "text": [
      "913\n",
      "1510977819698\n"
     ]
    }
   ],
   "source": [
    "hex_representation = get_input(day=16)[0]\n",
    "binary_representation = bin(int(hex_representation, 16))[2:]\n",
    "missing_padding = 4 - len(binary_representation) % 4\n",
    "binary_representation = '0' * (missing_padding if 0 < missing_padding < 4 else 0) + binary_representation\n",
    "\n",
    "class Packet:\n",
    "    def __init__(self, version):\n",
    "        self.version = version\n",
    "    \n",
    "    def get_versions(self):\n",
    "        return [self.version]\n",
    "        \n",
    "class LiteralValue(Packet):\n",
    "    def __init__(self, version, value):\n",
    "        super().__init__(version)\n",
    "        self.value = value\n",
    "        \n",
    "    @classmethod\n",
    "    def parse_packet(cls, version, binary):\n",
    "        number = ''\n",
    "        for i in range(0, len(binary), 5):\n",
    "            number += binary[i + 1:i + 5]\n",
    "            if binary[i] == '0':\n",
    "                break\n",
    "        return LiteralValue(version, int(number, 2)), i + 5\n",
    "    \n",
    "    def get_value(self):\n",
    "        return self.value\n",
    "        \n",
    "class Operator(Packet):\n",
    "    def __init__(self, version, operator_type, children):\n",
    "        super().__init__(version)\n",
    "        self.operator_type = operator_type\n",
    "        self.children = children\n",
    "        \n",
    "    @classmethod\n",
    "    def parse_packet(cls, version, operator_type, binary):\n",
    "        length_type, contents = binary[0], binary[1:]\n",
    "        children = []\n",
    "        total_bits = 0\n",
    "            \n",
    "        if length_type == '0':\n",
    "            length, contents = contents[:15], contents[15:]\n",
    "            total_bits += 16\n",
    "            \n",
    "            bits_remaining = int(length, 2)\n",
    "            packets_remaining = -1\n",
    "        else:\n",
    "            length, contents = contents[:11], contents[11:]\n",
    "            total_bits += 12\n",
    "            \n",
    "            bits_remaining = -1\n",
    "            packets_remaining = int(length, 2)\n",
    "            \n",
    "        while (bits_remaining != 0) and (packets_remaining != 0):\n",
    "            packet, bits_used = read_packet(contents)\n",
    "            children.append(packet)\n",
    "            contents = contents[bits_used:]\n",
    "            if bits_remaining > 0:\n",
    "                bits_remaining -= bits_used\n",
    "            else:\n",
    "                packets_remaining -= 1\n",
    "            total_bits += bits_used\n",
    "        return Operator(version, operator_type, children), total_bits\n",
    "    \n",
    "    def get_versions(self):\n",
    "        return [self.version] + [version for child in self.children for version in child.get_versions()]\n",
    "    \n",
    "    def get_value(self):\n",
    "        values = [x.get_value() for x in self.children]\n",
    "        if self.operator_type == 0:\n",
    "            return sum(values)\n",
    "        elif self.operator_type == 1:\n",
    "            return np.product(values)\n",
    "        elif self.operator_type == 2:\n",
    "            return min(values)\n",
    "        elif self.operator_type == 3:\n",
    "            return max(values)\n",
    "        elif self.operator_type == 5:\n",
    "            return int(values[0] > values[1])\n",
    "        elif self.operator_type == 6:\n",
    "            return int(values[0] < values[1])\n",
    "        elif self.operator_type == 7:\n",
    "            return int(values[0] == values[1])\n",
    "            \n",
    "        \n",
    "    \n",
    "def read_packet(binary):\n",
    "    header, contents = binary[:6], binary[6:]\n",
    "    version = int(header[:3], 2)\n",
    "    packet_type = int(header[3:], 2)\n",
    "    \n",
    "    if packet_type == 4:\n",
    "        packet, bits_used = LiteralValue.parse_packet(version, contents)\n",
    "    else:\n",
    "        packet, bits_used = Operator.parse_packet(version, packet_type, contents)\n",
    "    \n",
    "    return packet, bits_used + len(header)\n",
    "\n",
    "packet = read_packet(binary_representation)[0]\n",
    "print(sum(packet.get_versions()))\n",
    "print(packet.get_value())"
   ]
  },
  {
   "cell_type": "markdown",
   "id": "3f8c24fc",
   "metadata": {},
   "source": [
    "# Day 17"
   ]
  },
  {
   "cell_type": "code",
   "execution_count": 72,
   "id": "d6b51494",
   "metadata": {},
   "outputs": [
    {
     "name": "stdout",
     "output_type": "stream",
     "text": [
      "35511\n",
      "3282\n"
     ]
    }
   ],
   "source": [
    "lines = get_input(day=17)\n",
    "match = re.match(r'target area: x=(-?\\d+)..(-?\\d+), y=(-?\\d+)..(-?\\d+)', lines[0])\n",
    "min_x, max_x, min_y, max_y = map(int, match.groups())\n",
    "\n",
    "def calculate_x(start, steps):\n",
    "    steps = min(steps - 1, abs(start))\n",
    "    end = start + (steps if start < 0 else -steps)\n",
    "    start, end = min(start, end), max(start, end)\n",
    "    return (end - start + 1) * (start + end) // 2\n",
    "\n",
    "def calculate_y(start, steps):\n",
    "    return steps * (2 * start - steps + 1) // 2\n",
    "\n",
    "start_x = math.ceil(np.roots([0.5, 0.5, -min_x])[1])\n",
    "end_x = max_x\n",
    "\n",
    "def get_possible_step(start):\n",
    "    roots = np.concatenate(\n",
    "        [np.roots([-1, 2 * start + 1, -2 * max_y]),\n",
    "         np.roots([-1, 2 * start + 1, -2 * min_y])]\n",
    "    )\n",
    "    roots = [int(x) for x in roots if int(x) > 0]\n",
    "    if len(roots) == 0:\n",
    "        return []\n",
    "    return range(max(min(roots) - 1, 1), max(roots) + 1)\n",
    "\n",
    "possibles = [\n",
    "    (x, y, step)\n",
    "    for x in range(start_x - 1, end_x + 1)\n",
    "    for y in range(-1000, 1000)\n",
    "    for step in get_possible_step(y)\n",
    "    if min_y <= calculate_y(y, step) <= max_y and min_x <= calculate_x(x, step) <= max_x\n",
    "]\n",
    "print(max(\n",
    "    calculate_y(y, step)\n",
    "    for x, y, max_step in possibles\n",
    "    for step in range(1, max_step)\n",
    "))\n",
    "print(len({(x, y) for x, y, _ in possibles}))"
   ]
  },
  {
   "cell_type": "markdown",
   "id": "4919f34d",
   "metadata": {},
   "source": [
    "# Day 18"
   ]
  },
  {
   "cell_type": "code",
   "execution_count": 79,
   "id": "2fbb1b33",
   "metadata": {},
   "outputs": [
    {
     "name": "stdout",
     "output_type": "stream",
     "text": [
      "4132\n",
      "4685\n"
     ]
    }
   ],
   "source": [
    "lines = get_input(day=18)\n",
    "\n",
    "@dataclass(eq=False)\n",
    "class Node:\n",
    "    parent: Optional['Node'] = None\n",
    "    left: Optional['Node'] = None\n",
    "    right: Optional['Node'] = None\n",
    "    value: Optional[int] = None\n",
    "        \n",
    "    def __repr__(self):\n",
    "        if self.value is not None:\n",
    "            return str(self.value)\n",
    "        return f'[{self.left},{self.right}]'\n",
    "        \n",
    "    @staticmethod\n",
    "    def from_array(json_value, parent=None) -> 'Node':\n",
    "        if isinstance(json_value, int):\n",
    "            return Node(value=json_value, parent=parent)\n",
    "        new_node = Node(parent=parent)\n",
    "        new_node.left = Node.from_array(json_value[0], parent=new_node)\n",
    "        new_node.right = Node.from_array(json_value[1], parent=new_node)\n",
    "        return new_node\n",
    "    \n",
    "    @staticmethod\n",
    "    def add(a: 'Node', b: 'Node') -> 'Node':\n",
    "        a, b = deepcopy(a), deepcopy(b)\n",
    "        new_node = Node(left=a, right=b)\n",
    "        a.parent = new_node\n",
    "        b.parent = new_node\n",
    "        return new_node\n",
    "    \n",
    "    def traverse(self, depth, matcher):\n",
    "        if matcher(self, depth):\n",
    "            return self\n",
    "        return (\n",
    "            (self.left and self.left.traverse(depth + 1, matcher)) or\n",
    "            (self.right and self.right.traverse(depth + 1, matcher))\n",
    "        )\n",
    "    \n",
    "    def take(self, left):\n",
    "        return self.left if left else self.right\n",
    "    \n",
    "    def find_closest(self, left=True):\n",
    "        current = self.parent\n",
    "        prev = self\n",
    "        while current is not None and current.take(left) == prev:\n",
    "            prev = current\n",
    "            current = prev.parent\n",
    "        if current is None:\n",
    "            return current\n",
    "        current = current.take(left)\n",
    "        while current.value is None:\n",
    "            current = current.take(not left)\n",
    "        return current\n",
    "    \n",
    "    def explode(self):\n",
    "        exploding_node = self.traverse(0, lambda node, depth: depth == 4 and node.value is None)\n",
    "        if exploding_node is None:\n",
    "            return False\n",
    "        closest_left = exploding_node.find_closest(True)\n",
    "        if closest_left is not None:\n",
    "            closest_left.value += exploding_node.left.value\n",
    "        closest_right = exploding_node.find_closest(False)\n",
    "        if closest_right is not None:\n",
    "            closest_right.value += exploding_node.right.value\n",
    "            \n",
    "        exploding_node.value = 0\n",
    "        exploding_node.left = None\n",
    "        exploding_node.right = None\n",
    "        return True\n",
    "    \n",
    "    def split(self):\n",
    "        splitting_node = self.traverse(0, lambda node, _: node.value is not None and node.value > 9)\n",
    "        if splitting_node is None:\n",
    "            return False\n",
    "        new_node = Node(\n",
    "            parent=splitting_node.parent,\n",
    "            left=Node(value=splitting_node.value // 2),\n",
    "            right=Node(value=splitting_node.value // 2 + splitting_node.value % 2))\n",
    "        new_node.left.parent = new_node\n",
    "        new_node.right.parent = new_node\n",
    "        if splitting_node.parent.left == splitting_node:\n",
    "            splitting_node.parent.left = new_node\n",
    "        else:\n",
    "            splitting_node.parent.right = new_node\n",
    "        return True\n",
    "        \n",
    "    def reduce(self):\n",
    "        while(True):\n",
    "            if self.explode():\n",
    "                continue\n",
    "            if self.split():\n",
    "                continue\n",
    "            break\n",
    "        return self\n",
    "\n",
    "    def magnitude(self):\n",
    "        if self.value is not None:\n",
    "            return self.value\n",
    "        return self.left.magnitude() * 3 + self.right.magnitude() * 2\n",
    "    \n",
    "current, *nodes = [Node.from_array(json.loads(line)) for line in lines]\n",
    "for node in nodes:\n",
    "    current = Node.add(current, node).reduce()\n",
    "\n",
    "print(current.magnitude())\n",
    "nodes = [Node.from_array(json.loads(line)) for line in lines]\n",
    "\n",
    "print(max(\n",
    "    Node.add(node, other_node).reduce().magnitude()\n",
    "    for i, node in enumerate(nodes)\n",
    "    for j, other_node in enumerate(nodes)\n",
    "    if i != j\n",
    "))"
   ]
  },
  {
   "cell_type": "markdown",
   "id": "963ec8d0",
   "metadata": {},
   "source": [
    "# Day 19"
   ]
  },
  {
   "cell_type": "code",
   "execution_count": 80,
   "id": "ecaceae8",
   "metadata": {},
   "outputs": [
    {
     "name": "stdout",
     "output_type": "stream",
     "text": [
      "396\n",
      "11828\n"
     ]
    }
   ],
   "source": [
    "lines = get_input(day=19)\n",
    "scanners = []\n",
    "current_scanner = []\n",
    "for line in [x for x in lines[1:] if x]:\n",
    "    if line.startswith('--'):\n",
    "        scanners.append(np.array(current_scanner))\n",
    "        current_scanner = []\n",
    "    else:\n",
    "        current_scanner.append(tuple(map(int, line.split(','))))\n",
    "scanners.append(np.array(current_scanner))\n",
    "\n",
    "FLIPS = np.array([[x, y, z] for x in [-1, 1] for y in [-1, 1] for z in [-1, 1]])\n",
    "AXIS = np.array(list(permutations(range(3))))\n",
    "\n",
    "beacons, *scanners_left = scanners\n",
    "merged_scanners = set()\n",
    "scanner_coordinates = [(0, 0, 0)]\n",
    "\n",
    "while len(scanners_left) > len(merged_scanners):\n",
    "    for scanner_id, scanner in enumerate(scanners_left):\n",
    "        if scanner_id in merged_scanners:\n",
    "            continue\n",
    "        potential_beacons = (np.take(scanner, AXIS, axis=1)[:, None, :] * FLIPS[:, None])\n",
    "        potential_beacons = np.reshape(potential_beacons, (potential_beacons.shape[0], -1, 3))\n",
    "        potential_beacons = np.transpose(potential_beacons, (1, 0, 2))\n",
    "        offsets = beacons - potential_beacons[:, :, None, :]\n",
    "        together = np.reshape(offsets, (48, -1, 3))\n",
    "        best_counter = max([\n",
    "            (i, ) + Counter([tuple(x) for x in together[i, ...].tolist()]).most_common()[0] \n",
    "            for i in range(48)\n",
    "        ], key=lambda x: x[2])\n",
    "        if best_counter[2] >= 12:\n",
    "            beacons = np.concatenate([beacons, (potential_beacons[best_counter[0]] + best_counter[1])])\n",
    "            beacons = np.unique(beacons, axis=0)\n",
    "            merged_scanners.add(scanner_id)\n",
    "            scanner_coordinates.append(best_counter[1])\n",
    "print(len(beacons))\n",
    "\n",
    "scanner_coordinates = np.array(scanner_coordinates)\n",
    "diffs = np.abs(scanner_coordinates[:, None] - scanner_coordinates[None, :])\n",
    "print(max(np.sum(diffs.reshape(-1, 3), axis=1)))"
   ]
  },
  {
   "cell_type": "markdown",
   "id": "7973756a",
   "metadata": {},
   "source": [
    "# Day 20"
   ]
  },
  {
   "cell_type": "code",
   "execution_count": 81,
   "id": "44e79a57",
   "metadata": {},
   "outputs": [
    {
     "name": "stdout",
     "output_type": "stream",
     "text": [
      "5498\n",
      "16014\n"
     ]
    }
   ],
   "source": [
    "lines = get_input(day=20)\n",
    "decoder = np.array([1 if x == '#' else 0 for x in lines[0]])\n",
    "matrix = read_matrix([[1 if x == '#' else 0 for x in row] for row in lines[2:]], delimeter='')\n",
    "kernel = np.reshape([1 << x for x in range(8, -1, -1)], (3, 3)).astype(np.uint16)\n",
    "\n",
    "def do_step(matrix, step_index):\n",
    "    border_value = decoder[0] if step_index % 2 else decoder[511]\n",
    "    matrix = np.pad(matrix, ((2, 2), (2, 2)), constant_values=(border_value, ))\n",
    "    matrix = cv2.filter2D(matrix.astype(np.uint16), -1, kernel)\n",
    "    return decoder[matrix[1:-1, 1:-1]]\n",
    "\n",
    "for i in range(50):\n",
    "    matrix = do_step(matrix, i)\n",
    "    if i in {1, 49}:\n",
    "        print(np.sum(matrix))"
   ]
  },
  {
   "cell_type": "markdown",
   "id": "9bd99262",
   "metadata": {},
   "source": [
    "# Day 21"
   ]
  },
  {
   "cell_type": "code",
   "execution_count": 84,
   "id": "209df958",
   "metadata": {},
   "outputs": [
    {
     "name": "stdout",
     "output_type": "stream",
     "text": [
      "757770\n",
      "712381680443927\n"
     ]
    }
   ],
   "source": [
    "positions = [6, 8]\n",
    "scores = [0, 0]\n",
    "class PracticeDice:\n",
    "    def __init__(self):\n",
    "        self.rolled = 0\n",
    "        self.current = 1\n",
    "        \n",
    "    def roll(self):\n",
    "        self.rolled +=1\n",
    "        current = self.current\n",
    "        self.current = (self.current + 2) % 100 - 1\n",
    "        return current\n",
    "    \n",
    "dice = PracticeDice()\n",
    "turn = 0\n",
    "while max(scores) < 1000:\n",
    "    dice_sum = dice.roll() + dice.roll() + dice.roll()\n",
    "    positions[turn] = (positions[turn] + dice_sum - 1) % 10 + 1\n",
    "    scores[turn] += positions[turn]\n",
    "    turn = 1 - turn\n",
    "print(min(scores) * dice.rolled)\n",
    "\n",
    "DICE_SUMS_COUNTS = Counter(a + b + c for a in range(1, 4) for b in range(1, 4) for c in range(1, 4))\n",
    "\n",
    "@lru_cache(maxsize=10 * 10 * 2 * 30 * 30)\n",
    "def universe_winners(positions, scores, turn):\n",
    "    def calc_params(players, scores, turn, dice_sum):\n",
    "        players, scores = list(players), list(scores)\n",
    "        players[turn] = (players[turn] + dice_sum - 1) % 10 + 1\n",
    "        scores[turn] += players[turn]\n",
    "        return tuple(players), tuple(scores)\n",
    "    if scores[0] >= 21:\n",
    "        return [1, 0]\n",
    "    if scores[1] >= 21:\n",
    "        return [0, 1]\n",
    "    \n",
    "    winners = [0, 0]\n",
    "    for dice_sum, count in DICE_SUMS_COUNTS.items():\n",
    "        winner_counts = universe_winners(*calc_params(positions, scores, turn, dice_sum), 1 - turn)\n",
    "        winners[0] += winner_counts[0] * count\n",
    "        winners[1] += winner_counts[1] * count\n",
    "    return winners\n",
    "\n",
    "print(max(universe_winners((6, 8), (0, 0), 0)))"
   ]
  },
  {
   "cell_type": "markdown",
   "id": "903c378e",
   "metadata": {},
   "source": [
    "# Day 25"
   ]
  },
  {
   "cell_type": "code",
   "execution_count": 85,
   "id": "d322e005",
   "metadata": {},
   "outputs": [
    {
     "name": "stdout",
     "output_type": "stream",
     "text": [
      "441\n"
     ]
    }
   ],
   "source": [
    "matrix = read_matrix([\n",
    "    x.replace('.', '0').replace('>', '1').replace('v', '2')\n",
    "    for x in get_input(day=25)\n",
    "], delimeter='', dtype=np.uint8)\n",
    "\n",
    "right_kernel = np.array([[0, 0, 0], [1, 0, 10], [0, 0, 0]], dtype=np.uint8)\n",
    "down_kernel = np.array([[0, 1, 0], [0, 0, 0], [0, 10, 0]], dtype=np.uint8)\n",
    "\n",
    "def do_movement(matrix, kernel, value):\n",
    "    matrix = np.concatenate([matrix, matrix[:2]], axis=0)\n",
    "    matrix = np.concatenate([matrix, matrix[:, :2]], axis=1)\n",
    "\n",
    "    surrounding = cv2.filter2D(matrix, -1, kernel)    \n",
    "    new_matrix = np.where((matrix == 0) & (np.mod(surrounding, 10) == value), value, matrix)\n",
    "    new_matrix = np.where((matrix == value) & (surrounding < 10), 0, new_matrix)\n",
    "    \n",
    "    new_matrix[:, 0] = new_matrix[:, -2]\n",
    "    new_matrix[0, :] = new_matrix[-2, :]\n",
    "    return new_matrix[:-2, :-2]\n",
    "\n",
    "def do_step(matrix):\n",
    "    matrix = do_movement(matrix, right_kernel, 1)\n",
    "    matrix = do_movement(matrix, down_kernel, 2)\n",
    "    return matrix\n",
    "    \n",
    "step = 1\n",
    "while True:\n",
    "    new_matrix = do_step(matrix)\n",
    "    if np.all(new_matrix == matrix):\n",
    "        print(step)\n",
    "        break\n",
    "    matrix = new_matrix\n",
    "    step += 1"
   ]
  }
 ],
 "metadata": {
  "kernelspec": {
   "display_name": "Python 3 (ipykernel)",
   "language": "python",
   "name": "python3"
  },
  "language_info": {
   "codemirror_mode": {
    "name": "ipython",
    "version": 3
   },
   "file_extension": ".py",
   "mimetype": "text/x-python",
   "name": "python",
   "nbconvert_exporter": "python",
   "pygments_lexer": "ipython3",
   "version": "3.8.15"
  }
 },
 "nbformat": 4,
 "nbformat_minor": 5
}
